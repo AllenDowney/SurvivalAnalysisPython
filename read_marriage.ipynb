{
 "cells": [
  {
   "cell_type": "markdown",
   "metadata": {},
   "source": [
    "# Survival Analysis in Python\n",
    "\n",
    "Marriage and divorce data\n",
    "\n",
    "Allen B. Downey\n",
    "\n",
    "[MIT License](https://en.wikipedia.org/wiki/MIT_License)"
   ]
  },
  {
   "cell_type": "code",
   "execution_count": 1,
   "metadata": {},
   "outputs": [],
   "source": [
    "# Configure Jupyter so figures appear in the notebook\n",
    "%matplotlib inline\n",
    "\n",
    "import pandas as pd\n",
    "import numpy as np\n",
    "\n",
    "import matplotlib.pyplot as plt\n",
    "import seaborn as sns\n",
    "sns.set(style='white')\n",
    "\n",
    "import utils\n",
    "from utils import decorate\n",
    "from empyrical_dist import Pmf, Cdf, Surv, Hazard"
   ]
  },
  {
   "cell_type": "markdown",
   "metadata": {},
   "source": [
    "Read the tables from [National Survey of Family Growth](https://www.cdc.gov/nchs/nsfg/index.htm), specifically [2015-2017 NSFG: Public-Use Data Files](https://www.cdc.gov/nchs/nsfg/nsfg_2015_2017_puf.htm)\n",
    "\n",
    "[Here is the codebook](https://www.icpsr.umich.edu/icpsradmin/nsfg/index?studyNumber=10001)\n",
    "\n",
    "And here are the data files we need.\n",
    "\n",
    "[2015_2017_FemRespData.dat](ftp://ftp.cdc.gov/pub/Health_Statistics/NCHS/Datasets/NSFG/2015_2017_FemRespData.dat)\n",
    "\n",
    "[2015_2017_FemRespSetup.dct](ftp://ftp.cdc.gov/pub/Health_Statistics/NCHS/Datasets/NSFG/stata/2015_2017_FemRespSetup.dct)\n",
    "\n",
    "\n",
    "Data User's Agreement\n",
    "\n",
    "Federal law (The Public Health Service Act (Section 308 (d))) provides that these data may be used only for the purpose of health statistical reporting and analysis. Any effort to determine the identity of any person or establishment is prohibited by this law.\n",
    "\n",
    "NCHS does all it can to assure that the identity of data subjects cannot be disclosed. All direct identifiers, as well as any characteristics that might lead to identification, are omitted from the data files. In addition, some records have had one or more responses slightly modified through statistical perturbation. These modifications are intended to prevent definitive identification of individual respondents. They do not affect univariate point estimates and have a minimal effect on estimates of variance and tests of statistical significance.\n",
    "\n",
    "By downloading National Survey of Family Growth data, you signify your agreement to comply with the following legal requirements:\n",
    "\n",
    "1. To use these data for statistical reporting and analysis only;\n",
    "2. To make no use of the identity of any person or establishment discovered inadvertently and advise the Director, NCHS, of any such discovery (301-458-4500); and\n",
    "3. To not link these data with individually identifiable data from any other data set."
   ]
  },
  {
   "cell_type": "code",
   "execution_count": 2,
   "metadata": {},
   "outputs": [],
   "source": [
    "### To download the data, uncomment the following lines and run this cell\n",
    "\n",
    "# !cd data\n",
    "# !wget ftp://ftp.cdc.gov/pub/Health_Statistics/NCHS/Datasets/NSFG/2015_2017_FemRespData.dat\n",
    "# !wget ftp://ftp.cdc.gov/pub/Health_Statistics/NCHS/Datasets/NSFG/stata/2015_2017_FemRespSetup.dct\n",
    "# !cd .."
   ]
  },
  {
   "cell_type": "markdown",
   "metadata": {},
   "source": []
  },
  {
   "cell_type": "code",
   "execution_count": 3,
   "metadata": {},
   "outputs": [
    {
     "data": {
      "text/html": [
       "<div>\n",
       "<style scoped>\n",
       "    .dataframe tbody tr th:only-of-type {\n",
       "        vertical-align: middle;\n",
       "    }\n",
       "\n",
       "    .dataframe tbody tr th {\n",
       "        vertical-align: top;\n",
       "    }\n",
       "\n",
       "    .dataframe thead th {\n",
       "        text-align: right;\n",
       "    }\n",
       "</style>\n",
       "<table border=\"1\" class=\"dataframe\">\n",
       "  <thead>\n",
       "    <tr style=\"text-align: right;\">\n",
       "      <th></th>\n",
       "      <th>CASEID</th>\n",
       "      <th>RSCRNINF</th>\n",
       "      <th>RSCRAGE</th>\n",
       "      <th>RSCRHISP</th>\n",
       "      <th>RSCRRACE</th>\n",
       "      <th>AGE_A</th>\n",
       "      <th>AGE_R</th>\n",
       "      <th>AGESCRN</th>\n",
       "      <th>HISP</th>\n",
       "      <th>HISPGRP</th>\n",
       "      <th>...</th>\n",
       "      <th>SEST</th>\n",
       "      <th>CMINTVW</th>\n",
       "      <th>CMLSTYR</th>\n",
       "      <th>CMJAN3YR</th>\n",
       "      <th>CMJAN4YR</th>\n",
       "      <th>CMJAN5YR</th>\n",
       "      <th>QUARTER</th>\n",
       "      <th>PHASE</th>\n",
       "      <th>INTVWYEAR</th>\n",
       "      <th>INTVLNGTH</th>\n",
       "    </tr>\n",
       "  </thead>\n",
       "  <tbody>\n",
       "    <tr>\n",
       "      <th>0</th>\n",
       "      <td>70623</td>\n",
       "      <td>5</td>\n",
       "      <td>16</td>\n",
       "      <td>5.0</td>\n",
       "      <td>3.0</td>\n",
       "      <td>16</td>\n",
       "      <td>16</td>\n",
       "      <td>16</td>\n",
       "      <td>5</td>\n",
       "      <td>NaN</td>\n",
       "      <td>...</td>\n",
       "      <td>322</td>\n",
       "      <td>1390</td>\n",
       "      <td>1378</td>\n",
       "      <td>1345</td>\n",
       "      <td>1333</td>\n",
       "      <td>1321</td>\n",
       "      <td>17</td>\n",
       "      <td>1</td>\n",
       "      <td>2015</td>\n",
       "      <td>35.04</td>\n",
       "    </tr>\n",
       "    <tr>\n",
       "      <th>1</th>\n",
       "      <td>70624</td>\n",
       "      <td>1</td>\n",
       "      <td>40</td>\n",
       "      <td>5.0</td>\n",
       "      <td>1.0</td>\n",
       "      <td>40</td>\n",
       "      <td>40</td>\n",
       "      <td>40</td>\n",
       "      <td>5</td>\n",
       "      <td>NaN</td>\n",
       "      <td>...</td>\n",
       "      <td>331</td>\n",
       "      <td>1394</td>\n",
       "      <td>1382</td>\n",
       "      <td>1357</td>\n",
       "      <td>1345</td>\n",
       "      <td>1333</td>\n",
       "      <td>18</td>\n",
       "      <td>1</td>\n",
       "      <td>2016</td>\n",
       "      <td>61.01</td>\n",
       "    </tr>\n",
       "    <tr>\n",
       "      <th>2</th>\n",
       "      <td>70625</td>\n",
       "      <td>5</td>\n",
       "      <td>15</td>\n",
       "      <td>5.0</td>\n",
       "      <td>2.0</td>\n",
       "      <td>15</td>\n",
       "      <td>15</td>\n",
       "      <td>15</td>\n",
       "      <td>5</td>\n",
       "      <td>NaN</td>\n",
       "      <td>...</td>\n",
       "      <td>366</td>\n",
       "      <td>1402</td>\n",
       "      <td>1390</td>\n",
       "      <td>1357</td>\n",
       "      <td>1345</td>\n",
       "      <td>1333</td>\n",
       "      <td>21</td>\n",
       "      <td>1</td>\n",
       "      <td>2016</td>\n",
       "      <td>40.35</td>\n",
       "    </tr>\n",
       "    <tr>\n",
       "      <th>3</th>\n",
       "      <td>70627</td>\n",
       "      <td>1</td>\n",
       "      <td>35</td>\n",
       "      <td>5.0</td>\n",
       "      <td>3.0</td>\n",
       "      <td>35</td>\n",
       "      <td>35</td>\n",
       "      <td>35</td>\n",
       "      <td>5</td>\n",
       "      <td>NaN</td>\n",
       "      <td>...</td>\n",
       "      <td>322</td>\n",
       "      <td>1394</td>\n",
       "      <td>1382</td>\n",
       "      <td>1357</td>\n",
       "      <td>1345</td>\n",
       "      <td>1333</td>\n",
       "      <td>18</td>\n",
       "      <td>1</td>\n",
       "      <td>2016</td>\n",
       "      <td>64.79</td>\n",
       "    </tr>\n",
       "    <tr>\n",
       "      <th>4</th>\n",
       "      <td>70628</td>\n",
       "      <td>1</td>\n",
       "      <td>28</td>\n",
       "      <td>5.0</td>\n",
       "      <td>2.0</td>\n",
       "      <td>28</td>\n",
       "      <td>28</td>\n",
       "      <td>28</td>\n",
       "      <td>5</td>\n",
       "      <td>NaN</td>\n",
       "      <td>...</td>\n",
       "      <td>366</td>\n",
       "      <td>1409</td>\n",
       "      <td>1397</td>\n",
       "      <td>1369</td>\n",
       "      <td>1357</td>\n",
       "      <td>1345</td>\n",
       "      <td>23</td>\n",
       "      <td>1</td>\n",
       "      <td>2017</td>\n",
       "      <td>77.86</td>\n",
       "    </tr>\n",
       "  </tbody>\n",
       "</table>\n",
       "<p>5 rows × 3024 columns</p>\n",
       "</div>"
      ],
      "text/plain": [
       "   CASEID  RSCRNINF  RSCRAGE  RSCRHISP  RSCRRACE  AGE_A  AGE_R  AGESCRN  HISP  \\\n",
       "0   70623         5       16       5.0       3.0     16     16       16     5   \n",
       "1   70624         1       40       5.0       1.0     40     40       40     5   \n",
       "2   70625         5       15       5.0       2.0     15     15       15     5   \n",
       "3   70627         1       35       5.0       3.0     35     35       35     5   \n",
       "4   70628         1       28       5.0       2.0     28     28       28     5   \n",
       "\n",
       "   HISPGRP  ...  SEST  CMINTVW  CMLSTYR  CMJAN3YR  CMJAN4YR  CMJAN5YR  \\\n",
       "0      NaN  ...   322     1390     1378      1345      1333      1321   \n",
       "1      NaN  ...   331     1394     1382      1357      1345      1333   \n",
       "2      NaN  ...   366     1402     1390      1357      1345      1333   \n",
       "3      NaN  ...   322     1394     1382      1357      1345      1333   \n",
       "4      NaN  ...   366     1409     1397      1369      1357      1345   \n",
       "\n",
       "   QUARTER  PHASE  INTVWYEAR  INTVLNGTH  \n",
       "0       17      1       2015      35.04  \n",
       "1       18      1       2016      61.01  \n",
       "2       21      1       2016      40.35  \n",
       "3       18      1       2016      64.79  \n",
       "4       23      1       2017      77.86  \n",
       "\n",
       "[5 rows x 3024 columns]"
      ]
     },
     "execution_count": 3,
     "metadata": {},
     "output_type": "execute_result"
    }
   ],
   "source": [
    "df = utils.read_stata('data/2015_2017_FemRespSetup.dct', 'data/2015_2017_FemRespData.dat')\n",
    "df.head()"
   ]
  },
  {
   "cell_type": "markdown",
   "metadata": {},
   "source": []
  },
  {
   "cell_type": "code",
   "execution_count": 4,
   "metadata": {},
   "outputs": [
    {
     "data": {
      "text/html": [
       "<div>\n",
       "<style scoped>\n",
       "    .dataframe tbody tr th:only-of-type {\n",
       "        vertical-align: middle;\n",
       "    }\n",
       "\n",
       "    .dataframe tbody tr th {\n",
       "        vertical-align: top;\n",
       "    }\n",
       "\n",
       "    .dataframe thead th {\n",
       "        text-align: right;\n",
       "    }\n",
       "</style>\n",
       "<table border=\"1\" class=\"dataframe\">\n",
       "  <thead>\n",
       "    <tr style=\"text-align: right;\">\n",
       "      <th></th>\n",
       "      <th>CASEID</th>\n",
       "      <th>RSCRNINF</th>\n",
       "      <th>RSCRAGE</th>\n",
       "      <th>RSCRHISP</th>\n",
       "      <th>RSCRRACE</th>\n",
       "      <th>AGE_A</th>\n",
       "      <th>AGE_R</th>\n",
       "      <th>AGESCRN</th>\n",
       "      <th>HISP</th>\n",
       "      <th>HISPGRP</th>\n",
       "      <th>...</th>\n",
       "      <th>SEST</th>\n",
       "      <th>CMINTVW</th>\n",
       "      <th>CMLSTYR</th>\n",
       "      <th>CMJAN3YR</th>\n",
       "      <th>CMJAN4YR</th>\n",
       "      <th>CMJAN5YR</th>\n",
       "      <th>QUARTER</th>\n",
       "      <th>PHASE</th>\n",
       "      <th>INTVWYEAR</th>\n",
       "      <th>INTVLNGTH</th>\n",
       "    </tr>\n",
       "  </thead>\n",
       "  <tbody>\n",
       "    <tr>\n",
       "      <th>0</th>\n",
       "      <td>70623</td>\n",
       "      <td>5</td>\n",
       "      <td>16</td>\n",
       "      <td>5.0</td>\n",
       "      <td>3.0</td>\n",
       "      <td>16</td>\n",
       "      <td>16</td>\n",
       "      <td>16</td>\n",
       "      <td>5</td>\n",
       "      <td>NaN</td>\n",
       "      <td>...</td>\n",
       "      <td>322</td>\n",
       "      <td>1390</td>\n",
       "      <td>1378</td>\n",
       "      <td>1345</td>\n",
       "      <td>1333</td>\n",
       "      <td>1321</td>\n",
       "      <td>17</td>\n",
       "      <td>1</td>\n",
       "      <td>2015</td>\n",
       "      <td>35.04</td>\n",
       "    </tr>\n",
       "    <tr>\n",
       "      <th>1</th>\n",
       "      <td>70624</td>\n",
       "      <td>1</td>\n",
       "      <td>40</td>\n",
       "      <td>5.0</td>\n",
       "      <td>1.0</td>\n",
       "      <td>40</td>\n",
       "      <td>40</td>\n",
       "      <td>40</td>\n",
       "      <td>5</td>\n",
       "      <td>NaN</td>\n",
       "      <td>...</td>\n",
       "      <td>331</td>\n",
       "      <td>1394</td>\n",
       "      <td>1382</td>\n",
       "      <td>1357</td>\n",
       "      <td>1345</td>\n",
       "      <td>1333</td>\n",
       "      <td>18</td>\n",
       "      <td>1</td>\n",
       "      <td>2016</td>\n",
       "      <td>61.01</td>\n",
       "    </tr>\n",
       "    <tr>\n",
       "      <th>2</th>\n",
       "      <td>70625</td>\n",
       "      <td>5</td>\n",
       "      <td>15</td>\n",
       "      <td>5.0</td>\n",
       "      <td>2.0</td>\n",
       "      <td>15</td>\n",
       "      <td>15</td>\n",
       "      <td>15</td>\n",
       "      <td>5</td>\n",
       "      <td>NaN</td>\n",
       "      <td>...</td>\n",
       "      <td>366</td>\n",
       "      <td>1402</td>\n",
       "      <td>1390</td>\n",
       "      <td>1357</td>\n",
       "      <td>1345</td>\n",
       "      <td>1333</td>\n",
       "      <td>21</td>\n",
       "      <td>1</td>\n",
       "      <td>2016</td>\n",
       "      <td>40.35</td>\n",
       "    </tr>\n",
       "    <tr>\n",
       "      <th>3</th>\n",
       "      <td>70627</td>\n",
       "      <td>1</td>\n",
       "      <td>35</td>\n",
       "      <td>5.0</td>\n",
       "      <td>3.0</td>\n",
       "      <td>35</td>\n",
       "      <td>35</td>\n",
       "      <td>35</td>\n",
       "      <td>5</td>\n",
       "      <td>NaN</td>\n",
       "      <td>...</td>\n",
       "      <td>322</td>\n",
       "      <td>1394</td>\n",
       "      <td>1382</td>\n",
       "      <td>1357</td>\n",
       "      <td>1345</td>\n",
       "      <td>1333</td>\n",
       "      <td>18</td>\n",
       "      <td>1</td>\n",
       "      <td>2016</td>\n",
       "      <td>64.79</td>\n",
       "    </tr>\n",
       "    <tr>\n",
       "      <th>4</th>\n",
       "      <td>70628</td>\n",
       "      <td>1</td>\n",
       "      <td>28</td>\n",
       "      <td>5.0</td>\n",
       "      <td>2.0</td>\n",
       "      <td>28</td>\n",
       "      <td>28</td>\n",
       "      <td>28</td>\n",
       "      <td>5</td>\n",
       "      <td>NaN</td>\n",
       "      <td>...</td>\n",
       "      <td>366</td>\n",
       "      <td>1409</td>\n",
       "      <td>1397</td>\n",
       "      <td>1369</td>\n",
       "      <td>1357</td>\n",
       "      <td>1345</td>\n",
       "      <td>23</td>\n",
       "      <td>1</td>\n",
       "      <td>2017</td>\n",
       "      <td>77.86</td>\n",
       "    </tr>\n",
       "  </tbody>\n",
       "</table>\n",
       "<p>5 rows × 3024 columns</p>\n",
       "</div>"
      ],
      "text/plain": [
       "   CASEID  RSCRNINF  RSCRAGE  RSCRHISP  RSCRRACE  AGE_A  AGE_R  AGESCRN  HISP  \\\n",
       "0   70623         5       16       5.0       3.0     16     16       16     5   \n",
       "1   70624         1       40       5.0       1.0     40     40       40     5   \n",
       "2   70625         5       15       5.0       2.0     15     15       15     5   \n",
       "3   70627         1       35       5.0       3.0     35     35       35     5   \n",
       "4   70628         1       28       5.0       2.0     28     28       28     5   \n",
       "\n",
       "   HISPGRP  ...  SEST  CMINTVW  CMLSTYR  CMJAN3YR  CMJAN4YR  CMJAN5YR  \\\n",
       "0      NaN  ...   322     1390     1378      1345      1333      1321   \n",
       "1      NaN  ...   331     1394     1382      1357      1345      1333   \n",
       "2      NaN  ...   366     1402     1390      1357      1345      1333   \n",
       "3      NaN  ...   322     1394     1382      1357      1345      1333   \n",
       "4      NaN  ...   366     1409     1397      1369      1357      1345   \n",
       "\n",
       "   QUARTER  PHASE  INTVWYEAR  INTVLNGTH  \n",
       "0       17      1       2015      35.04  \n",
       "1       18      1       2016      61.01  \n",
       "2       21      1       2016      40.35  \n",
       "3       18      1       2016      64.79  \n",
       "4       23      1       2017      77.86  \n",
       "\n",
       "[5 rows x 3024 columns]"
      ]
     },
     "execution_count": 4,
     "metadata": {},
     "output_type": "execute_result"
    }
   ],
   "source": [
    "df.head()"
   ]
  },
  {
   "cell_type": "markdown",
   "metadata": {},
   "source": []
  },
  {
   "cell_type": "code",
   "execution_count": 5,
   "metadata": {
    "scrolled": true
   },
   "outputs": [
    {
     "data": {
      "image/png": "[encoded data removed]",
      "text/plain": [
       "<Figure size 432x288 with 1 Axes>"
      ]
     },
     "metadata": {
      "needs_background": "light"
     },
     "output_type": "display_data"
    }
   ],
   "source": [
    "Cdf.from_seq(df['CMINTVW']).plot()"
   ]
  },
  {
   "cell_type": "code",
   "execution_count": 6,
   "metadata": {
    "scrolled": true
   },
   "outputs": [
    {
     "data": {
      "image/png": "[encoded data removed]",
      "text/plain": [
       "<Figure size 432x288 with 1 Axes>"
      ]
     },
     "metadata": {
      "needs_background": "light"
     },
     "output_type": "display_data"
    }
   ],
   "source": [
    "Cdf.from_seq(df['AGER']).plot()"
   ]
  },
  {
   "cell_type": "code",
   "execution_count": 7,
   "metadata": {
    "scrolled": true
   },
   "outputs": [
    {
     "data": {
      "image/png": "[encoded data removed]",
      "text/plain": [
       "<Figure size 432x288 with 1 Axes>"
      ]
     },
     "metadata": {
      "needs_background": "light"
     },
     "output_type": "display_data"
    }
   ],
   "source": [
    "Cdf.from_seq(df['FMAR1AGE']).plot()"
   ]
  },
  {
   "cell_type": "code",
   "execution_count": 8,
   "metadata": {
    "scrolled": true
   },
   "outputs": [
    {
     "data": {
      "image/png": "[encoded data removed]",
      "text/plain": [
       "<Figure size 432x288 with 1 Axes>"
      ]
     },
     "metadata": {
      "needs_background": "light"
     },
     "output_type": "display_data"
    }
   ],
   "source": [
    "Cdf.from_seq(df['AGEDISS1']).plot()"
   ]
  },
  {
   "cell_type": "code",
   "execution_count": 9,
   "metadata": {},
   "outputs": [],
   "source": [
    "nsfg = pd.DataFrame(index=df.index)"
   ]
  },
  {
   "cell_type": "code",
   "execution_count": 10,
   "metadata": {},
   "outputs": [],
   "source": [
    "nsfg['cmintvw'] = df['CMINTVW']"
   ]
  },
  {
   "cell_type": "markdown",
   "metadata": {},
   "source": []
  },
  {
   "cell_type": "code",
   "execution_count": 11,
   "metadata": {},
   "outputs": [],
   "source": [
    "np.random.seed(17)\n",
    "def jitter_age(age):\n",
    "    return age*12 + np.random.randint(0, 12, size=len(age))"
   ]
  },
  {
   "cell_type": "code",
   "execution_count": 12,
   "metadata": {
    "scrolled": true
   },
   "outputs": [],
   "source": [
    "nsfg['cmbirth'] = df['CMINTVW'] - jitter_age(df['AGER']) "
   ]
  },
  {
   "cell_type": "code",
   "execution_count": 13,
   "metadata": {
    "scrolled": true
   },
   "outputs": [],
   "source": [
    "nsfg['cmmarr1'] = nsfg['cmbirth'] + jitter_age(df['FMAR1AGE'])"
   ]
  },
  {
   "cell_type": "code",
   "execution_count": 14,
   "metadata": {
    "scrolled": true
   },
   "outputs": [],
   "source": [
    "nsfg['cmdiss1'] = nsfg['cmbirth'] + jitter_age(df['AGEDISS1'])"
   ]
  },
  {
   "cell_type": "code",
   "execution_count": 15,
   "metadata": {
    "scrolled": true
   },
   "outputs": [
    {
     "data": {
      "text/html": [
       "<div>\n",
       "<style scoped>\n",
       "    .dataframe tbody tr th:only-of-type {\n",
       "        vertical-align: middle;\n",
       "    }\n",
       "\n",
       "    .dataframe tbody tr th {\n",
       "        vertical-align: top;\n",
       "    }\n",
       "\n",
       "    .dataframe thead th {\n",
       "        text-align: right;\n",
       "    }\n",
       "</style>\n",
       "<table border=\"1\" class=\"dataframe\">\n",
       "  <thead>\n",
       "    <tr style=\"text-align: right;\">\n",
       "      <th></th>\n",
       "      <th>cmintvw</th>\n",
       "      <th>cmbirth</th>\n",
       "      <th>cmmarr1</th>\n",
       "      <th>cmdiss1</th>\n",
       "    </tr>\n",
       "  </thead>\n",
       "  <tbody>\n",
       "    <tr>\n",
       "      <th>0</th>\n",
       "      <td>1390</td>\n",
       "      <td>1197</td>\n",
       "      <td>NaN</td>\n",
       "      <td>NaN</td>\n",
       "    </tr>\n",
       "    <tr>\n",
       "      <th>1</th>\n",
       "      <td>1394</td>\n",
       "      <td>908</td>\n",
       "      <td>1252.0</td>\n",
       "      <td>1282.0</td>\n",
       "    </tr>\n",
       "    <tr>\n",
       "      <th>2</th>\n",
       "      <td>1402</td>\n",
       "      <td>1216</td>\n",
       "      <td>NaN</td>\n",
       "      <td>NaN</td>\n",
       "    </tr>\n",
       "    <tr>\n",
       "      <th>3</th>\n",
       "      <td>1394</td>\n",
       "      <td>965</td>\n",
       "      <td>1309.0</td>\n",
       "      <td>NaN</td>\n",
       "    </tr>\n",
       "    <tr>\n",
       "      <th>4</th>\n",
       "      <td>1409</td>\n",
       "      <td>1073</td>\n",
       "      <td>1340.0</td>\n",
       "      <td>NaN</td>\n",
       "    </tr>\n",
       "  </tbody>\n",
       "</table>\n",
       "</div>"
      ],
      "text/plain": [
       "   cmintvw  cmbirth  cmmarr1  cmdiss1\n",
       "0     1390     1197      NaN      NaN\n",
       "1     1394      908   1252.0   1282.0\n",
       "2     1402     1216      NaN      NaN\n",
       "3     1394      965   1309.0      NaN\n",
       "4     1409     1073   1340.0      NaN"
      ]
     },
     "execution_count": 15,
     "metadata": {},
     "output_type": "execute_result"
    }
   ],
   "source": [
    "nsfg.head()"
   ]
  },
  {
   "cell_type": "code",
   "execution_count": 16,
   "metadata": {},
   "outputs": [
    {
     "data": {
      "text/plain": [
       "cmintvw    1395.0\n",
       "cmbirth    1074.0\n",
       "cmmarr1    1385.0\n",
       "cmdiss1       NaN\n",
       "Name: 12, dtype: float64"
      ]
     },
     "execution_count": 16,
     "metadata": {},
     "output_type": "execute_result"
    }
   ],
   "source": [
    "nsfg.loc[12]"
   ]
  },
  {
   "cell_type": "code",
   "execution_count": 17,
   "metadata": {},
   "outputs": [
    {
     "data": {
      "text/plain": [
       "CMINTVW     1395.0\n",
       "AGER          26.0\n",
       "FMAR1AGE      25.0\n",
       "Name: 12, dtype: float64"
      ]
     },
     "execution_count": 17,
     "metadata": {},
     "output_type": "execute_result"
    }
   ],
   "source": [
    "df.loc[12, ['CMINTVW', 'AGER', 'FMAR1AGE']]"
   ]
  },
  {
   "cell_type": "code",
   "execution_count": 18,
   "metadata": {},
   "outputs": [],
   "source": [
    "nsfg.to_hdf('data/nsfg.hd5', 'nsfg')"
   ]
  },
  {
   "cell_type": "code",
   "execution_count": 19,
   "metadata": {},
   "outputs": [
    {
     "data": {
      "text/html": [
       "<div>\n",
       "<style scoped>\n",
       "    .dataframe tbody tr th:only-of-type {\n",
       "        vertical-align: middle;\n",
       "    }\n",
       "\n",
       "    .dataframe tbody tr th {\n",
       "        vertical-align: top;\n",
       "    }\n",
       "\n",
       "    .dataframe thead th {\n",
       "        text-align: right;\n",
       "    }\n",
       "</style>\n",
       "<table border=\"1\" class=\"dataframe\">\n",
       "  <thead>\n",
       "    <tr style=\"text-align: right;\">\n",
       "      <th></th>\n",
       "      <th>cmintvw</th>\n",
       "      <th>cmbirth</th>\n",
       "      <th>cmmarr1</th>\n",
       "      <th>cmdiss1</th>\n",
       "    </tr>\n",
       "  </thead>\n",
       "  <tbody>\n",
       "    <tr>\n",
       "      <th>0</th>\n",
       "      <td>1390</td>\n",
       "      <td>1197</td>\n",
       "      <td>NaN</td>\n",
       "      <td>NaN</td>\n",
       "    </tr>\n",
       "    <tr>\n",
       "      <th>1</th>\n",
       "      <td>1394</td>\n",
       "      <td>908</td>\n",
       "      <td>1252.0</td>\n",
       "      <td>1282.0</td>\n",
       "    </tr>\n",
       "    <tr>\n",
       "      <th>2</th>\n",
       "      <td>1402</td>\n",
       "      <td>1216</td>\n",
       "      <td>NaN</td>\n",
       "      <td>NaN</td>\n",
       "    </tr>\n",
       "    <tr>\n",
       "      <th>3</th>\n",
       "      <td>1394</td>\n",
       "      <td>965</td>\n",
       "      <td>1309.0</td>\n",
       "      <td>NaN</td>\n",
       "    </tr>\n",
       "    <tr>\n",
       "      <th>4</th>\n",
       "      <td>1409</td>\n",
       "      <td>1073</td>\n",
       "      <td>1340.0</td>\n",
       "      <td>NaN</td>\n",
       "    </tr>\n",
       "  </tbody>\n",
       "</table>\n",
       "</div>"
      ],
      "text/plain": [
       "   cmintvw  cmbirth  cmmarr1  cmdiss1\n",
       "0     1390     1197      NaN      NaN\n",
       "1     1394      908   1252.0   1282.0\n",
       "2     1402     1216      NaN      NaN\n",
       "3     1394      965   1309.0      NaN\n",
       "4     1409     1073   1340.0      NaN"
      ]
     },
     "execution_count": 19,
     "metadata": {},
     "output_type": "execute_result"
    }
   ],
   "source": [
    "nsfg = pd.read_hdf('data/nsfg.hd5', 'nsfg')\n",
    "nsfg.head()"
   ]
  },
  {
   "cell_type": "code",
   "execution_count": null,
   "metadata": {},
   "outputs": [],
   "source": []
  }
 ],
 "metadata": {
  "kernelspec": {
   "display_name": "Python 3",
   "language": "python",
   "name": "python3"
  },
  "language_info": {
   "codemirror_mode": {
    "name": "ipython",
    "version": 3
   },
   "file_extension": ".py",
   "mimetype": "text/x-python",
   "name": "python",
   "nbconvert_exporter": "python",
   "pygments_lexer": "ipython3",
   "version": "3.7.3"
  }
 },
 "nbformat": 4,
 "nbformat_minor": 2
}
