{
 "cells": [
  {
   "cell_type": "markdown",
   "metadata": {},
   "source": [
    "# Kaplan-Meier Estimation"
   ]
  },
  {
   "cell_type": "markdown",
   "metadata": {},
   "source": [
    "[Run this notebook on Colab](https://colab.research.google.com/github/AllenDowney/SurvivalAnalysisPython/blob/master/02_kaplan_meier.ipynb)"
   ]
  },
  {
   "cell_type": "markdown",
   "metadata": {},
   "source": [
    "This notebook introduces Kaplan-Meier estimation, a way to estimate a hazard function when the dataset includes both complete and incomplete cases.\n",
    "To demonstrate, I'll use a small set of hypothetical data.  "
   ]
  },
  {
   "cell_type": "markdown",
   "metadata": {},
   "source": [
    "## Dog adoption data\n",
    "\n",
    "Suppose you are investigating the time it takes for dogs to get adopted from a shelter.  You visit a shelter every week for 10 weeks, and record the arrival time for each dog and the adoption time for each dog that was adopted.\n",
    "\n",
    "Here's what the data might look like.  "
   ]
  },
  {
   "cell_type": "code",
   "execution_count": null,
   "metadata": {},
   "outputs": [],
   "source": [
    "import pandas as pd\n",
    "import numpy as np\n",
    "import matplotlib.pyplot as plt"
   ]
  },
  {
   "cell_type": "code",
   "execution_count": null,
   "metadata": {},
   "outputs": [],
   "source": [
    "obs = pd.DataFrame()\n",
    "\n",
    "obs['start'] = 0,1,2,2,4,6,7\n",
    "obs['end'] = 5,2,6,9,9,8,9\n",
    "obs['status'] = 1,1,1,0,0,1,0\n",
    "\n",
    "obs"
   ]
  },
  {
   "cell_type": "markdown",
   "metadata": {},
   "source": [
    "This `DataFrame` contains one row for each dog and three columns:\n",
    "\n",
    "* `start`: arrival time, in weeks since the beginning of the study\n",
    "\n",
    "* `end`: adoption date, for dogs that were adopted, or `9` for dogs that had not been adopted at the end of the study\n",
    "\n",
    "* `status`: `1` for dogs that were adopted; `0` for dogs that were not."
   ]
  },
  {
   "cell_type": "markdown",
   "metadata": {},
   "source": [
    "## Plotting lifelines\n",
    "\n",
    "The following function visualizes the data."
   ]
  },
  {
   "cell_type": "code",
   "execution_count": null,
   "metadata": {},
   "outputs": [],
   "source": [
    "def plot_lifelines(obs):\n",
    "    \"\"\"Plot a line for each observation.\n",
    "    \n",
    "    obs: DataFrame\n",
    "    \"\"\"\n",
    "    for y, row in obs.iterrows():\n",
    "        start = row['start']\n",
    "        end = row['end']\n",
    "        status = row['status']\n",
    "        \n",
    "        if status == 0:\n",
    "            # ongoing\n",
    "            plt.hlines(y, start, end, color='C0')\n",
    "        else:\n",
    "            # complete\n",
    "            plt.hlines(y, start, end, color='C1')\n",
    "            plt.plot(end, y, marker='o', color='C1')\n",
    "            \n",
    "    plt.xlabel('Time (weeks)')\n",
    "    plt.ylabel('Dog index')\n",
    "    plt.gca().invert_yaxis()"
   ]
  },
  {
   "cell_type": "markdown",
   "metadata": {},
   "source": [
    "Here are the results:"
   ]
  },
  {
   "cell_type": "code",
   "execution_count": null,
   "metadata": {},
   "outputs": [],
   "source": [
    "plot_lifelines(obs)"
   ]
  },
  {
   "cell_type": "markdown",
   "metadata": {},
   "source": [
    "Each line represents the time a dog spends at the shelter. Each dot represents an adoption.\n",
    "We can see, for example:\n",
    "\n",
    "* The dog with index 0 arrived during week 0, and was adopted during week 5.\n",
    "\n",
    "* The dog with index 3 arrived during week 2, and had not been adopted at the end of week 9.\n"
   ]
  },
  {
   "cell_type": "markdown",
   "metadata": {},
   "source": [
    "## Estimating survival\n",
    "\n",
    "Now suppose we want to know the distribution of \"survival time\" from arrival to adoption.\n",
    "For the dogs that were adopted, we have all the data we need.  \n",
    "For the others, we have only partial information: if a dog hasn't been adopted yet, we don't know when it will be, but we can put a lower bound on it.\n",
    "\n",
    "When we have a mixture of complete and incomplete observations -- adopted and unadopted dogs -- we can't compute the Survival function directly.\n",
    "Instead, we have to work backwards: we estimate the hazard function first, then use it to compute the survival function, CDF, and PMF.\n",
    "\n",
    "Specifically, we'll use Kaplan-Meier estimation, which is based on two key ideas.\n",
    "\n",
    "The first idea is that we can ignore the arrival time in the observed data, and consider only the durations.  In effect, we can take the actual lifelines and shift them so they all start at 0, like this:"
   ]
  },
  {
   "cell_type": "code",
   "execution_count": null,
   "metadata": {
    "tags": [
     "fill-in"
    ]
   },
   "outputs": [],
   "source": [
    "duration = obs['end'] - obs['start']"
   ]
  },
  {
   "cell_type": "code",
   "execution_count": null,
   "metadata": {
    "tags": [
     "fill-in"
    ]
   },
   "outputs": [],
   "source": [
    "shifted = obs.copy()\n",
    "shifted['start'] = 0\n",
    "shifted['end'] = duration"
   ]
  },
  {
   "cell_type": "code",
   "execution_count": null,
   "metadata": {
    "tags": [
     "fill-in"
    ]
   },
   "outputs": [],
   "source": [
    "plot_lifelines(shifted)\n",
    "plt.xlabel('Duration (weeks)');"
   ]
  },
  {
   "cell_type": "markdown",
   "metadata": {},
   "source": [
    "Notice that the x-axis in this figure is duration, not time.\n",
    "\n",
    "The second key idea is that we can estimate the hazard function by considering:\n",
    "\n",
    "* The number of dogs adopted at each duration, divided by\n",
    "\n",
    "* The number of dogs \"at risk\" at each duration, where \"at risk\" means that they *could* be adopted.\n",
    "\n",
    "For example:\n",
    "\n",
    "* At duration 1, there is 1 adoption out of 7 dogs at risk, so the hazard rate is `1/7`.\n",
    "\n",
    "* At duration 2, there is 1 adoption out of 6 dogs at risk, so the hazard rate is `1/6`.\n",
    "\n",
    "* At duration 4, there is 1 adoption out of 4 dogs at risk, so the hazard rate is `1/4`.\n",
    "\n",
    "And so on. Now let's see how that works computationally."
   ]
  },
  {
   "cell_type": "markdown",
   "metadata": {},
   "source": [
    "## Estimating the hazard function\n",
    "\n",
    "First I'll select the durations of the complete and ongoing cases."
   ]
  },
  {
   "cell_type": "code",
   "execution_count": null,
   "metadata": {
    "tags": [
     "fill-in"
    ]
   },
   "outputs": [],
   "source": [
    "complete = duration[obs['status']==1]\n",
    "complete"
   ]
  },
  {
   "cell_type": "code",
   "execution_count": null,
   "metadata": {
    "tags": [
     "fill-in"
    ]
   },
   "outputs": [],
   "source": [
    "ongoing = duration[obs['status']==0]\n",
    "ongoing"
   ]
  },
  {
   "cell_type": "markdown",
   "metadata": {},
   "source": [
    "Now I'll compute the PMF for complete and ongoing cases: "
   ]
  },
  {
   "cell_type": "code",
   "execution_count": null,
   "metadata": {},
   "outputs": [],
   "source": [
    "def make_pmf(sample):\n",
    "    return pd.Series(sample).value_counts().sort_index()"
   ]
  },
  {
   "cell_type": "code",
   "execution_count": null,
   "metadata": {
    "tags": [
     "fill-in"
    ]
   },
   "outputs": [],
   "source": [
    "pmf_complete = make_pmf(complete)\n",
    "pmf_complete"
   ]
  },
  {
   "cell_type": "code",
   "execution_count": null,
   "metadata": {
    "tags": [
     "fill-in"
    ]
   },
   "outputs": [],
   "source": [
    "pmf_ongoing = make_pmf(ongoing)\n",
    "pmf_ongoing"
   ]
  },
  {
   "cell_type": "markdown",
   "metadata": {},
   "source": [
    "Here's what the PMFs look like in a table."
   ]
  },
  {
   "cell_type": "code",
   "execution_count": null,
   "metadata": {
    "tags": [
     "fill-in"
    ]
   },
   "outputs": [],
   "source": [
    "d = dict(pmf_complete=pmf_complete, \n",
    "         pmf_ongoing=pmf_ongoing)"
   ]
  },
  {
   "cell_type": "code",
   "execution_count": null,
   "metadata": {
    "tags": [
     "fill-in"
    ]
   },
   "outputs": [],
   "source": [
    "index = pmf_complete.index.union(pmf_ongoing.index)"
   ]
  },
  {
   "cell_type": "code",
   "execution_count": null,
   "metadata": {
    "tags": [
     "fill-in"
    ]
   },
   "outputs": [],
   "source": [
    "df = pd.DataFrame(d, index=index).fillna(0)\n",
    "df"
   ]
  },
  {
   "cell_type": "markdown",
   "metadata": {},
   "source": [
    "This table indicates that one dog was adopted at 1 week, another dog was adopted at 2 weeks, and a third dog was observed, unadopted, having been in the shelter for 2 weeks.\n",
    "\n",
    "We can use the PMFs to compute survival functions for the two groups:"
   ]
  },
  {
   "cell_type": "code",
   "execution_count": null,
   "metadata": {},
   "outputs": [],
   "source": [
    "def make_surv(pmf):\n",
    "    cdf = pmf.cumsum()\n",
    "    return pmf.sum() - cdf"
   ]
  },
  {
   "cell_type": "code",
   "execution_count": null,
   "metadata": {
    "tags": [
     "fill-in"
    ]
   },
   "outputs": [],
   "source": [
    "df['s_complete'] = make_surv(df['pmf_complete'])\n",
    "df['s_ongoing'] = make_surv(df['pmf_ongoing'])\n",
    "df"
   ]
  },
  {
   "cell_type": "markdown",
   "metadata": {},
   "source": [
    "The first row of this table indicates that 3 of the adopted dogs and 3 of the unadopted dogs were in the shelter for more than 1 week.\n",
    "\n",
    "We can use this table to compute the number of dogs \"at risk\" at each duration, `t`, which is the sum of:\n",
    "\n",
    "1) The number cases that end at `t`, which is `pmf_complete`.\n",
    "\n",
    "2) The number of ongoing cases observed at `t`, which is `pmf_ongoing`,\n",
    "\n",
    "3) The number of complete cases that survive past `t`, which is `s_complete`.\n",
    "\n",
    "4) The number of ongoing cases that survive past `t`, which is `s_complete`.\n",
    "\n",
    "Here's what that looks like."
   ]
  },
  {
   "cell_type": "code",
   "execution_count": null,
   "metadata": {
    "tags": [
     "fill-in"
    ]
   },
   "outputs": [],
   "source": [
    "df['at_risk'] = df.sum(axis=1)\n",
    "df"
   ]
  },
  {
   "cell_type": "markdown",
   "metadata": {},
   "source": [
    "\n",
    "\n",
    "Finally, the hazard function is the ratio of `pmf_complete` and `at_risk`:"
   ]
  },
  {
   "cell_type": "code",
   "execution_count": null,
   "metadata": {
    "tags": [
     "fill-in"
    ]
   },
   "outputs": [],
   "source": [
    "df['hazard'] = df['pmf_complete'] / df['at_risk']\n",
    "df"
   ]
  },
  {
   "cell_type": "markdown",
   "metadata": {},
   "source": [
    "## Working backwards\n",
    "\n",
    "Given the hazard function, we can work backwards to compute the survival curve.\n",
    "\n",
    "The hazard function is the probability of being adopted at each duration, so its complement is the probability of *not* being adopted. \n",
    "\n",
    "In order to survive past `t`, a dog has to *not* be adopted at all durations up to and including `t`.\n",
    "\n",
    "So the survival function is the cumulative product of the complement of the hazard function."
   ]
  },
  {
   "cell_type": "code",
   "execution_count": null,
   "metadata": {
    "tags": [
     "fill-in"
    ]
   },
   "outputs": [],
   "source": [
    "df['surv'] = (1 - df['hazard']).cumprod()\n",
    "df"
   ]
  },
  {
   "cell_type": "markdown",
   "metadata": {},
   "source": [
    "The CDF is the complement of the survival function."
   ]
  },
  {
   "cell_type": "code",
   "execution_count": null,
   "metadata": {
    "tags": [
     "fill-in"
    ]
   },
   "outputs": [],
   "source": [
    "df['cdf'] = 1 - df['surv']\n",
    "df"
   ]
  },
  {
   "cell_type": "markdown",
   "metadata": {},
   "source": [
    "And the PMF is the difference between adjacent elements of the CDF."
   ]
  },
  {
   "cell_type": "code",
   "execution_count": null,
   "metadata": {
    "tags": [
     "fill-in"
    ]
   },
   "outputs": [],
   "source": [
    "df['pmf'] = np.diff(df['cdf'], prepend=0)\n",
    "df"
   ]
  },
  {
   "cell_type": "markdown",
   "metadata": {},
   "source": [
    "## lifelines\n",
    "\n",
    "Kaplan-Meier estimation is available in a library called `lifelines`.\n",
    "First I'll import it and create a `KaplanMeierFitter`."
   ]
  },
  {
   "cell_type": "code",
   "execution_count": null,
   "metadata": {},
   "outputs": [],
   "source": [
    "# If we're running in Colab, install lifelines\n",
    "\n",
    "import sys\n",
    "IN_COLAB = 'google.colab' in sys.modules\n",
    "\n",
    "if IN_COLAB:\n",
    "    !pip install lifelines"
   ]
  },
  {
   "cell_type": "code",
   "execution_count": null,
   "metadata": {
    "tags": [
     "fill-in"
    ]
   },
   "outputs": [],
   "source": [
    "from lifelines import KaplanMeierFitter\n",
    "kmf = KaplanMeierFitter()"
   ]
  },
  {
   "cell_type": "markdown",
   "metadata": {},
   "source": [
    "Now we need two sequences, the durations, including complete and ongoing cases."
   ]
  },
  {
   "cell_type": "code",
   "execution_count": null,
   "metadata": {
    "tags": [
     "fill-in"
    ]
   },
   "outputs": [],
   "source": [
    "T = shifted['end']\n",
    "T"
   ]
  },
  {
   "cell_type": "markdown",
   "metadata": {},
   "source": [
    "And an event flag that indicates whether a case is complete."
   ]
  },
  {
   "cell_type": "code",
   "execution_count": null,
   "metadata": {
    "tags": [
     "fill-in"
    ]
   },
   "outputs": [],
   "source": [
    "E = shifted['status']"
   ]
  },
  {
   "cell_type": "markdown",
   "metadata": {},
   "source": [
    "The `fit` method does the Kaplan-Meier estimation."
   ]
  },
  {
   "cell_type": "code",
   "execution_count": null,
   "metadata": {
    "tags": [
     "fill-in"
    ]
   },
   "outputs": [],
   "source": [
    "kmf.fit(T, E)"
   ]
  },
  {
   "cell_type": "markdown",
   "metadata": {},
   "source": [
    "Now the `Fitter` object contains the estimated survival function."
   ]
  },
  {
   "cell_type": "code",
   "execution_count": null,
   "metadata": {
    "tags": [
     "fill-in"
    ]
   },
   "outputs": [],
   "source": [
    "kmf.survival_function_"
   ]
  },
  {
   "cell_type": "markdown",
   "metadata": {},
   "source": [
    "`timelines` includes an element at `t=0`, but other than that it is identical to what we computed (except for floating-point error)."
   ]
  },
  {
   "cell_type": "code",
   "execution_count": null,
   "metadata": {},
   "outputs": [],
   "source": [
    "max(abs(kmf.survival_function_['KM_estimate'] - df['surv']).dropna())"
   ]
  },
  {
   "cell_type": "markdown",
   "metadata": {},
   "source": [
    "`lifelines` also computes a confidence interval for the survival function."
   ]
  },
  {
   "cell_type": "code",
   "execution_count": null,
   "metadata": {
    "tags": [
     "fill-in"
    ]
   },
   "outputs": [],
   "source": [
    "ci = kmf.confidence_interval_survival_function_\n",
    "ci"
   ]
  },
  {
   "cell_type": "markdown",
   "metadata": {},
   "source": [
    "With such a small dataset, the CI is pretty wide."
   ]
  },
  {
   "cell_type": "code",
   "execution_count": null,
   "metadata": {},
   "outputs": [],
   "source": [
    "ts = ci.index\n",
    "low, high = np.transpose(ci.values)\n",
    "\n",
    "plt.fill_between(ts, low, high, color='gray', alpha=0.3)\n",
    "kmf.survival_function_.plot(ax=plt.gca())\n",
    "plt.ylabel('Survival function');"
   ]
  },
  {
   "cell_type": "markdown",
   "metadata": {},
   "source": [
    "Part of [Survival Analysis in Python](https://allendowney.github.io/SurvivalAnalysisPython/)\n",
    "\n",
    "Allen B. Downey\n",
    "\n",
    "[Attribution-NonCommercial-ShareAlike 4.0 International (CC BY-NC-SA 4.0)](https://creativecommons.org/licenses/by-nc-sa/4.0/)"
   ]
  }
 ],
 "metadata": {
  "celltoolbar": "Tags",
  "kernelspec": {
   "display_name": "Python 3 (ipykernel)",
   "language": "python",
   "name": "python3"
  },
  "language_info": {
   "codemirror_mode": {
    "name": "ipython",
    "version": 3
   },
   "file_extension": ".py",
   "mimetype": "text/x-python",
   "name": "python",
   "nbconvert_exporter": "python",
   "pygments_lexer": "ipython3",
   "version": "3.7.11"
  }
 },
 "nbformat": 4,
 "nbformat_minor": 2
}
