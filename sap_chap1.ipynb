{
 "cells": [
  {
   "cell_type": "markdown",
   "metadata": {},
   "source": [
    "# Survival Analysis in Python\n",
    "\n",
    "Chapter 1\n",
    "\n",
    "Allen B. Downey\n",
    "\n",
    "[MIT License](https://en.wikipedia.org/wiki/MIT_License)"
   ]
  },
  {
   "cell_type": "code",
   "execution_count": 1,
   "metadata": {},
   "outputs": [],
   "source": [
    "# Configure Jupyter so figures appear in the notebook\n",
    "%matplotlib inline\n",
    "\n",
    "import pandas as pd\n",
    "import numpy as np\n",
    "\n",
    "import matplotlib.pyplot as plt\n",
    "import seaborn as sns\n",
    "sns.set(style='white')\n",
    "\n",
    "import utils\n",
    "from utils import decorate\n",
    "from empyrical_dist import Pmf, Cdf"
   ]
  },
  {
   "cell_type": "markdown",
   "metadata": {},
   "source": [
    "Data from [https://gist.github.com/epogrebnyak/7933e16c0ad215742c4c104be4fbdeb1]\n",
    "\n",
    "```\n",
    "Dataset from:\n",
    "    \n",
    "V.J. Menon and D.C. Agrawal,  Renewal Rate of Filament Lamps: \n",
    "Theory and Experiment. Journal of Failure Analysis and Prevention. \n",
    "December 2007, p. 421, Table 2/\n",
    "DOI: 10.1007/s11668-007-9074-9\n",
    "\n",
    "Description:\n",
    "\n",
    "An assembly of 50 new Philips (India) lamps with the \n",
    "rating 40 W, 220 V (AC) was taken and installed in the horizontal \n",
    "orientation and uniformly distributed over a lab area 11 m 9 7 m. \n",
    "\n",
    "The assembly was monitored at regular intervals of 12 h to\n",
    "look for failures. The instants of recorded failures were\n",
    "called t‘ and a total of 32 data points were obtained such\n",
    "that even the last bulb failed. \n",
    "\n",
    "Variables:\n",
    "\n",
    "i - observation number\n",
    "h - time in hours since experiment start\n",
    "f - number of failed lamps at particular time h\n",
    "K - number of surviving lamps  at particular time h\n",
    "```"
   ]
  },
  {
   "cell_type": "code",
   "execution_count": 2,
   "metadata": {},
   "outputs": [
    {
     "data": {
      "text/html": [
       "<div>\n",
       "<style scoped>\n",
       "    .dataframe tbody tr th:only-of-type {\n",
       "        vertical-align: middle;\n",
       "    }\n",
       "\n",
       "    .dataframe tbody tr th {\n",
       "        vertical-align: top;\n",
       "    }\n",
       "\n",
       "    .dataframe thead th {\n",
       "        text-align: right;\n",
       "    }\n",
       "</style>\n",
       "<table border=\"1\" class=\"dataframe\">\n",
       "  <thead>\n",
       "    <tr style=\"text-align: right;\">\n",
       "      <th></th>\n",
       "      <th>i</th>\n",
       "      <th>h</th>\n",
       "      <th>f</th>\n",
       "      <th>K</th>\n",
       "    </tr>\n",
       "  </thead>\n",
       "  <tbody>\n",
       "    <tr>\n",
       "      <th>0</th>\n",
       "      <td>0</td>\n",
       "      <td>0</td>\n",
       "      <td>0</td>\n",
       "      <td>50</td>\n",
       "    </tr>\n",
       "    <tr>\n",
       "      <th>1</th>\n",
       "      <td>1</td>\n",
       "      <td>840</td>\n",
       "      <td>2</td>\n",
       "      <td>48</td>\n",
       "    </tr>\n",
       "    <tr>\n",
       "      <th>2</th>\n",
       "      <td>2</td>\n",
       "      <td>852</td>\n",
       "      <td>1</td>\n",
       "      <td>47</td>\n",
       "    </tr>\n",
       "    <tr>\n",
       "      <th>3</th>\n",
       "      <td>3</td>\n",
       "      <td>936</td>\n",
       "      <td>1</td>\n",
       "      <td>46</td>\n",
       "    </tr>\n",
       "    <tr>\n",
       "      <th>4</th>\n",
       "      <td>4</td>\n",
       "      <td>960</td>\n",
       "      <td>1</td>\n",
       "      <td>45</td>\n",
       "    </tr>\n",
       "  </tbody>\n",
       "</table>\n",
       "</div>"
      ],
      "text/plain": [
       "   i    h  f   K\n",
       "0  0    0  0  50\n",
       "1  1  840  2  48\n",
       "2  2  852  1  47\n",
       "3  3  936  1  46\n",
       "4  4  960  1  45"
      ]
     },
     "execution_count": 2,
     "metadata": {},
     "output_type": "execute_result"
    }
   ],
   "source": [
    "df = pd.read_csv(\"data/lamps.csv\")\n",
    "df.head()"
   ]
  },
  {
   "cell_type": "code",
   "execution_count": 30,
   "metadata": {},
   "outputs": [
    {
     "data": {
      "text/plain": [
       "h\n",
       "0      0.00\n",
       "840    0.04\n",
       "852    0.02\n",
       "936    0.02\n",
       "960    0.02\n",
       "dtype: float64"
      ]
     },
     "execution_count": 30,
     "metadata": {},
     "output_type": "execute_result"
    }
   ],
   "source": [
    "pmf = Pmf(df.f.values, index=df.h)\n",
    "pmf.normalize()\n",
    "pmf.head()"
   ]
  },
  {
   "cell_type": "code",
   "execution_count": 31,
   "metadata": {},
   "outputs": [
    {
     "data": {
      "image/png": "[encoded data removed]",
      "text/plain": [
       "<Figure size 432x288 with 1 Axes>"
      ]
     },
     "metadata": {
      "needs_background": "light"
     },
     "output_type": "display_data"
    }
   ],
   "source": [
    "pmf.bar(width=30)\n",
    "decorate(xlabel='Lifetime (hours)', \n",
    "         ylabel='PMF', \n",
    "         title='PMF of lightbulb lifetimes')"
   ]
  },
  {
   "cell_type": "code",
   "execution_count": 32,
   "metadata": {},
   "outputs": [
    {
     "data": {
      "text/plain": [
       "h\n",
       "0      0.00\n",
       "840    0.04\n",
       "852    0.06\n",
       "936    0.08\n",
       "960    0.10\n",
       "dtype: float64"
      ]
     },
     "execution_count": 32,
     "metadata": {},
     "output_type": "execute_result"
    }
   ],
   "source": [
    "cdf = pmf.make_cdf()\n",
    "cdf.head()"
   ]
  },
  {
   "cell_type": "code",
   "execution_count": 33,
   "metadata": {},
   "outputs": [
    {
     "data": {
      "image/png": "[encoded data removed]",
      "text/plain": [
       "<Figure size 432x288 with 1 Axes>"
      ]
     },
     "metadata": {
      "needs_background": "light"
     },
     "output_type": "display_data"
    }
   ],
   "source": [
    "cdf.step()\n",
    "decorate(xlabel='Lifetime (hours)', \n",
    "         ylabel='CDF', \n",
    "         title='CDF of lightbulb lifetimes')"
   ]
  },
  {
   "cell_type": "code",
   "execution_count": 34,
   "metadata": {},
   "outputs": [],
   "source": [
    "def make_surv(cdf):\n",
    "    return Surv(1-cdf.ps, index=cdf.qs)\n",
    "\n",
    "Cdf.make_surv = make_surv"
   ]
  },
  {
   "cell_type": "code",
   "execution_count": 35,
   "metadata": {},
   "outputs": [],
   "source": [
    "def underride(d, **options):\n",
    "    \"\"\"Add key-value pairs to d only if key is not in d.\n",
    "\n",
    "    d: dictionary\n",
    "    options: keyword args to add to d\n",
    "\n",
    "    :return: modified d\n",
    "    \"\"\"\n",
    "    for key, val in options.items():\n",
    "        d.setdefault(key, val)\n",
    "\n",
    "    return d"
   ]
  },
  {
   "cell_type": "code",
   "execution_count": 36,
   "metadata": {},
   "outputs": [],
   "source": [
    "from scipy.interpolate import interp1d\n",
    "\n",
    "class Surv(pd.Series):\n",
    "    \"\"\"Represents a survival function (complementary CDF).\"\"\"\n",
    "\n",
    "    def __init__(self, *args, **kwargs):\n",
    "        \"\"\"Initialize a survival function.\n",
    "\n",
    "        Note: this cleans up a weird Series behavior, which is\n",
    "        that Series() and Series([]) yield different results.\n",
    "        See: https://github.com/pandas-dev/pandas/issues/16737\n",
    "        \"\"\"\n",
    "        if args:\n",
    "            super().__init__(*args, **kwargs)\n",
    "        else:\n",
    "            underride(kwargs, dtype=np.float64)\n",
    "            super().__init__([], **kwargs)\n",
    "\n",
    "    def copy(self, deep=True):\n",
    "        \"\"\"Make a copy.\n",
    "\n",
    "        :return: new Surv\n",
    "        \"\"\"\n",
    "        return Surv(self, copy=deep)\n",
    "\n",
    "    @staticmethod\n",
    "    def from_seq(seq, normalize=True, sort=True, **options):\n",
    "        \"\"\"Make a Surv from a sequence of values.\n",
    "\n",
    "        seq: any kind of sequence\n",
    "        normalize: whether to normalize the Surv, default True\n",
    "        sort: whether to sort the Surv by values, default True\n",
    "        options: passed to the pd.Series constructor\n",
    "\n",
    "        :return: Surv object\n",
    "        \"\"\"\n",
    "        pmf = Pmf.from_seq(seq, normalize=False, sort=sort, **options)\n",
    "        cdf = pmf.make_cdf(normalize=normalize)\n",
    "        return cdf.make_surv()\n",
    "\n",
    "    @property\n",
    "    def qs(self):\n",
    "        \"\"\"Get the quantities.\n",
    "\n",
    "        :return: NumPy array\n",
    "        \"\"\"\n",
    "        return self.index.values\n",
    "\n",
    "    @property\n",
    "    def ps(self):\n",
    "        \"\"\"Get the probabilities.\n",
    "\n",
    "        :return: NumPy array\n",
    "        \"\"\"\n",
    "        return self.values\n",
    "\n",
    "    def _repr_html_(self):\n",
    "        \"\"\"Returns an HTML representation of the series.\n",
    "\n",
    "        Mostly used for Jupyter notebooks.\n",
    "        \"\"\"\n",
    "        df = pd.DataFrame(dict(probs=self))\n",
    "        return df._repr_html_()\n",
    "\n",
    "    def plot(self, **options):\n",
    "        \"\"\"Plot the Cdf as a line.\n",
    "\n",
    "        :param options: passed to plt.plot\n",
    "        :return:\n",
    "        \"\"\"\n",
    "        underride(options, label=self.name)\n",
    "        plt.plot(self.qs, self.ps, **options)\n",
    "\n",
    "    def step(self, **options):\n",
    "        \"\"\"Plot the Cdf as a step function.\n",
    "\n",
    "        :param options: passed to plt.step\n",
    "        :return:\n",
    "        \"\"\"\n",
    "        underride(options, label=self.name, where='post')\n",
    "        plt.step(self.qs, self.ps, **options)\n",
    "\n",
    "    def normalize(self):\n",
    "        \"\"\"Make the probabilities add up to 1 (modifies self).\n",
    "\n",
    "        :return: normalizing constant\n",
    "        \"\"\"\n",
    "        total = self.ps[-1]\n",
    "        self /= total\n",
    "        return total\n",
    "\n",
    "    @property\n",
    "    def forward(self, **kwargs):\n",
    "        \"\"\"Compute the forward Cdf\n",
    "\n",
    "        :param kwargs: keyword arguments passed to interp1d\n",
    "\n",
    "        :return array of probabilities\n",
    "        \"\"\"\n",
    "\n",
    "        underride(kwargs, kind='previous',\n",
    "                  copy=False,\n",
    "                  assume_sorted=True,\n",
    "                  bounds_error=False,\n",
    "                  fill_value=(1, 0))\n",
    "\n",
    "        interp = interp1d(self.qs, self.ps, **kwargs)\n",
    "        return interp\n",
    "\n",
    "    @property\n",
    "    def inverse(self, **kwargs):\n",
    "        \"\"\"Compute the inverse Cdf\n",
    "\n",
    "        :param kwargs: keyword arguments passed to interp1d\n",
    "\n",
    "        :return array of quantities\n",
    "        \"\"\"\n",
    "        interp = self.make_cdf().inverse\n",
    "        return lambda ps: interp(1-ps, **kwargs) \n",
    "        \n",
    "    # calling a Cdf like a function does forward lookup\n",
    "    __call__ = forward\n",
    "\n",
    "    # quantile is the same as an inverse lookup\n",
    "    quantile = inverse\n",
    "    \n",
    "    def make_cdf(self, normalize=False):\n",
    "        \"\"\"Make a Cdf from the Surv.\n",
    "\n",
    "        :return: Cdf\n",
    "        \"\"\"\n",
    "        cdf = Cdf(1-self.ps, index=self.qs)\n",
    "        if normalize:\n",
    "            cdf.normalize()\n",
    "        return cdf\n",
    "\n",
    "    def make_pmf(self, normalize=False):\n",
    "        \"\"\"Make a Pmf from the Surv.\n",
    "\n",
    "        :return: Pmf\n",
    "        \"\"\"\n",
    "        cdf = self.make_cdf(normalize=False)\n",
    "        pmf = cdf.make_pmf(normalize=normalize)\n",
    "        return pmf\n",
    "    \n",
    "    def make_hazard(self, **kwargs):\n",
    "        \"\"\"Make a Hazard object from the Surv.\n",
    "\n",
    "        :return: Hazard object\n",
    "        \"\"\"\n",
    "        # TODO: Get the Pandas-idiomatic version of this\n",
    "        lams = pd.Series(index=self.qs)\n",
    "\n",
    "        prev = 1.0\n",
    "        for q, p in self.iteritems():\n",
    "            lams[q] = (prev - p) / prev\n",
    "            prev = p\n",
    "\n",
    "        return Hazard(lams, **kwargs)\n",
    "\n",
    "    def choice(self, *args, **kwargs):\n",
    "        \"\"\"Makes a random sample.\n",
    "\n",
    "        Uses the probabilities as weights unless `p` is provided.\n",
    "\n",
    "        args: same as np.random.choice\n",
    "        options: same as np.random.choice\n",
    "\n",
    "        :return: NumPy array\n",
    "        \"\"\"\n",
    "        # TODO: Make this more efficient by implementing the inverse CDF method.\n",
    "        pmf = self.make_pmf()\n",
    "        return pmf.choice(*args, **kwargs)\n",
    "\n",
    "    def sample(self, *args, **kwargs):\n",
    "        \"\"\"Makes a random sample.\n",
    "\n",
    "        Uses the probabilities as weights unless `weights` is provided.\n",
    "\n",
    "        This function returns an array containing a sample of the quantities in this Pmf,\n",
    "        which is different from Series.sample, which returns a Series with a sample of\n",
    "        the rows in the original Series.\n",
    "\n",
    "        args: same as Series.sample\n",
    "        options: same as Series.sample\n",
    "\n",
    "        :return: NumPy array\n",
    "        \"\"\"\n",
    "        # TODO: Make this more efficient by implementing the inverse CDF method.\n",
    "        pmf = self.make_pmf()\n",
    "        return pmf.sample(*args, **kwargs)\n",
    "\n",
    "    def mean(self):\n",
    "        \"\"\"Expected value.\n",
    "\n",
    "        :return: float\n",
    "        \"\"\"\n",
    "        return self.make_pmf().mean()\n",
    "\n",
    "    def var(self):\n",
    "        \"\"\"Variance.\n",
    "\n",
    "        :return: float\n",
    "        \"\"\"\n",
    "        return self.make_pmf().var()\n",
    "\n",
    "    def std(self):\n",
    "        \"\"\"Standard deviation.\n",
    "\n",
    "        :return: float\n",
    "        \"\"\"\n",
    "        return self.make_pmf().std()\n",
    "\n",
    "    def median(self):\n",
    "        \"\"\"Median (50th percentile).\n",
    "\n",
    "        :return: float\n",
    "        \"\"\"\n",
    "        return self.quantile(0.5)"
   ]
  },
  {
   "cell_type": "code",
   "execution_count": 37,
   "metadata": {},
   "outputs": [
    {
     "data": {
      "text/plain": [
       "0      1.00\n",
       "840    0.96\n",
       "852    0.94\n",
       "936    0.92\n",
       "960    0.90\n",
       "dtype: float64"
      ]
     },
     "execution_count": 37,
     "metadata": {},
     "output_type": "execute_result"
    }
   ],
   "source": [
    "surv = cdf.make_surv()\n",
    "surv.head()"
   ]
  },
  {
   "cell_type": "code",
   "execution_count": 38,
   "metadata": {},
   "outputs": [
    {
     "data": {
      "image/png": "[encoded data removed]",
      "text/plain": [
       "<Figure size 432x288 with 1 Axes>"
      ]
     },
     "metadata": {
      "needs_background": "light"
     },
     "output_type": "display_data"
    }
   ],
   "source": [
    "cdf.step(color='gray', alpha=0.3)\n",
    "surv.step()\n",
    "decorate(xlabel='Lifetime (hours)', \n",
    "         ylabel='Prob(lifetime>t)', \n",
    "         title='Survival function of lightbulb lifetimes')"
   ]
  },
  {
   "cell_type": "code",
   "execution_count": 39,
   "metadata": {},
   "outputs": [
    {
     "data": {
      "text/plain": [
       "array(1.)"
      ]
     },
     "execution_count": 39,
     "metadata": {},
     "output_type": "execute_result"
    }
   ],
   "source": [
    "surv(-1)"
   ]
  },
  {
   "cell_type": "code",
   "execution_count": 40,
   "metadata": {},
   "outputs": [
    {
     "data": {
      "text/plain": [
       "array(0.)"
      ]
     },
     "execution_count": 40,
     "metadata": {},
     "output_type": "execute_result"
    }
   ],
   "source": [
    "surv(3000)"
   ]
  },
  {
   "cell_type": "code",
   "execution_count": 41,
   "metadata": {},
   "outputs": [
    {
     "data": {
      "text/plain": [
       "array(1416.)"
      ]
     },
     "execution_count": 41,
     "metadata": {},
     "output_type": "execute_result"
    }
   ],
   "source": [
    "surv.median()"
   ]
  },
  {
   "cell_type": "code",
   "execution_count": 42,
   "metadata": {},
   "outputs": [
    {
     "data": {
      "text/plain": [
       "1413.8399999999997"
      ]
     },
     "execution_count": 42,
     "metadata": {},
     "output_type": "execute_result"
    }
   ],
   "source": [
    "surv.mean()"
   ]
  },
  {
   "cell_type": "code",
   "execution_count": 43,
   "metadata": {},
   "outputs": [],
   "source": [
    "class Hazard(pd.Series):\n",
    "    \"\"\"Represents a Hazard function.\"\"\"\n",
    "\n",
    "    def __init__(self, *args, **kwargs):\n",
    "        \"\"\"Initialize a Hazard.\n",
    "\n",
    "        Note: this cleans up a weird Series behavior, which is\n",
    "        that Series() and Series([]) yield different results.\n",
    "        See: https://github.com/pandas-dev/pandas/issues/16737\n",
    "        \"\"\"\n",
    "        if args:\n",
    "            super().__init__(*args, **kwargs)\n",
    "        else:\n",
    "            underride(kwargs, dtype=np.float64)\n",
    "            super().__init__([], **kwargs)\n",
    "\n",
    "    def copy(self, deep=True):\n",
    "        \"\"\"Make a copy.\n",
    "\n",
    "        :return: new Pmf\n",
    "        \"\"\"\n",
    "        return Hazard(self, copy=deep)\n",
    "\n",
    "    def __getitem__(self, qs):\n",
    "        \"\"\"Look up qs and return ps.\"\"\"\n",
    "        try:\n",
    "            return super().__getitem__(qs)\n",
    "        except (KeyError, ValueError, IndexError):\n",
    "            return 0\n",
    "\n",
    "    @property\n",
    "    def qs(self):\n",
    "        \"\"\"Get the quantities.\n",
    "\n",
    "        :return: NumPy array\n",
    "        \"\"\"\n",
    "        return self.index.values\n",
    "\n",
    "    @property\n",
    "    def ps(self):\n",
    "        \"\"\"Get the probabilities.\n",
    "\n",
    "        :return: NumPy array\n",
    "        \"\"\"\n",
    "        return self.values\n",
    "\n",
    "    def _repr_html_(self):\n",
    "        \"\"\"Returns an HTML representation of the series.\n",
    "\n",
    "        Mostly used for Jupyter notebooks.\n",
    "        \"\"\"\n",
    "        df = pd.DataFrame(dict(probs=self))\n",
    "        return df._repr_html_()\n",
    "\n",
    "    def mean(self):\n",
    "        \"\"\"Computes expected value.\n",
    "\n",
    "        :return: float\n",
    "        \"\"\"\n",
    "        raise ValueError()\n",
    "        \n",
    "    def median(self):\n",
    "        \"\"\"Median (50th percentile).\n",
    "\n",
    "        :return: float\n",
    "        \"\"\"\n",
    "        raise ValueError()\n",
    "\n",
    "    def quantile(self, ps, **kwargs):\n",
    "        \"\"\"Quantiles.\n",
    "\n",
    "        Computes the inverse CDF of ps, that is,\n",
    "        the values that correspond to the given probabilities.\n",
    "\n",
    "        :return: float\n",
    "        \"\"\"\n",
    "        raise ValueError()\n",
    "\n",
    "    def var(self):\n",
    "        \"\"\"Variance of a PMF.\n",
    "\n",
    "        :return: float\n",
    "        \"\"\"\n",
    "        raise ValueError()\n",
    "\n",
    "\n",
    "    def std(self):\n",
    "        \"\"\"Standard deviation of a PMF.\n",
    "\n",
    "        :return: float\n",
    "        \"\"\"\n",
    "        raise ValueError()\n",
    "\n",
    "    def choice(self, *args, **kwargs):\n",
    "        \"\"\"Makes a random sample.\n",
    "\n",
    "        Uses the probabilities as weights unless `p` is provided.\n",
    "\n",
    "        args: same as np.random.choice\n",
    "        kwargs: same as np.random.choice\n",
    "\n",
    "        :return: NumPy array\n",
    "        \"\"\"\n",
    "        raise ValueError()\n",
    "\n",
    "    def sample(self, *args, **kwargs):\n",
    "        \"\"\"Makes a random sample.\n",
    "\n",
    "        Uses the probabilities as weights unless `weights` is provided.\n",
    "\n",
    "        This function returns an array containing a sample of the quantities,\n",
    "        which is different from Series.sample, which returns a Series with a sample of\n",
    "        the rows in the original Series.\n",
    "\n",
    "        args: same as Series.sample\n",
    "        options: same as Series.sample\n",
    "\n",
    "        :return: NumPy array\n",
    "        \"\"\"\n",
    "        raise ValueError()\n",
    "\n",
    "\n",
    "    def plot(self, **options):\n",
    "        \"\"\"Plot the Pmf as a line.\n",
    "\n",
    "        :param options: passed to plt.plot\n",
    "        :return:\n",
    "        \"\"\"\n",
    "        underride(options, label=self.name)\n",
    "        plt.plot(self.qs, self.ps, **options)\n",
    "\n",
    "    def bar(self, **options):\n",
    "        \"\"\"Makes a bar plot.\n",
    "\n",
    "        options: passed to plt.bar\n",
    "        \"\"\"\n",
    "        underride(options, label=self.name)\n",
    "        plt.bar(self.qs, self.ps, **options)\n",
    "\n",
    "    \n",
    "    def make_cdf(self, normalize=True):\n",
    "        \"\"\"Make a Cdf from the Hazard.\n",
    "\n",
    "        It can be good to normalize the cdf even if the Pmf was normalized,\n",
    "        to guarantee that the last element of `ps` is 1.\n",
    "\n",
    "        :return: Cdf\n",
    "        \"\"\"\n",
    "        cdf = self.make_surv().make_cdf()\n",
    "        return cdf\n",
    "    \n",
    "    def make_surv(self, normalize=True):\n",
    "        \"\"\"Make a Surv from the Hazard.\n",
    "\n",
    "        :return: Surv\n",
    "        \"\"\"\n",
    "        ps = (1 - self.ps).cumprod()\n",
    "        return Surv(ps, index=self.qs)\n",
    "        \n",
    "    @staticmethod\n",
    "    def from_seq(seq, **options):\n",
    "        \"\"\"Make a PMF from a sequence of values.\n",
    "\n",
    "        seq: any kind of sequence\n",
    "        normalize: whether to normalize the Pmf, default True\n",
    "        sort: whether to sort the Pmf by values, default True\n",
    "        options: passed to the pd.Series constructor\n",
    "\n",
    "        :return: Pmf object\n",
    "        \"\"\"\n",
    "        cdf = Cdf.from_seq(seq, **options)\n",
    "        surv = cdf.make_surv()\n",
    "        return surv.make_hazard()"
   ]
  },
  {
   "cell_type": "code",
   "execution_count": 44,
   "metadata": {},
   "outputs": [
    {
     "data": {
      "image/png": "[encoded data removed]",
      "text/plain": [
       "<Figure size 432x288 with 1 Axes>"
      ]
     },
     "metadata": {
      "needs_background": "light"
     },
     "output_type": "display_data"
    }
   ],
   "source": [
    "haz = surv.make_hazard()\n",
    "haz.bar(width=30)"
   ]
  },
  {
   "cell_type": "code",
   "execution_count": 45,
   "metadata": {},
   "outputs": [
    {
     "data": {
      "image/png": "[encoded data removed]",
      "text/plain": [
       "<Figure size 432x288 with 1 Axes>"
      ]
     },
     "metadata": {
      "needs_background": "light"
     },
     "output_type": "display_data"
    }
   ],
   "source": [
    "surv2 = haz.make_surv()\n",
    "surv2.step()\n",
    "surv.step()"
   ]
  },
  {
   "cell_type": "code",
   "execution_count": 46,
   "metadata": {},
   "outputs": [
    {
     "data": {
      "text/plain": [
       "3.469446951953614e-18"
      ]
     },
     "execution_count": 46,
     "metadata": {},
     "output_type": "execute_result"
    }
   ],
   "source": [
    "max(abs(surv - surv2))"
   ]
  },
  {
   "cell_type": "code",
   "execution_count": 47,
   "metadata": {},
   "outputs": [
    {
     "data": {
      "text/plain": [
       "5.551115123125783e-17"
      ]
     },
     "execution_count": 47,
     "metadata": {},
     "output_type": "execute_result"
    }
   ],
   "source": [
    "cdf2 = surv2.make_cdf()\n",
    "max(abs(cdf - cdf2))"
   ]
  },
  {
   "cell_type": "code",
   "execution_count": 56,
   "metadata": {},
   "outputs": [
    {
     "data": {
      "text/plain": [
       "9.367506770274758e-17"
      ]
     },
     "execution_count": 56,
     "metadata": {},
     "output_type": "execute_result"
    }
   ],
   "source": [
    "pmf2 = cdf2.make_pmf()\n",
    "max(abs(pmf.ps - pmf2.ps))"
   ]
  },
  {
   "cell_type": "code",
   "execution_count": 91,
   "metadata": {},
   "outputs": [],
   "source": [
    "from scipy.stats import gaussian_kde\n",
    "\n",
    "def estimate_smooth_hazard(pmf):\n",
    "    xs = np.linspace(min(pmf.qs), max(pmf.qs))\n",
    "    \n",
    "    kde = gaussian_kde(pmf.qs, weights=pmf.ps)\n",
    "    pdf = Pmf(kde(xs), index=xs)\n",
    "    pdf.normalize()\n",
    "    \n",
    "    ps = pdf.make_cdf().make_surv().forward(xs)\n",
    "    surv = Surv(ps, index=xs)\n",
    "    \n",
    "    lams = pdf.ps / surv\n",
    "    haz = Hazard(lams)\n",
    "    \n",
    "    return pdf, surv, haz"
   ]
  },
  {
   "cell_type": "code",
   "execution_count": 93,
   "metadata": {},
   "outputs": [
    {
     "data": {
      "image/png": "[encoded data removed]",
      "text/plain": [
       "<Figure size 432x288 with 1 Axes>"
      ]
     },
     "metadata": {
      "needs_background": "light"
     },
     "output_type": "display_data"
    }
   ],
   "source": [
    "pdf, surv, haz = estimate_smooth_hazard(pmf)\n",
    "pdf.plot()"
   ]
  },
  {
   "cell_type": "code",
   "execution_count": 94,
   "metadata": {},
   "outputs": [
    {
     "data": {
      "image/png": "[encoded data removed]",
      "text/plain": [
       "<Figure size 432x288 with 1 Axes>"
      ]
     },
     "metadata": {
      "needs_background": "light"
     },
     "output_type": "display_data"
    }
   ],
   "source": [
    "surv.plot()"
   ]
  },
  {
   "cell_type": "code",
   "execution_count": 95,
   "metadata": {},
   "outputs": [
    {
     "data": {
      "image/png": "[encoded data removed]",
      "text/plain": [
       "<Figure size 432x288 with 1 Axes>"
      ]
     },
     "metadata": {
      "needs_background": "light"
     },
     "output_type": "display_data"
    }
   ],
   "source": [
    "haz.plot()"
   ]
  },
  {
   "cell_type": "code",
   "execution_count": 114,
   "metadata": {},
   "outputs": [
    {
     "data": {
      "image/png": "[encoded data removed]",
      "text/plain": [
       "<Figure size 432x288 with 1 Axes>"
      ]
     },
     "metadata": {
      "needs_background": "light"
     },
     "output_type": "display_data"
    }
   ],
   "source": [
    "pmf = Pmf(df.f.values, index=df.h)\n",
    "kde = gaussian_kde(pmf.qs, weights=pmf.ps)\n",
    "\n",
    "size = pmf.sum()\n",
    "\n",
    "for i in range(100):\n",
    "    sample = kde.resample(size).flatten()\n",
    "    pdf, surv, haz = estimate_smooth_hazard(Pmf.from_seq(sample))\n",
    "    surv.plot(color='gray', alpha=0.1)"
   ]
  },
  {
   "cell_type": "code",
   "execution_count": 115,
   "metadata": {},
   "outputs": [
    {
     "data": {
      "image/png": "[encoded data removed]",
      "text/plain": [
       "<Figure size 432x288 with 1 Axes>"
      ]
     },
     "metadata": {
      "needs_background": "light"
     },
     "output_type": "display_data"
    }
   ],
   "source": [
    "for i in range(100):\n",
    "    sample = kde.resample(size).flatten()\n",
    "    pdf, surv, haz = estimate_smooth_hazard(Pmf.from_seq(sample))\n",
    "    haz.plot(color='gray', alpha=0.1)"
   ]
  },
  {
   "cell_type": "code",
   "execution_count": 128,
   "metadata": {},
   "outputs": [
    {
     "data": {
      "text/plain": [
       "(50, 50)"
      ]
     },
     "execution_count": 128,
     "metadata": {},
     "output_type": "execute_result"
    }
   ],
   "source": [
    "from collections import Counter\n",
    "\n",
    "pmf = Pmf(df.f.values, index=df.h)\n",
    "counter = Counter(dict(pmf.iteritems()))\n",
    "data = np.fromiter(counter.elements(), dtype=np.int64)\n",
    "len(data), pmf.sum()"
   ]
  },
  {
   "cell_type": "code",
   "execution_count": 133,
   "metadata": {},
   "outputs": [],
   "source": [
    "from scipy.stats import exponweib\n",
    "\n",
    "a, c, loc, scale = exponweib.fit(data)"
   ]
  },
  {
   "cell_type": "code",
   "execution_count": 158,
   "metadata": {},
   "outputs": [
    {
     "data": {
      "image/png": "[encoded data removed]",
      "text/plain": [
       "<Figure size 432x288 with 1 Axes>"
      ]
     },
     "metadata": {
      "needs_background": "light"
     },
     "output_type": "display_data"
    }
   ],
   "source": [
    "qs = pmf.qs\n",
    "ps = exponweib(a, c, loc, scale).sf(qs)\n",
    "plt.plot(qs, ps)\n",
    "\n",
    "pmf.make_cdf().make_surv().plot()"
   ]
  },
  {
   "cell_type": "markdown",
   "metadata": {},
   "source": [
    "### Popcorn\n",
    "\n",
    "Description of the experiment here:\n",
    "https://www.reddit.com/r/dataisbeautiful/comments/8uo1q9/popcorn_analytics_oc/\n",
    "    \n",
    "Data downloaded from here\n",
    "https://textuploader.com/dzqpd"
   ]
  },
  {
   "cell_type": "code",
   "execution_count": 142,
   "metadata": {},
   "outputs": [
    {
     "data": {
      "text/html": [
       "<div>\n",
       "<style scoped>\n",
       "    .dataframe tbody tr th:only-of-type {\n",
       "        vertical-align: middle;\n",
       "    }\n",
       "\n",
       "    .dataframe tbody tr th {\n",
       "        vertical-align: top;\n",
       "    }\n",
       "\n",
       "    .dataframe thead th {\n",
       "        text-align: right;\n",
       "    }\n",
       "</style>\n",
       "<table border=\"1\" class=\"dataframe\">\n",
       "  <thead>\n",
       "    <tr style=\"text-align: right;\">\n",
       "      <th></th>\n",
       "      <th>#</th>\n",
       "      <th>time of the pop in seconds</th>\n",
       "    </tr>\n",
       "  </thead>\n",
       "  <tbody>\n",
       "    <tr>\n",
       "      <th>0</th>\n",
       "      <td>1</td>\n",
       "      <td>120.167</td>\n",
       "    </tr>\n",
       "    <tr>\n",
       "      <th>1</th>\n",
       "      <td>2</td>\n",
       "      <td>140.300</td>\n",
       "    </tr>\n",
       "    <tr>\n",
       "      <th>2</th>\n",
       "      <td>3</td>\n",
       "      <td>140.367</td>\n",
       "    </tr>\n",
       "    <tr>\n",
       "      <th>3</th>\n",
       "      <td>4</td>\n",
       "      <td>142.700</td>\n",
       "    </tr>\n",
       "    <tr>\n",
       "      <th>4</th>\n",
       "      <td>5</td>\n",
       "      <td>142.800</td>\n",
       "    </tr>\n",
       "  </tbody>\n",
       "</table>\n",
       "</div>"
      ],
      "text/plain": [
       "   #  time of the pop in seconds\n",
       "0  1                     120.167\n",
       "1  2                     140.300\n",
       "2  3                     140.367\n",
       "3  4                     142.700\n",
       "4  5                     142.800"
      ]
     },
     "execution_count": 142,
     "metadata": {},
     "output_type": "execute_result"
    }
   ],
   "source": [
    "df = pd.read_csv('data/popcorn.csv', sep=';')\n",
    "df.head()"
   ]
  },
  {
   "cell_type": "code",
   "execution_count": 148,
   "metadata": {},
   "outputs": [],
   "source": [
    "data = df['time of the pop in seconds']\n",
    "pmf = Pmf.from_seq(data)"
   ]
  },
  {
   "cell_type": "code",
   "execution_count": 149,
   "metadata": {},
   "outputs": [],
   "source": [
    "pdf, surv, haz = estimate_smooth_hazard(pmf)"
   ]
  },
  {
   "cell_type": "code",
   "execution_count": 150,
   "metadata": {},
   "outputs": [
    {
     "data": {
      "image/png": "[encoded data removed]",
      "text/plain": [
       "<Figure size 432x288 with 1 Axes>"
      ]
     },
     "metadata": {
      "needs_background": "light"
     },
     "output_type": "display_data"
    }
   ],
   "source": [
    "pdf.plot()"
   ]
  },
  {
   "cell_type": "code",
   "execution_count": 151,
   "metadata": {},
   "outputs": [
    {
     "data": {
      "image/png": "[encoded data removed]",
      "text/plain": [
       "<Figure size 432x288 with 1 Axes>"
      ]
     },
     "metadata": {
      "needs_background": "light"
     },
     "output_type": "display_data"
    }
   ],
   "source": [
    "surv.plot()"
   ]
  },
  {
   "cell_type": "code",
   "execution_count": 152,
   "metadata": {},
   "outputs": [
    {
     "data": {
      "image/png": "[encoded data removed]",
      "text/plain": [
       "<Figure size 432x288 with 1 Axes>"
      ]
     },
     "metadata": {
      "needs_background": "light"
     },
     "output_type": "display_data"
    }
   ],
   "source": [
    "haz.plot()"
   ]
  },
  {
   "cell_type": "code",
   "execution_count": null,
   "metadata": {},
   "outputs": [],
   "source": []
  },
  {
   "cell_type": "code",
   "execution_count": 160,
   "metadata": {},
   "outputs": [
    {
     "data": {
      "image/png": "[encoded data removed]",
      "text/plain": [
       "<Figure size 432x288 with 1 Axes>"
      ]
     },
     "metadata": {
      "needs_background": "light"
     },
     "output_type": "display_data"
    }
   ],
   "source": [
    "kde = gaussian_kde(data)\n",
    "size = len(data)\n",
    "\n",
    "for i in range(20):\n",
    "    sample = kde.resample(size).flatten()\n",
    "    pdf, surv, haz = estimate_smooth_hazard(Pmf.from_seq(sample))\n",
    "    surv.plot(color='gray', alpha=0.1)\n",
    "    \n",
    "pmf.make_cdf().make_surv().plot()"
   ]
  },
  {
   "cell_type": "code",
   "execution_count": 162,
   "metadata": {},
   "outputs": [
    {
     "data": {
      "image/png": "[encoded data removed]",
      "text/plain": [
       "<Figure size 432x288 with 1 Axes>"
      ]
     },
     "metadata": {
      "needs_background": "light"
     },
     "output_type": "display_data"
    }
   ],
   "source": [
    "for i in range(20):\n",
    "    sample = kde.resample(size).flatten()\n",
    "    pdf, surv, haz = estimate_smooth_hazard(Pmf.from_seq(sample))\n",
    "    haz.plot(color='gray', alpha=0.1)"
   ]
  },
  {
   "cell_type": "code",
   "execution_count": 156,
   "metadata": {},
   "outputs": [
    {
     "data": {
      "text/plain": [
       "(1.2660609147328483, 0.2340662728039207, 120.16699999999999, 1.445804345963988)"
      ]
     },
     "execution_count": 156,
     "metadata": {},
     "output_type": "execute_result"
    }
   ],
   "source": [
    "from scipy.stats import exponweib\n",
    "\n",
    "a, c, loc, scale = exponweib.fit(data)\n",
    "a, c, loc, scale"
   ]
  },
  {
   "cell_type": "code",
   "execution_count": 159,
   "metadata": {},
   "outputs": [
    {
     "data": {
      "image/png": "[encoded data removed]",
      "text/plain": [
       "<Figure size 432x288 with 1 Axes>"
      ]
     },
     "metadata": {
      "needs_background": "light"
     },
     "output_type": "display_data"
    }
   ],
   "source": [
    "qs = pmf.qs\n",
    "ps = exponweib(a, c, loc, scale).sf(qs)\n",
    "plt.plot(qs, ps)\n",
    "pmf.make_cdf().make_surv().plot()"
   ]
  },
  {
   "cell_type": "code",
   "execution_count": null,
   "metadata": {},
   "outputs": [],
   "source": []
  }
 ],
 "metadata": {
  "kernelspec": {
   "display_name": "Python 3",
   "language": "python",
   "name": "python3"
  },
  "language_info": {
   "codemirror_mode": {
    "name": "ipython",
    "version": 3
   },
   "file_extension": ".py",
   "mimetype": "text/x-python",
   "name": "python",
   "nbconvert_exporter": "python",
   "pygments_lexer": "ipython3",
   "version": "3.7.3"
  }
 },
 "nbformat": 4,
 "nbformat_minor": 2
}
