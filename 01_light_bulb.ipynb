{
 "cells": [
  {
   "cell_type": "markdown",
   "metadata": {},
   "source": [
    "# Survival Analysis"
   ]
  },
  {
   "cell_type": "markdown",
   "metadata": {},
   "source": [
    "[Run this notebook on Colab](https://colab.research.google.com/github/AllenDowney/SurvivalAnalysisPython/blob/master/01_light_bulb.ipynb)"
   ]
  },
  {
   "cell_type": "markdown",
   "metadata": {},
   "source": [
    "## Introduction\n",
    "\n",
    "This notebook presents four ways to represent a distribution: PMFs, CDFs, survival functions, and hazard functions.\n",
    "\n",
    "These representations are equivalent in the sense that if you are given any of them, you can compute the others.  So you might wonder why we need four ways to represent the same information.  There are two reasons:\n",
    "\n",
    "1. Each representation is useful for computing different values and answering different questions.  In this notebook I'll show you what each representation is good for.\n",
    "\n",
    "2. In some cases we can use a sample to compute a PMF, and use the PMF to compute the other representations.  In other cases it is easier to estimate the hazard function and use it to compute the others.\n",
    "\n",
    "In this notebook I will demonstrate the first process, starting with the PMF.  In the next notebook we'll see the second process, starting with the hazard function."
   ]
  },
  {
   "cell_type": "markdown",
   "metadata": {},
   "source": [
    "## Light bulb lifetimes\n",
    "\n",
    "As a first example, I'll use I'll use data from an experiment that measures the lifetimes of 50 light bulbs.\n",
    "I downloaded the data from from [this gist](https://gist.github.com/epogrebnyak/7933e16c0ad215742c4c104be4fbdeb1), which includes this documentation:\n",
    "\n",
    "```\n",
    "Dataset from:\n",
    "    \n",
    "V.J. Menon and D.C. Agrawal,  Renewal Rate of Filament Lamps: \n",
    "Theory and Experiment. Journal of Failure Analysis and Prevention. \n",
    "December 2007, p. 421, Table 2/\n",
    "DOI: 10.1007/s11668-007-9074-9\n",
    "\n",
    "Description:\n",
    "\n",
    "An assembly of 50 new Philips (India) lamps with the \n",
    "rating 40 W, 220 V (AC) was taken and installed in the horizontal \n",
    "orientation and uniformly distributed over a lab area 11 m by 7 m. \n",
    "\n",
    "The assembly was monitored at regular intervals of 12 h to\n",
    "look for failures. The instants of recorded failures were\n",
    "called t‘ and a total of 32 data points were obtained such\n",
    "that even the last bulb failed. \n",
    "\n",
    "Variables:\n",
    "\n",
    "i - observation number\n",
    "h - time in hours since experiment start\n",
    "f - number of failed lamps at particular time h\n",
    "K - number of surviving lamps  at particular time h\n",
    "```\n",
    "\n",
    "Because of the design of this experiment, we can consider the data to be a representative sample from the distribution of lifetimes, at least for light bulbs that are lit continuously."
   ]
  },
  {
   "cell_type": "markdown",
   "metadata": {},
   "source": [
    "The following cell downloads the data (thanks to Evgeny Pogrebnyak for making it available).  \n",
    "If that fails, you should be able to [get it from my repository](https://github.com/AllenDowney/SurvivalAnalysisPython/raw/master/lamps.csv)."
   ]
  },
  {
   "cell_type": "code",
   "execution_count": 2,
   "metadata": {},
   "outputs": [],
   "source": [
    "import os\n",
    "\n",
    "datafile = 'lamps.csv'\n",
    "if not os.path.exists(datafile):\n",
    "    !wget https://gist.github.com/epogrebnyak/7933e16c0ad215742c4c104be4fbdeb1/raw/c932bc5b6aa6317770c4cbf43eb591511fec08f9/lamps.csv"
   ]
  },
  {
   "cell_type": "markdown",
   "metadata": {},
   "source": [
    "We can use Pandas to load the data from the CSV file."
   ]
  },
  {
   "cell_type": "code",
   "execution_count": 3,
   "metadata": {},
   "outputs": [],
   "source": [
    "import pandas as pd\n",
    "import numpy as np\n",
    "import matplotlib.pyplot as plt"
   ]
  },
  {
   "cell_type": "code",
   "execution_count": 4,
   "metadata": {},
   "outputs": [],
   "source": [
    "df = pd.read_csv('lamps.csv', index_col=0)\n",
    "df.head()"
   ]
  },
  {
   "cell_type": "markdown",
   "metadata": {},
   "source": [
    "## PMF\n",
    "\n",
    "This dataset is complete in the sense that the experiment ran until all light bulbs failed, so the lifetime for every bulb is known.\n",
    "So we can use the data to estimate the probability mass function (PMF) of lifetimes.\n",
    "\n",
    "To represent a PMF, I'll use a Pandas `Series` with the lifetimes (column `h`) as the index and the number of failures (column `f`) as the values."
   ]
  },
  {
   "cell_type": "code",
   "execution_count": 5,
   "metadata": {
    "tags": []
   },
   "outputs": [],
   "source": []
  },
  {
   "cell_type": "markdown",
   "metadata": {},
   "source": [
    "To normalize the PMF, we divide through by the total number of lightbulbs."
   ]
  },
  {
   "cell_type": "code",
   "execution_count": 6,
   "metadata": {
    "tags": []
   },
   "outputs": [],
   "source": []
  },
  {
   "cell_type": "markdown",
   "metadata": {},
   "source": [
    "For a given lifetime, `t`, the PMF contains the fraction of lifetimes equal to `t`.\n",
    "For example, we can compute the fraction of light bulbs that lasted 840 hours:"
   ]
  },
  {
   "cell_type": "code",
   "execution_count": 7,
   "metadata": {
    "tags": []
   },
   "outputs": [],
   "source": []
  },
  {
   "cell_type": "markdown",
   "metadata": {},
   "source": [
    "Or the fraction equal to 1524 hours."
   ]
  },
  {
   "cell_type": "code",
   "execution_count": 8,
   "metadata": {
    "tags": []
   },
   "outputs": [],
   "source": []
  },
  {
   "cell_type": "markdown",
   "metadata": {},
   "source": [
    "Here's what the PMF looks like."
   ]
  },
  {
   "cell_type": "code",
   "execution_count": 1,
   "metadata": {},
   "outputs": [],
   "source": [
    "def decorate(**options):\n",
    "    \"\"\"Decorate the current axes.\n",
    "    Call decorate with keyword arguments like\n",
    "    decorate(title='Title',\n",
    "             xlabel='x',\n",
    "             ylabel='y')\n",
    "    The keyword arguments can be any of the axis properties\n",
    "    https://matplotlib.org/api/axes_api.html\n",
    "    \"\"\"\n",
    "    plt.gca().set(**options)\n",
    "    plt.tight_layout()"
   ]
  },
  {
   "cell_type": "code",
   "execution_count": 9,
   "metadata": {},
   "outputs": [],
   "source": [
    "pmf.plot()\n",
    "decorate(xlabel='Lifetime (hours)', \n",
    "         ylabel='PMF', \n",
    "         title='PMF of lightbulb lifetimes')"
   ]
  },
  {
   "cell_type": "markdown",
   "metadata": {},
   "source": [
    "This way of visualizing the data can be useful for validation, and it gives a sense of the location and spread of the data.  But it does not make the shape of the distrbution clear.  For that, the CDF is better."
   ]
  },
  {
   "cell_type": "markdown",
   "metadata": {},
   "source": [
    "## CDF\n",
    "\n",
    "The Cumulative Distribution Function (CDF) is the cumulative sum of the PMF."
   ]
  },
  {
   "cell_type": "code",
   "execution_count": 10,
   "metadata": {
    "tags": []
   },
   "outputs": [],
   "source": []
  },
  {
   "cell_type": "markdown",
   "metadata": {},
   "source": [
    "For a given lifetime, `t`, the CDF contains the fraction of lifetimes less than or equal to `t`.\n",
    "For example, here is the fraction of light bulbs that expired at or before 840 hours:"
   ]
  },
  {
   "cell_type": "code",
   "execution_count": 11,
   "metadata": {
    "tags": []
   },
   "outputs": [],
   "source": []
  },
  {
   "cell_type": "markdown",
   "metadata": {},
   "source": [
    "And the fraction that expired at or before 1524 hours."
   ]
  },
  {
   "cell_type": "code",
   "execution_count": 12,
   "metadata": {
    "tags": []
   },
   "outputs": [],
   "source": []
  },
  {
   "cell_type": "markdown",
   "metadata": {},
   "source": [
    "Here's what the CDF looks like."
   ]
  },
  {
   "cell_type": "code",
   "execution_count": 13,
   "metadata": {},
   "outputs": [],
   "source": [
    "cdf.plot()\n",
    "decorate(xlabel='Lifetime (hours)', \n",
    "         ylabel='CDF', \n",
    "         title='CDF of lightbulb lifetimes')"
   ]
  },
  {
   "cell_type": "markdown",
   "metadata": {},
   "source": [
    "In my opinion, the CDF is often the best way to visualize the distribution of a sample.\n",
    "\n",
    "Between 800 and 1800 hours, the CDF is roughly a straight line, which suggests that the distribution is uniform in this range."
   ]
  },
  {
   "cell_type": "markdown",
   "metadata": {},
   "source": [
    "## Survival function\n",
    "\n",
    "The survival function is the complement of the CDF; that is, for a given lifetime, `t`:\n",
    "\n",
    "* The CDF is the fraction of the population less than or equal to `t`.\n",
    "\n",
    "* The survival function is the fraction (strictly) greater than `t`.\n",
    "\n",
    "We can compute the survival function like this:"
   ]
  },
  {
   "cell_type": "code",
   "execution_count": 14,
   "metadata": {
    "tags": []
   },
   "outputs": [],
   "source": []
  },
  {
   "cell_type": "markdown",
   "metadata": {},
   "source": [
    "We can use `surv` to compute the fraction of lightbulbs that live longer than 1524 hours:"
   ]
  },
  {
   "cell_type": "code",
   "execution_count": 15,
   "metadata": {
    "tags": []
   },
   "outputs": [],
   "source": []
  },
  {
   "cell_type": "markdown",
   "metadata": {},
   "source": [
    "If we plot the survival function along with the CDF, we can see that they are complements."
   ]
  },
  {
   "cell_type": "code",
   "execution_count": 16,
   "metadata": {},
   "outputs": [],
   "source": [
    "cdf.plot(color='gray', alpha=0.4)\n",
    "surv.plot()\n",
    "decorate(xlabel='Lifetime (hours)', \n",
    "         ylabel='Prob(lifetime>t)', \n",
    "         title='Survival function of lightbulb lifetimes')"
   ]
  },
  {
   "cell_type": "markdown",
   "metadata": {},
   "source": [
    "It might not be obvious why the survival function is useful.  Given the CDF and a little arithmetic, we can answer all of the same questions.\n",
    "\n",
    "There are two reasons:\n",
    "\n",
    "* In some domains it is more natural, or at least conventional, to represent distributions in terms of survival rates.\n",
    "\n",
    "* The survival function is a step on the way to the hazard function, which we'll get to now."
   ]
  },
  {
   "cell_type": "markdown",
   "metadata": {},
   "source": [
    "## Hazard function\n",
    "\n",
    "For a given lifetime `t`, the hazard function computes the \"hazard rate\" at `t`.  Using the vocabulary of the light bulb example, the hazard rate is the fraction of light bulbs that survive until `t` and then fail at `t`.\n",
    "\n",
    "We can compute the hazard rate by computing these quantities:\n",
    "\n",
    "* `pmf(t)` is the fraction of light bulbs that fail at `t`.\n",
    "\n",
    "* `surv(t)` is the fraction of light bulbs that live longer than `t`.\n",
    "\n",
    "* The sum, `pmf(t) + surv(t)` is the fraction that survive until `t`. \n",
    "\n",
    "So the hazard rate is the ratio of `pmf(t)` to the sum `pmf(t) + surv(t)`.\n",
    "We can compute it like this:"
   ]
  },
  {
   "cell_type": "code",
   "execution_count": 17,
   "metadata": {
    "tags": []
   },
   "outputs": [],
   "source": []
  },
  {
   "cell_type": "markdown",
   "metadata": {},
   "source": [
    "Here's what the hazard function looks like:"
   ]
  },
  {
   "cell_type": "code",
   "execution_count": 18,
   "metadata": {},
   "outputs": [],
   "source": [
    "haz.plot()\n",
    "decorate(xlabel='Lifetime (hours)', \n",
    "         ylabel='Hazard rate', \n",
    "         title='Hazard function of lightbulb lifetimes')"
   ]
  },
  {
   "cell_type": "markdown",
   "metadata": {},
   "source": [
    "With this kind of data, plotting the hazard function does not provide a clear picture of what's happening.  There are two problems:\n",
    "\n",
    "1) The plot shows spikes at the locations of the data, but it is hard to see the shape of the curve.\n",
    "\n",
    "2) The large values on the right are unreliable because they are based on a small number of values.\n",
    "\n",
    "To explain the second point, let's look at the last few rows of the failure column, `f`:"
   ]
  },
  {
   "cell_type": "code",
   "execution_count": 19,
   "metadata": {},
   "outputs": [],
   "source": [
    "df.tail()"
   ]
  },
  {
   "cell_type": "markdown",
   "metadata": {},
   "source": [
    "We can see that one bulb failed at each of 1812, 1836, 1860, 1980, and 2568 hours.\n",
    "\n",
    "So the last value of the hazard function is based on only one bulb; the second-to-last point is based on 2 bulbs; and so on."
   ]
  },
  {
   "cell_type": "markdown",
   "metadata": {},
   "source": [
    "## The cumulative hazard function\n",
    "\n",
    "To get a better sense for the shape of the curve, we can plot the cumulative hazard function, like this:"
   ]
  },
  {
   "cell_type": "code",
   "execution_count": 20,
   "metadata": {},
   "outputs": [],
   "source": [
    "haz.cumsum().plot()\n",
    "\n",
    "decorate(xlabel='Lifetime (hours)', \n",
    "         ylabel='Cumulative hazard rate', \n",
    "         title='Hazard function of lightbulb lifetimes')"
   ]
  },
  {
   "cell_type": "markdown",
   "metadata": {},
   "source": [
    "The slope of the cumulative hazard function is proportional to the hazard rate, so we can use this curve to see when the hazard rate is low or high, and when it is increasing or decreasing.\n",
    "\n",
    "Between 0 and 1000 hours, the slope is low, so the hazard rate is low.\n",
    "\n",
    "Between 1000 and 2000 hours, the slope is increasing, so the hazard rate is increasing."
   ]
  },
  {
   "cell_type": "markdown",
   "metadata": {},
   "source": [
    "But notice that the vertical scale goes to 4.  You might wonder that that means; the answer is \"not much\".\n",
    "\n",
    "The values of the hazard function are rates, that is, percentages of light bulbs that expire at each point in time.  When you add up these rates, the result does not have a clear interpretation.  \n",
    "\n",
    "When you look at a cumulative hazard function, you should pay attention to the slope of the curve and ignore the values."
   ]
  },
  {
   "cell_type": "markdown",
   "metadata": {},
   "source": [
    "## Resampling\n",
    "\n",
    "In the previous section, I suggested that we have to be careful not to overinterpret the right side of the hazard function, because it is based on a small number of data points.\n",
    "\n",
    "To see how precise the estimated hazard function is, we can use resampling.\n",
    "\n",
    "First I will use the Pmf of lifetimes to make a kernel density estimate (KDE) of the distribution."
   ]
  },
  {
   "cell_type": "code",
   "execution_count": 21,
   "metadata": {},
   "outputs": [],
   "source": [
    "from scipy.stats import gaussian_kde\n",
    "    \n",
    "kde = gaussian_kde(pmf.index, weights=pmf)\n",
    "size = df['f'].sum()"
   ]
  },
  {
   "cell_type": "markdown",
   "metadata": {},
   "source": [
    "We can use the KDE to draw a new sample of lifetimes, with the same size as the original data set, like this."
   ]
  },
  {
   "cell_type": "code",
   "execution_count": 22,
   "metadata": {},
   "outputs": [],
   "source": [
    "sample = kde.resample(size).flatten()\n",
    "sample.shape"
   ]
  },
  {
   "cell_type": "markdown",
   "metadata": {},
   "source": [
    "The following function takes a sample and computes its PMF, CDF, survival function, and hazard function."
   ]
  },
  {
   "cell_type": "code",
   "execution_count": 23,
   "metadata": {},
   "outputs": [],
   "source": [
    "def make_hazard(sample):\n",
    "    pmf = pd.Series(sample).value_counts(normalize=True).sort_index()    \n",
    "    cdf = pmf.cumsum()\n",
    "    surv = 1 - cdf\n",
    "    haz = pmf / (pmf + surv)\n",
    "    return pmf, cdf, surv, haz"
   ]
  },
  {
   "cell_type": "markdown",
   "metadata": {},
   "source": [
    "I'll generate 1000 samples and plot their survival functions."
   ]
  },
  {
   "cell_type": "code",
   "execution_count": 24,
   "metadata": {},
   "outputs": [],
   "source": [
    "for i in range(100):\n",
    "    sample = kde.resample(size).flatten()\n",
    "    _, _, sf, _ = make_hazard(sample)\n",
    "    sf.plot(color='gray', alpha=0.1)\n",
    "    \n",
    "surv.plot()\n",
    "decorate(xlabel='Lifetime (hours)', \n",
    "         ylabel='Prob(lifetime>t)', \n",
    "         title='Survival function of lightbulb lifetimes')"
   ]
  },
  {
   "cell_type": "markdown",
   "metadata": {},
   "source": [
    "By plotting the resampled survival functions on top of each other, we can get a sense of how much the results vary due to random sampling.\n",
    "\n",
    "We can do the same thing with the hazard function:"
   ]
  },
  {
   "cell_type": "code",
   "execution_count": 25,
   "metadata": {},
   "outputs": [],
   "source": [
    "for i in range(100):\n",
    "    sample = kde.resample(size).flatten()\n",
    "    _, _, _, hf = make_hazard(sample)\n",
    "    hf.cumsum().plot(color='gray', alpha=0.1)\n",
    "\n",
    "haz.cumsum().plot()\n",
    "\n",
    "decorate(xlabel='Lifetime (hours)', \n",
    "         ylabel='Cumulative hazard rate', \n",
    "         title='Hazard function of lightbulb lifetimes')"
   ]
  },
  {
   "cell_type": "markdown",
   "metadata": {},
   "source": [
    "This plot gives us a sense of which parts of the cumulative hazard function are reliable and which are not.\n",
    "\n",
    "Below 2000 hours, all of the resampled curves are similar; they increase with increasing slope.\n",
    "\n",
    "After that, the variability of the curves is much wider, which means we don't have enough data to characterize this part of the hazard function."
   ]
  },
  {
   "cell_type": "markdown",
   "metadata": {},
   "source": [
    "## Summary\n",
    "\n",
    "We have seen four ways to represent a distribution of lifetimes:\n",
    "\n",
    "* Probability mass function (PMF), which maps from each value in the distribution to its probability.\n",
    "\n",
    "* Cumulative distribution function (CDF), which maps from each value, `x`, to its cumulative probability, that is, the probability of being less than or equal to `x`.\n",
    "\n",
    "* Survival function, which is the complement of the CDF; that is, the probability of exceeding `x`.\n",
    "\n",
    "* Hazard function, which is the number of failures at `x` as a fraction of the number of cases that survive until `x`.\n",
    "\n",
    "These representations are equivalent in the sense that they all contain the same information.  Given any of them, we can compute any of the others.\n",
    "\n",
    "In this notebook, we computed the `Pmf` directly from the data, then computed the `Cdf`, survival function, and hazard function, in that order.\n",
    "\n",
    "In the next notebook we will use these representations to deal with a case where we cannot compute the PMF directly from the data."
   ]
  },
  {
   "cell_type": "markdown",
   "metadata": {},
   "source": [
    "Part of [Survival Analysis in Python](https://allendowney.github.io/SurvivalAnalysisPython/)\n",
    "\n",
    "Allen B. Downey\n",
    "\n",
    "[Attribution-NonCommercial-ShareAlike 4.0 International (CC BY-NC-SA 4.0)](https://creativecommons.org/licenses/by-nc-sa/4.0/)"
   ]
  }
 ],
 "metadata": {
  "celltoolbar": "Tags",
  "kernelspec": {
   "display_name": "Python 3 (ipykernel)",
   "language": "python",
   "name": "python3"
  },
  "language_info": {
   "codemirror_mode": {
    "name": "ipython",
    "version": 3
   },
   "file_extension": ".py",
   "mimetype": "text/x-python",
   "name": "python",
   "nbconvert_exporter": "python",
   "pygments_lexer": "ipython3",
   "version": "3.7.11"
  }
 },
 "nbformat": 4,
 "nbformat_minor": 2
}
