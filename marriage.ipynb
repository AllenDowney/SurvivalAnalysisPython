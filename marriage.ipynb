{
 "cells": [
  {
   "cell_type": "markdown",
   "metadata": {},
   "source": [
    "# Survival Analysis in Python\n",
    "\n",
    "Marriage and divorce data\n",
    "\n",
    "Allen B. Downey\n",
    "\n",
    "[MIT License](https://en.wikipedia.org/wiki/MIT_License)"
   ]
  },
  {
   "cell_type": "markdown",
   "metadata": {},
   "source": [
    "## Introduction\n",
    "\n",
    "In this notebook we use Kaplan-Meier estimation to data from the National Survey of Family Growth (NSFG) and explore changes in marriage patterns in the U.S."
   ]
  },
  {
   "cell_type": "markdown",
   "metadata": {},
   "source": [
    "### Setup"
   ]
  },
  {
   "cell_type": "code",
   "execution_count": 1,
   "metadata": {},
   "outputs": [],
   "source": [
    "# If we're running in Colab, set up the environment\n",
    "\n",
    "import sys\n",
    "IN_COLAB = 'google.colab' in sys.modules\n",
    "\n",
    "if IN_COLAB:\n",
    "    !pip install empiricaldist"
   ]
  },
  {
   "cell_type": "code",
   "execution_count": 2,
   "metadata": {},
   "outputs": [],
   "source": [
    "import pandas as pd\n",
    "import numpy as np\n",
    "import matplotlib.pyplot as plt\n",
    "import seaborn as sns\n",
    "\n",
    "from empiricaldist import Pmf, Cdf, Surv, Hazard"
   ]
  },
  {
   "cell_type": "code",
   "execution_count": 3,
   "metadata": {},
   "outputs": [],
   "source": [
    "def decorate(**options):\n",
    "    \"\"\"Decorate the current axes.\n",
    "    Call decorate with keyword arguments like\n",
    "    decorate(title='Title',\n",
    "             xlabel='x',\n",
    "             ylabel='y')\n",
    "    The keyword arguments can be any of the axis properties\n",
    "    https://matplotlib.org/api/axes_api.html\n",
    "    \"\"\"\n",
    "    plt.gca().set(**options)\n",
    "    plt.tight_layout()"
   ]
  },
  {
   "cell_type": "code",
   "execution_count": 4,
   "metadata": {},
   "outputs": [],
   "source": [
    "# Load the data file\n",
    "\n",
    "import os\n",
    "\n",
    "datafile = 'nsfg.hdf5'\n",
    "if not os.path.exists(datafile):\n",
    "    !wget https://github.com/AllenDowney/SurvivalAnalysisPython/raw/master/nsfg.hdf5"
   ]
  },
  {
   "cell_type": "code",
   "execution_count": 5,
   "metadata": {},
   "outputs": [
    {
     "data": {
      "text/plain": [
       "(5554, 4)"
      ]
     },
     "execution_count": 5,
     "metadata": {},
     "output_type": "execute_result"
    }
   ],
   "source": [
    "nsfg = pd.read_hdf('nsfg.hdf5', 'nsfg')\n",
    "nsfg.shape"
   ]
  },
  {
   "cell_type": "code",
   "execution_count": 6,
   "metadata": {},
   "outputs": [
    {
     "data": {
      "text/html": [
       "<div>\n",
       "<style scoped>\n",
       "    .dataframe tbody tr th:only-of-type {\n",
       "        vertical-align: middle;\n",
       "    }\n",
       "\n",
       "    .dataframe tbody tr th {\n",
       "        vertical-align: top;\n",
       "    }\n",
       "\n",
       "    .dataframe thead th {\n",
       "        text-align: right;\n",
       "    }\n",
       "</style>\n",
       "<table border=\"1\" class=\"dataframe\">\n",
       "  <thead>\n",
       "    <tr style=\"text-align: right;\">\n",
       "      <th></th>\n",
       "      <th>cmintvw</th>\n",
       "      <th>cmbirth</th>\n",
       "      <th>cmmarr1</th>\n",
       "      <th>cmdiss1</th>\n",
       "    </tr>\n",
       "  </thead>\n",
       "  <tbody>\n",
       "    <tr>\n",
       "      <th>0</th>\n",
       "      <td>1400</td>\n",
       "      <td>847</td>\n",
       "      <td>1161.0</td>\n",
       "      <td>NaN</td>\n",
       "    </tr>\n",
       "    <tr>\n",
       "      <th>1</th>\n",
       "      <td>1409</td>\n",
       "      <td>887</td>\n",
       "      <td>1267.0</td>\n",
       "      <td>NaN</td>\n",
       "    </tr>\n",
       "    <tr>\n",
       "      <th>2</th>\n",
       "      <td>1410</td>\n",
       "      <td>1188</td>\n",
       "      <td>NaN</td>\n",
       "      <td>NaN</td>\n",
       "    </tr>\n",
       "    <tr>\n",
       "      <th>3</th>\n",
       "      <td>1410</td>\n",
       "      <td>909</td>\n",
       "      <td>1193.0</td>\n",
       "      <td>NaN</td>\n",
       "    </tr>\n",
       "    <tr>\n",
       "      <th>4</th>\n",
       "      <td>1401</td>\n",
       "      <td>1077</td>\n",
       "      <td>NaN</td>\n",
       "      <td>NaN</td>\n",
       "    </tr>\n",
       "  </tbody>\n",
       "</table>\n",
       "</div>"
      ],
      "text/plain": [
       "   cmintvw  cmbirth  cmmarr1  cmdiss1\n",
       "0     1400      847   1161.0      NaN\n",
       "1     1409      887   1267.0      NaN\n",
       "2     1410     1188      NaN      NaN\n",
       "3     1410      909   1193.0      NaN\n",
       "4     1401     1077      NaN      NaN"
      ]
     },
     "execution_count": 6,
     "metadata": {},
     "output_type": "execute_result"
    }
   ],
   "source": [
    "nsfg.head()"
   ]
  },
  {
   "cell_type": "markdown",
   "metadata": {},
   "source": [
    "## Plotting lifelines\n",
    "\n",
    "During each phase of the General Social Survey (GSS), respondents are interviewed at different times over a period of 2 years.\n",
    "\n",
    "For each respondent, the variable `cmintvw` contains the date they were interviewed, encoded as a \"century month\", that is, the number of months since January 2000.\n",
    "\n",
    "The difference between the earliest and latest interview is 24 months."
   ]
  },
  {
   "cell_type": "code",
   "execution_count": 7,
   "metadata": {},
   "outputs": [
    {
     "data": {
      "text/plain": [
       "24"
      ]
     },
     "execution_count": 7,
     "metadata": {},
     "output_type": "execute_result"
    }
   ],
   "source": [
    "nsfg['cmintvw'].max() - nsfg['cmintvw'].min()"
   ]
  },
  {
   "cell_type": "markdown",
   "metadata": {},
   "source": [
    "The respondents are observed at different ages.  For each respondent, the variable `cmbirth` is their century month of birth.  So we can compute ages like this:"
   ]
  },
  {
   "cell_type": "code",
   "execution_count": 8,
   "metadata": {},
   "outputs": [
    {
     "data": {
      "text/plain": [
       "(15.0, 50.583333333333336)"
      ]
     },
     "execution_count": 8,
     "metadata": {},
     "output_type": "execute_result"
    }
   ],
   "source": [
    "age = (nsfg['cmintvw'] - nsfg['cmbirth']) / 12\n",
    "min(age), max(age)"
   ]
  },
  {
   "cell_type": "markdown",
   "metadata": {},
   "source": [
    "The age range is from 15 to 50."
   ]
  },
  {
   "cell_type": "code",
   "execution_count": 9,
   "metadata": {},
   "outputs": [
    {
     "data": {
      "text/plain": [
       "count    5554.000000\n",
       "mean       32.609516\n",
       "std         9.875581\n",
       "min        15.000000\n",
       "25%        24.166667\n",
       "50%        32.291667\n",
       "75%        41.250000\n",
       "max        50.583333\n",
       "dtype: float64"
      ]
     },
     "execution_count": 9,
     "metadata": {},
     "output_type": "execute_result"
    }
   ],
   "source": [
    "age.describe()"
   ]
  },
  {
   "cell_type": "markdown",
   "metadata": {},
   "source": [
    "For each respondent, the variable `cmmarr1` contains the century month when they were first married, or `NaN` if they have never been married.\n",
    "\n",
    "To see how many respondents have ever married, we can make a Boolean Series like this: "
   ]
  },
  {
   "cell_type": "code",
   "execution_count": 10,
   "metadata": {},
   "outputs": [
    {
     "data": {
      "text/plain": [
       "True     3019\n",
       "False    2535\n",
       "Name: cmmarr1, dtype: int64"
      ]
     },
     "execution_count": 10,
     "metadata": {},
     "output_type": "execute_result"
    }
   ],
   "source": [
    "ever_married = nsfg['cmmarr1'].notna()\n",
    "ever_married.value_counts()"
   ]
  },
  {
   "cell_type": "markdown",
   "metadata": {},
   "source": [
    "And we can compute the age at first marriage like this:"
   ]
  },
  {
   "cell_type": "code",
   "execution_count": 11,
   "metadata": {},
   "outputs": [
    {
     "data": {
      "text/plain": [
       "count    3019.000000\n",
       "mean       24.501187\n",
       "std         5.005941\n",
       "min        12.500000\n",
       "25%        20.916667\n",
       "50%        23.833333\n",
       "75%        27.166667\n",
       "max        47.083333\n",
       "dtype: float64"
      ]
     },
     "execution_count": 11,
     "metadata": {},
     "output_type": "execute_result"
    }
   ],
   "source": [
    "age_married = (nsfg['cmmarr1'] - nsfg['cmbirth']) /  12\n",
    "age_married.describe()"
   ]
  },
  {
   "cell_type": "markdown",
   "metadata": {},
   "source": [
    "Here is the CDF of age at first marriage for respondents who have been married."
   ]
  },
  {
   "cell_type": "code",
   "execution_count": 12,
   "metadata": {},
   "outputs": [
    {
     "data": {
      "image/png": "[encoded data removed]",
      "text/plain": [
       "<Figure size 432x288 with 1 Axes>"
      ]
     },
     "metadata": {
      "needs_background": "light"
     },
     "output_type": "display_data"
    }
   ],
   "source": [
    "Cdf.from_seq(age_married).plot()\n",
    "\n",
    "plt.xlabel('Age (years)')\n",
    "plt.ylabel('CDF')\n",
    "plt.title('Age at first marriage');"
   ]
  },
  {
   "cell_type": "markdown",
   "metadata": {},
   "source": [
    "I was surprised to see so many women who report being married before age 18.  It's possible that some of these values are errors, but they are consistent with the NSFG codebook, so for purposes of this exploration I will take them at face value."
   ]
  },
  {
   "cell_type": "markdown",
   "metadata": {},
   "source": [
    "## Plotting lifelines\n",
    "\n",
    "Because of the design of the NSFG, we observe different respondents at different ages.  Younger respondents who are not yet married are likely, but not certain, to get married in the future.  Older respondents who have never married probably won't, but they might.\n",
    "\n",
    "The following figure is a graphical representation of the data we have.  For respondents who have married, it shows the time between birth and first marriage.  For respondents who have never married, it shows the time between birth the the date of interview."
   ]
  },
  {
   "cell_type": "code",
   "execution_count": 13,
   "metadata": {},
   "outputs": [],
   "source": [
    "def plot_lifelines(df, start, end1, end2):\n",
    "    \"\"\"Plot a line for each respondent.\n",
    "    \n",
    "    If end1 is valid, plot a line from start to end1;\n",
    "    otherwise, plot a line from start to end2.\n",
    "    \n",
    "    df: DataFrame\n",
    "    start: string variable for start time\n",
    "    end1: string variable name for first end point\n",
    "    end2: strong variable name for second end point\n",
    "    \"\"\"\n",
    "    for y, row in df.iterrows():\n",
    "        x1 = row[start]\n",
    "    \n",
    "        if np.isnan(row[end1]):\n",
    "            # ongoing\n",
    "            x2 = row[end2]\n",
    "            plt.hlines(y, x1, x2, color='C0')\n",
    "        else:\n",
    "            # complete\n",
    "            x2 = row[end1]\n",
    "            plt.hlines(y, x1, x2, color='C1')\n",
    "            plt.plot(x2, y, marker='o', color='C1')"
   ]
  },
  {
   "cell_type": "markdown",
   "metadata": {},
   "source": [
    "Let's see what the lines look like for the first 20 respondents."
   ]
  },
  {
   "cell_type": "code",
   "execution_count": 14,
   "metadata": {},
   "outputs": [
    {
     "data": {
      "image/png": "[encoded data removed]",
      "text/plain": [
       "<Figure size 432x288 with 1 Axes>"
      ]
     },
     "metadata": {
      "needs_background": "light"
     },
     "output_type": "display_data"
    }
   ],
   "source": [
    "first20 = nsfg[:20]\n",
    "\n",
    "plot_lifelines(first20, 'cmbirth', 'cmmarr1', 'cmintvw')\n",
    "decorate(xlabel='Time (months since 1900)',\n",
    "         ylim=[-1, 20],\n",
    "         yticks=[0, 5, 10, 15, 20],\n",
    "         ylabel='Respondent index')\n",
    "\n",
    "plt.gca().invert_yaxis()"
   ]
  },
  {
   "cell_type": "markdown",
   "metadata": {},
   "source": [
    "This diagram is meant to help you form a mental model of the data."
   ]
  },
  {
   "cell_type": "markdown",
   "metadata": {},
   "source": [
    "## Estimating survival\n",
    "\n",
    "Now suppose we want to know the distribution of \"survival time\" from birth to first marriage.\n",
    "\n",
    "For the respondents who have been married, we have all the data we need.\n",
    "\n",
    "For the other respondents, we have only partial information; for example, if an unmarried respondent is age 35 at the time of interview, we don't know if or when she will be married.  But we can put a lower bound on it: she will not be married prior to age 35.\n",
    "\n",
    "It might be tempting compute a survival curve using the data we have, and ignoring respondents who are not married.  Here's what it looks like:"
   ]
  },
  {
   "cell_type": "code",
   "execution_count": 15,
   "metadata": {},
   "outputs": [
    {
     "data": {
      "image/png": "[encoded data removed]",
      "text/plain": [
       "<Figure size 432x288 with 1 Axes>"
      ]
     },
     "metadata": {
      "needs_background": "light"
     },
     "output_type": "display_data"
    }
   ],
   "source": [
    "age_married = (nsfg['cmmarr1'] - nsfg['cmbirth']) /  12\n",
    "\n",
    "surv_married = Surv.from_seq(age_married)\n",
    "surv_married.plot()\n",
    "\n",
    "plt.xlabel('Age (years)')\n",
    "plt.ylabel('Survival curve')\n",
    "plt.title('Age at first marriage for respondents who have married');"
   ]
  },
  {
   "cell_type": "markdown",
   "metadata": {},
   "source": [
    "This survival curve shows ages at first myarriage, but only for respondents who have married.\n",
    "\n",
    "If we want to know the distribution of ages for the whole population, this is not an accurate way to get it, for several reasons:\n",
    "\n",
    "1) Because we selected only married respondents, it is not possible to estimate the fraction that never marry.\n",
    "\n",
    "2) By selecting married respondents, we are more likely to sample people who marry young.\n",
    "\n",
    "3) And we are less likely to select younger respondents.\n",
    "\n",
    "So this way of estimating the survival curve is biased three times over!\n",
    "\n",
    "Fortunately, there is a simple, unbiased way to estimate the survival curve using all of the data."
   ]
  },
  {
   "cell_type": "markdown",
   "metadata": {},
   "source": [
    "## Kaplan-Meier estimation\n",
    "\n",
    "To understand Kaplan-Meier estimation, let's review the process we used in the previous notebook to compute survival and hazard functions.\n",
    "\n",
    "As an example, suppose we observe three complete lifetimes that last 1, 3, and 6 years.\n",
    "\n",
    "We can use `value_counts` to compute an unnormalized PMF:"
   ]
  },
  {
   "cell_type": "code",
   "execution_count": 16,
   "metadata": {},
   "outputs": [
    {
     "data": {
      "text/plain": [
       "1    1\n",
       "3    1\n",
       "6    1\n",
       "dtype: int64"
      ]
     },
     "execution_count": 16,
     "metadata": {},
     "output_type": "execute_result"
    }
   ],
   "source": [
    "complete = [1,3,6]\n",
    "pmf = pd.value_counts(complete).sort_index()\n",
    "pmf"
   ]
  },
  {
   "cell_type": "markdown",
   "metadata": {},
   "source": [
    "The CDF is the cumulative sum of the PMF:"
   ]
  },
  {
   "cell_type": "code",
   "execution_count": 17,
   "metadata": {},
   "outputs": [
    {
     "data": {
      "text/plain": [
       "1    1\n",
       "3    2\n",
       "6    3\n",
       "dtype: int64"
      ]
     },
     "execution_count": 17,
     "metadata": {},
     "output_type": "execute_result"
    }
   ],
   "source": [
    "cdf = pmf.cumsum()\n",
    "cdf"
   ]
  },
  {
   "cell_type": "markdown",
   "metadata": {},
   "source": [
    "The survival function is the complement of the CDF, so we subtract from the total number of observations:"
   ]
  },
  {
   "cell_type": "code",
   "execution_count": 18,
   "metadata": {},
   "outputs": [
    {
     "data": {
      "text/plain": [
       "1    2\n",
       "3    1\n",
       "6    0\n",
       "dtype: int64"
      ]
     },
     "execution_count": 18,
     "metadata": {},
     "output_type": "execute_result"
    }
   ],
   "source": [
    "surv = 3 - cdf\n",
    "surv"
   ]
  },
  {
   "cell_type": "markdown",
   "metadata": {},
   "source": [
    "The survival function indicates that 2 cases survived more than 1 year, 1 case survived more than 3 years, and no cases survived more than 6 year.\n",
    "\n",
    "To compute the hazard rate, we compute the ratio of\n",
    "\n",
    "1) The number of cases that ended at each time value, which is the PMF.\n",
    "\n",
    "2) The number of cases that were alive and \"at risk\" at each time value, which is the sum of the PMF and the survival function.\n",
    "\n",
    "So we compute the hazard function like this:"
   ]
  },
  {
   "cell_type": "code",
   "execution_count": 19,
   "metadata": {},
   "outputs": [
    {
     "data": {
      "text/plain": [
       "1    0.333333\n",
       "3    0.500000\n",
       "6    1.000000\n",
       "dtype: float64"
      ]
     },
     "execution_count": 19,
     "metadata": {},
     "output_type": "execute_result"
    }
   ],
   "source": [
    "haz = pmf / (pmf + surv)\n",
    "haz"
   ]
  },
  {
   "cell_type": "markdown",
   "metadata": {},
   "source": [
    "The survival function indicates that \n",
    "\n",
    "1) Of the cases alive at 1 year, `1/3` ended.\n",
    "\n",
    "2) Of the cases still alive at 3 years, `1/2` ended.\n",
    "\n",
    "3) Of the cases still alive at 6 years, all ended.\n",
    "\n",
    "In summary, when we have an unbiased sample of complete lifetimes, we can compute the hazard function by computing the PMF, CDF, and survival curve."
   ]
  },
  {
   "cell_type": "markdown",
   "metadata": {},
   "source": [
    "Now suppose that in addition to the complete cases at years 1, 3, and 6, we have another three cases that are observed alive at times 2, 3, and 5.\n",
    "\n",
    "We can't compute the PMF, CDF, or survival function directly, but *we can estimate the hazard function*.  Then we can work backward to get the survival function, CDF, and PMF.\n",
    "\n",
    "The process is almost the same as what we just saw.  To compute the hazard rate, we compute the ratio of\n",
    "\n",
    "1) The number of cases that ended at each time value, which is the PMF.\n",
    "\n",
    "2) The number of cases that were alive and \"at risk\" at each time value.\n",
    "\n",
    "The difference is that we have to work a little harder to compute the number of cases at risk.\n",
    "\n",
    "I'll start by computing the PMF for both the complete and ongoing cases.  This time I'll use unnormalized `Pmf` objects from `empiricaldist`: "
   ]
  },
  {
   "cell_type": "code",
   "execution_count": 20,
   "metadata": {},
   "outputs": [],
   "source": [
    "complete = [1,3,6]\n",
    "ongoing = [2,3,5,7]\n",
    "\n",
    "pmf_complete = Pmf.from_seq(complete, normalize=False)\n",
    "pmf_ongoing = Pmf.from_seq(ongoing, normalize=False)"
   ]
  },
  {
   "cell_type": "markdown",
   "metadata": {},
   "source": [
    "When we add two `Pmf` objects, the index of the result is the union of the two indices."
   ]
  },
  {
   "cell_type": "code",
   "execution_count": 21,
   "metadata": {},
   "outputs": [
    {
     "data": {
      "text/plain": [
       "array([1, 2, 3, 5, 6, 7])"
      ]
     },
     "execution_count": 21,
     "metadata": {},
     "output_type": "execute_result"
    }
   ],
   "source": [
    "observed = pmf_complete + pmf_ongoing\n",
    "ts = observed.qs\n",
    "ts"
   ]
  },
  {
   "cell_type": "markdown",
   "metadata": {},
   "source": [
    "Here's what the PMFs look like in a table."
   ]
  },
  {
   "cell_type": "code",
   "execution_count": 22,
   "metadata": {},
   "outputs": [
    {
     "data": {
      "text/html": [
       "<div>\n",
       "<style scoped>\n",
       "    .dataframe tbody tr th:only-of-type {\n",
       "        vertical-align: middle;\n",
       "    }\n",
       "\n",
       "    .dataframe tbody tr th {\n",
       "        vertical-align: top;\n",
       "    }\n",
       "\n",
       "    .dataframe thead th {\n",
       "        text-align: right;\n",
       "    }\n",
       "</style>\n",
       "<table border=\"1\" class=\"dataframe\">\n",
       "  <thead>\n",
       "    <tr style=\"text-align: right;\">\n",
       "      <th></th>\n",
       "      <th>pmf_complete</th>\n",
       "      <th>pmf_ongoing</th>\n",
       "    </tr>\n",
       "  </thead>\n",
       "  <tbody>\n",
       "    <tr>\n",
       "      <th>1</th>\n",
       "      <td>1.0</td>\n",
       "      <td>NaN</td>\n",
       "    </tr>\n",
       "    <tr>\n",
       "      <th>2</th>\n",
       "      <td>NaN</td>\n",
       "      <td>1.0</td>\n",
       "    </tr>\n",
       "    <tr>\n",
       "      <th>3</th>\n",
       "      <td>1.0</td>\n",
       "      <td>1.0</td>\n",
       "    </tr>\n",
       "    <tr>\n",
       "      <th>5</th>\n",
       "      <td>NaN</td>\n",
       "      <td>1.0</td>\n",
       "    </tr>\n",
       "    <tr>\n",
       "      <th>6</th>\n",
       "      <td>1.0</td>\n",
       "      <td>NaN</td>\n",
       "    </tr>\n",
       "    <tr>\n",
       "      <th>7</th>\n",
       "      <td>NaN</td>\n",
       "      <td>1.0</td>\n",
       "    </tr>\n",
       "  </tbody>\n",
       "</table>\n",
       "</div>"
      ],
      "text/plain": [
       "   pmf_complete  pmf_ongoing\n",
       "1           1.0          NaN\n",
       "2           NaN          1.0\n",
       "3           1.0          1.0\n",
       "5           NaN          1.0\n",
       "6           1.0          NaN\n",
       "7           NaN          1.0"
      ]
     },
     "execution_count": 22,
     "metadata": {},
     "output_type": "execute_result"
    }
   ],
   "source": [
    "df = pd.DataFrame(index=ts)\n",
    "df['pmf_complete'] = pmf_complete\n",
    "df['pmf_ongoing'] = pmf_ongoing\n",
    "df"
   ]
  },
  {
   "cell_type": "markdown",
   "metadata": {},
   "source": [
    "We can use the PMFs to compute survival functions for the two groups"
   ]
  },
  {
   "cell_type": "code",
   "execution_count": 23,
   "metadata": {},
   "outputs": [],
   "source": [
    "surv_complete = pmf_complete.make_surv()\n",
    "surv_ongoing = pmf_ongoing.make_surv()"
   ]
  },
  {
   "cell_type": "markdown",
   "metadata": {},
   "source": [
    "Then we evaluate the survival functions at the times when we observed the cases."
   ]
  },
  {
   "cell_type": "code",
   "execution_count": 24,
   "metadata": {},
   "outputs": [],
   "source": [
    "s_complete = surv_complete(ts)\n",
    "s_ongoing = surv_ongoing(ts)"
   ]
  },
  {
   "cell_type": "markdown",
   "metadata": {},
   "source": [
    "Here's what that looks like in the table."
   ]
  },
  {
   "cell_type": "code",
   "execution_count": 25,
   "metadata": {},
   "outputs": [
    {
     "data": {
      "text/html": [
       "<div>\n",
       "<style scoped>\n",
       "    .dataframe tbody tr th:only-of-type {\n",
       "        vertical-align: middle;\n",
       "    }\n",
       "\n",
       "    .dataframe tbody tr th {\n",
       "        vertical-align: top;\n",
       "    }\n",
       "\n",
       "    .dataframe thead th {\n",
       "        text-align: right;\n",
       "    }\n",
       "</style>\n",
       "<table border=\"1\" class=\"dataframe\">\n",
       "  <thead>\n",
       "    <tr style=\"text-align: right;\">\n",
       "      <th></th>\n",
       "      <th>pmf_complete</th>\n",
       "      <th>pmf_ongoing</th>\n",
       "      <th>s_complete</th>\n",
       "      <th>s_ongoing</th>\n",
       "    </tr>\n",
       "  </thead>\n",
       "  <tbody>\n",
       "    <tr>\n",
       "      <th>1</th>\n",
       "      <td>1.0</td>\n",
       "      <td>NaN</td>\n",
       "      <td>2.0</td>\n",
       "      <td>4.0</td>\n",
       "    </tr>\n",
       "    <tr>\n",
       "      <th>2</th>\n",
       "      <td>NaN</td>\n",
       "      <td>1.0</td>\n",
       "      <td>2.0</td>\n",
       "      <td>3.0</td>\n",
       "    </tr>\n",
       "    <tr>\n",
       "      <th>3</th>\n",
       "      <td>1.0</td>\n",
       "      <td>1.0</td>\n",
       "      <td>1.0</td>\n",
       "      <td>2.0</td>\n",
       "    </tr>\n",
       "    <tr>\n",
       "      <th>5</th>\n",
       "      <td>NaN</td>\n",
       "      <td>1.0</td>\n",
       "      <td>1.0</td>\n",
       "      <td>1.0</td>\n",
       "    </tr>\n",
       "    <tr>\n",
       "      <th>6</th>\n",
       "      <td>1.0</td>\n",
       "      <td>NaN</td>\n",
       "      <td>0.0</td>\n",
       "      <td>1.0</td>\n",
       "    </tr>\n",
       "    <tr>\n",
       "      <th>7</th>\n",
       "      <td>NaN</td>\n",
       "      <td>1.0</td>\n",
       "      <td>0.0</td>\n",
       "      <td>0.0</td>\n",
       "    </tr>\n",
       "  </tbody>\n",
       "</table>\n",
       "</div>"
      ],
      "text/plain": [
       "   pmf_complete  pmf_ongoing  s_complete  s_ongoing\n",
       "1           1.0          NaN         2.0        4.0\n",
       "2           NaN          1.0         2.0        3.0\n",
       "3           1.0          1.0         1.0        2.0\n",
       "5           NaN          1.0         1.0        1.0\n",
       "6           1.0          NaN         0.0        1.0\n",
       "7           NaN          1.0         0.0        0.0"
      ]
     },
     "execution_count": 25,
     "metadata": {},
     "output_type": "execute_result"
    }
   ],
   "source": [
    "df['s_complete'] = s_complete\n",
    "df['s_ongoing'] = s_ongoing\n",
    "df"
   ]
  },
  {
   "cell_type": "markdown",
   "metadata": {},
   "source": [
    "At each time step, `t`, the total number of cases at risk is the sum of:\n",
    "\n",
    "1) The number cases that end at `t`, which is `pmf_complete`.\n",
    "\n",
    "2) The number of ongoing cases observed at `t`, which is `pmf_ongoing`,\n",
    "\n",
    "3) The number of complete cases that survive past `t`, which is `s_complete`.\n",
    "\n",
    "4) The number of ongoing cases that survive past `t`, which is `s_complete`.\n",
    "\n",
    "Here's what that looks like."
   ]
  },
  {
   "cell_type": "code",
   "execution_count": 26,
   "metadata": {},
   "outputs": [
    {
     "data": {
      "text/html": [
       "<div>\n",
       "<style scoped>\n",
       "    .dataframe tbody tr th:only-of-type {\n",
       "        vertical-align: middle;\n",
       "    }\n",
       "\n",
       "    .dataframe tbody tr th {\n",
       "        vertical-align: top;\n",
       "    }\n",
       "\n",
       "    .dataframe thead th {\n",
       "        text-align: right;\n",
       "    }\n",
       "</style>\n",
       "<table border=\"1\" class=\"dataframe\">\n",
       "  <thead>\n",
       "    <tr style=\"text-align: right;\">\n",
       "      <th></th>\n",
       "      <th>pmf_complete</th>\n",
       "      <th>pmf_ongoing</th>\n",
       "      <th>s_complete</th>\n",
       "      <th>s_ongoing</th>\n",
       "      <th>at_risk</th>\n",
       "    </tr>\n",
       "  </thead>\n",
       "  <tbody>\n",
       "    <tr>\n",
       "      <th>1</th>\n",
       "      <td>1.0</td>\n",
       "      <td>NaN</td>\n",
       "      <td>2.0</td>\n",
       "      <td>4.0</td>\n",
       "      <td>7.0</td>\n",
       "    </tr>\n",
       "    <tr>\n",
       "      <th>2</th>\n",
       "      <td>NaN</td>\n",
       "      <td>1.0</td>\n",
       "      <td>2.0</td>\n",
       "      <td>3.0</td>\n",
       "      <td>6.0</td>\n",
       "    </tr>\n",
       "    <tr>\n",
       "      <th>3</th>\n",
       "      <td>1.0</td>\n",
       "      <td>1.0</td>\n",
       "      <td>1.0</td>\n",
       "      <td>2.0</td>\n",
       "      <td>5.0</td>\n",
       "    </tr>\n",
       "    <tr>\n",
       "      <th>5</th>\n",
       "      <td>NaN</td>\n",
       "      <td>1.0</td>\n",
       "      <td>1.0</td>\n",
       "      <td>1.0</td>\n",
       "      <td>3.0</td>\n",
       "    </tr>\n",
       "    <tr>\n",
       "      <th>6</th>\n",
       "      <td>1.0</td>\n",
       "      <td>NaN</td>\n",
       "      <td>0.0</td>\n",
       "      <td>1.0</td>\n",
       "      <td>2.0</td>\n",
       "    </tr>\n",
       "    <tr>\n",
       "      <th>7</th>\n",
       "      <td>NaN</td>\n",
       "      <td>1.0</td>\n",
       "      <td>0.0</td>\n",
       "      <td>0.0</td>\n",
       "      <td>1.0</td>\n",
       "    </tr>\n",
       "  </tbody>\n",
       "</table>\n",
       "</div>"
      ],
      "text/plain": [
       "   pmf_complete  pmf_ongoing  s_complete  s_ongoing  at_risk\n",
       "1           1.0          NaN         2.0        4.0      7.0\n",
       "2           NaN          1.0         2.0        3.0      6.0\n",
       "3           1.0          1.0         1.0        2.0      5.0\n",
       "5           NaN          1.0         1.0        1.0      3.0\n",
       "6           1.0          NaN         0.0        1.0      2.0\n",
       "7           NaN          1.0         0.0        0.0      1.0"
      ]
     },
     "execution_count": 26,
     "metadata": {},
     "output_type": "execute_result"
    }
   ],
   "source": [
    "at_risk = pmf_complete + pmf_ongoing + s_complete + s_ongoing\n",
    "df['at_risk'] = at_risk\n",
    "df"
   ]
  },
  {
   "cell_type": "markdown",
   "metadata": {},
   "source": [
    "Finally, the hazard function is the ratio of `pmf_complete` and `at_risk`:"
   ]
  },
  {
   "cell_type": "code",
   "execution_count": 27,
   "metadata": {},
   "outputs": [
    {
     "data": {
      "text/html": [
       "<div>\n",
       "<style scoped>\n",
       "    .dataframe tbody tr th:only-of-type {\n",
       "        vertical-align: middle;\n",
       "    }\n",
       "\n",
       "    .dataframe tbody tr th {\n",
       "        vertical-align: top;\n",
       "    }\n",
       "\n",
       "    .dataframe thead th {\n",
       "        text-align: right;\n",
       "    }\n",
       "</style>\n",
       "<table border=\"1\" class=\"dataframe\">\n",
       "  <thead>\n",
       "    <tr style=\"text-align: right;\">\n",
       "      <th></th>\n",
       "      <th>pmf_complete</th>\n",
       "      <th>pmf_ongoing</th>\n",
       "      <th>s_complete</th>\n",
       "      <th>s_ongoing</th>\n",
       "      <th>at_risk</th>\n",
       "      <th>hazard</th>\n",
       "    </tr>\n",
       "  </thead>\n",
       "  <tbody>\n",
       "    <tr>\n",
       "      <th>1</th>\n",
       "      <td>1.0</td>\n",
       "      <td>NaN</td>\n",
       "      <td>2.0</td>\n",
       "      <td>4.0</td>\n",
       "      <td>7.0</td>\n",
       "      <td>0.142857</td>\n",
       "    </tr>\n",
       "    <tr>\n",
       "      <th>2</th>\n",
       "      <td>NaN</td>\n",
       "      <td>1.0</td>\n",
       "      <td>2.0</td>\n",
       "      <td>3.0</td>\n",
       "      <td>6.0</td>\n",
       "      <td>0.000000</td>\n",
       "    </tr>\n",
       "    <tr>\n",
       "      <th>3</th>\n",
       "      <td>1.0</td>\n",
       "      <td>1.0</td>\n",
       "      <td>1.0</td>\n",
       "      <td>2.0</td>\n",
       "      <td>5.0</td>\n",
       "      <td>0.200000</td>\n",
       "    </tr>\n",
       "    <tr>\n",
       "      <th>5</th>\n",
       "      <td>NaN</td>\n",
       "      <td>1.0</td>\n",
       "      <td>1.0</td>\n",
       "      <td>1.0</td>\n",
       "      <td>3.0</td>\n",
       "      <td>0.000000</td>\n",
       "    </tr>\n",
       "    <tr>\n",
       "      <th>6</th>\n",
       "      <td>1.0</td>\n",
       "      <td>NaN</td>\n",
       "      <td>0.0</td>\n",
       "      <td>1.0</td>\n",
       "      <td>2.0</td>\n",
       "      <td>0.500000</td>\n",
       "    </tr>\n",
       "    <tr>\n",
       "      <th>7</th>\n",
       "      <td>NaN</td>\n",
       "      <td>1.0</td>\n",
       "      <td>0.0</td>\n",
       "      <td>0.0</td>\n",
       "      <td>1.0</td>\n",
       "      <td>0.000000</td>\n",
       "    </tr>\n",
       "  </tbody>\n",
       "</table>\n",
       "</div>"
      ],
      "text/plain": [
       "   pmf_complete  pmf_ongoing  s_complete  s_ongoing  at_risk    hazard\n",
       "1           1.0          NaN         2.0        4.0      7.0  0.142857\n",
       "2           NaN          1.0         2.0        3.0      6.0  0.000000\n",
       "3           1.0          1.0         1.0        2.0      5.0  0.200000\n",
       "5           NaN          1.0         1.0        1.0      3.0  0.000000\n",
       "6           1.0          NaN         0.0        1.0      2.0  0.500000\n",
       "7           NaN          1.0         0.0        0.0      1.0  0.000000"
      ]
     },
     "execution_count": 27,
     "metadata": {},
     "output_type": "execute_result"
    }
   ],
   "source": [
    "hazard = pmf_complete / at_risk\n",
    "\n",
    "df['hazard'] = hazard\n",
    "df"
   ]
  },
  {
   "cell_type": "markdown",
   "metadata": {},
   "source": [
    "With the hazard function, we can work backwards to compute the survival curve:"
   ]
  },
  {
   "cell_type": "code",
   "execution_count": 28,
   "metadata": {},
   "outputs": [
    {
     "data": {
      "text/html": [
       "<div>\n",
       "<style scoped>\n",
       "    .dataframe tbody tr th:only-of-type {\n",
       "        vertical-align: middle;\n",
       "    }\n",
       "\n",
       "    .dataframe tbody tr th {\n",
       "        vertical-align: top;\n",
       "    }\n",
       "\n",
       "    .dataframe thead th {\n",
       "        text-align: right;\n",
       "    }\n",
       "</style>\n",
       "<table border=\"1\" class=\"dataframe\">\n",
       "  <thead>\n",
       "    <tr style=\"text-align: right;\">\n",
       "      <th></th>\n",
       "      <th>pmf_complete</th>\n",
       "      <th>pmf_ongoing</th>\n",
       "      <th>s_complete</th>\n",
       "      <th>s_ongoing</th>\n",
       "      <th>at_risk</th>\n",
       "      <th>hazard</th>\n",
       "      <th>surv</th>\n",
       "    </tr>\n",
       "  </thead>\n",
       "  <tbody>\n",
       "    <tr>\n",
       "      <th>1</th>\n",
       "      <td>1.0</td>\n",
       "      <td>NaN</td>\n",
       "      <td>2.0</td>\n",
       "      <td>4.0</td>\n",
       "      <td>7.0</td>\n",
       "      <td>0.142857</td>\n",
       "      <td>0.857143</td>\n",
       "    </tr>\n",
       "    <tr>\n",
       "      <th>2</th>\n",
       "      <td>NaN</td>\n",
       "      <td>1.0</td>\n",
       "      <td>2.0</td>\n",
       "      <td>3.0</td>\n",
       "      <td>6.0</td>\n",
       "      <td>0.000000</td>\n",
       "      <td>0.857143</td>\n",
       "    </tr>\n",
       "    <tr>\n",
       "      <th>3</th>\n",
       "      <td>1.0</td>\n",
       "      <td>1.0</td>\n",
       "      <td>1.0</td>\n",
       "      <td>2.0</td>\n",
       "      <td>5.0</td>\n",
       "      <td>0.200000</td>\n",
       "      <td>0.685714</td>\n",
       "    </tr>\n",
       "    <tr>\n",
       "      <th>5</th>\n",
       "      <td>NaN</td>\n",
       "      <td>1.0</td>\n",
       "      <td>1.0</td>\n",
       "      <td>1.0</td>\n",
       "      <td>3.0</td>\n",
       "      <td>0.000000</td>\n",
       "      <td>0.685714</td>\n",
       "    </tr>\n",
       "    <tr>\n",
       "      <th>6</th>\n",
       "      <td>1.0</td>\n",
       "      <td>NaN</td>\n",
       "      <td>0.0</td>\n",
       "      <td>1.0</td>\n",
       "      <td>2.0</td>\n",
       "      <td>0.500000</td>\n",
       "      <td>0.342857</td>\n",
       "    </tr>\n",
       "    <tr>\n",
       "      <th>7</th>\n",
       "      <td>NaN</td>\n",
       "      <td>1.0</td>\n",
       "      <td>0.0</td>\n",
       "      <td>0.0</td>\n",
       "      <td>1.0</td>\n",
       "      <td>0.000000</td>\n",
       "      <td>0.342857</td>\n",
       "    </tr>\n",
       "  </tbody>\n",
       "</table>\n",
       "</div>"
      ],
      "text/plain": [
       "   pmf_complete  pmf_ongoing  s_complete  s_ongoing  at_risk    hazard  \\\n",
       "1           1.0          NaN         2.0        4.0      7.0  0.142857   \n",
       "2           NaN          1.0         2.0        3.0      6.0  0.000000   \n",
       "3           1.0          1.0         1.0        2.0      5.0  0.200000   \n",
       "5           NaN          1.0         1.0        1.0      3.0  0.000000   \n",
       "6           1.0          NaN         0.0        1.0      2.0  0.500000   \n",
       "7           NaN          1.0         0.0        0.0      1.0  0.000000   \n",
       "\n",
       "       surv  \n",
       "1  0.857143  \n",
       "2  0.857143  \n",
       "3  0.685714  \n",
       "5  0.685714  \n",
       "6  0.342857  \n",
       "7  0.342857  "
      ]
     },
     "execution_count": 28,
     "metadata": {},
     "output_type": "execute_result"
    }
   ],
   "source": [
    "surv = (1 - hazard).cumprod()\n",
    "df['surv'] = surv\n",
    "df"
   ]
  },
  {
   "cell_type": "markdown",
   "metadata": {},
   "source": [
    "And the CDF:"
   ]
  },
  {
   "cell_type": "code",
   "execution_count": 29,
   "metadata": {},
   "outputs": [
    {
     "data": {
      "text/html": [
       "<div>\n",
       "<style scoped>\n",
       "    .dataframe tbody tr th:only-of-type {\n",
       "        vertical-align: middle;\n",
       "    }\n",
       "\n",
       "    .dataframe tbody tr th {\n",
       "        vertical-align: top;\n",
       "    }\n",
       "\n",
       "    .dataframe thead th {\n",
       "        text-align: right;\n",
       "    }\n",
       "</style>\n",
       "<table border=\"1\" class=\"dataframe\">\n",
       "  <thead>\n",
       "    <tr style=\"text-align: right;\">\n",
       "      <th></th>\n",
       "      <th>pmf_complete</th>\n",
       "      <th>pmf_ongoing</th>\n",
       "      <th>s_complete</th>\n",
       "      <th>s_ongoing</th>\n",
       "      <th>at_risk</th>\n",
       "      <th>hazard</th>\n",
       "      <th>surv</th>\n",
       "      <th>cdf</th>\n",
       "    </tr>\n",
       "  </thead>\n",
       "  <tbody>\n",
       "    <tr>\n",
       "      <th>1</th>\n",
       "      <td>1.0</td>\n",
       "      <td>NaN</td>\n",
       "      <td>2.0</td>\n",
       "      <td>4.0</td>\n",
       "      <td>7.0</td>\n",
       "      <td>0.142857</td>\n",
       "      <td>0.857143</td>\n",
       "      <td>0.142857</td>\n",
       "    </tr>\n",
       "    <tr>\n",
       "      <th>2</th>\n",
       "      <td>NaN</td>\n",
       "      <td>1.0</td>\n",
       "      <td>2.0</td>\n",
       "      <td>3.0</td>\n",
       "      <td>6.0</td>\n",
       "      <td>0.000000</td>\n",
       "      <td>0.857143</td>\n",
       "      <td>0.142857</td>\n",
       "    </tr>\n",
       "    <tr>\n",
       "      <th>3</th>\n",
       "      <td>1.0</td>\n",
       "      <td>1.0</td>\n",
       "      <td>1.0</td>\n",
       "      <td>2.0</td>\n",
       "      <td>5.0</td>\n",
       "      <td>0.200000</td>\n",
       "      <td>0.685714</td>\n",
       "      <td>0.314286</td>\n",
       "    </tr>\n",
       "    <tr>\n",
       "      <th>5</th>\n",
       "      <td>NaN</td>\n",
       "      <td>1.0</td>\n",
       "      <td>1.0</td>\n",
       "      <td>1.0</td>\n",
       "      <td>3.0</td>\n",
       "      <td>0.000000</td>\n",
       "      <td>0.685714</td>\n",
       "      <td>0.314286</td>\n",
       "    </tr>\n",
       "    <tr>\n",
       "      <th>6</th>\n",
       "      <td>1.0</td>\n",
       "      <td>NaN</td>\n",
       "      <td>0.0</td>\n",
       "      <td>1.0</td>\n",
       "      <td>2.0</td>\n",
       "      <td>0.500000</td>\n",
       "      <td>0.342857</td>\n",
       "      <td>0.657143</td>\n",
       "    </tr>\n",
       "    <tr>\n",
       "      <th>7</th>\n",
       "      <td>NaN</td>\n",
       "      <td>1.0</td>\n",
       "      <td>0.0</td>\n",
       "      <td>0.0</td>\n",
       "      <td>1.0</td>\n",
       "      <td>0.000000</td>\n",
       "      <td>0.342857</td>\n",
       "      <td>0.657143</td>\n",
       "    </tr>\n",
       "  </tbody>\n",
       "</table>\n",
       "</div>"
      ],
      "text/plain": [
       "   pmf_complete  pmf_ongoing  s_complete  s_ongoing  at_risk    hazard  \\\n",
       "1           1.0          NaN         2.0        4.0      7.0  0.142857   \n",
       "2           NaN          1.0         2.0        3.0      6.0  0.000000   \n",
       "3           1.0          1.0         1.0        2.0      5.0  0.200000   \n",
       "5           NaN          1.0         1.0        1.0      3.0  0.000000   \n",
       "6           1.0          NaN         0.0        1.0      2.0  0.500000   \n",
       "7           NaN          1.0         0.0        0.0      1.0  0.000000   \n",
       "\n",
       "       surv       cdf  \n",
       "1  0.857143  0.142857  \n",
       "2  0.857143  0.142857  \n",
       "3  0.685714  0.314286  \n",
       "5  0.685714  0.314286  \n",
       "6  0.342857  0.657143  \n",
       "7  0.342857  0.657143  "
      ]
     },
     "execution_count": 29,
     "metadata": {},
     "output_type": "execute_result"
    }
   ],
   "source": [
    "cdf = 1 - surv\n",
    "df['cdf'] = cdf\n",
    "df"
   ]
  },
  {
   "cell_type": "markdown",
   "metadata": {},
   "source": [
    "And the PMF:"
   ]
  },
  {
   "cell_type": "code",
   "execution_count": 30,
   "metadata": {},
   "outputs": [
    {
     "data": {
      "text/html": [
       "<div>\n",
       "<style scoped>\n",
       "    .dataframe tbody tr th:only-of-type {\n",
       "        vertical-align: middle;\n",
       "    }\n",
       "\n",
       "    .dataframe tbody tr th {\n",
       "        vertical-align: top;\n",
       "    }\n",
       "\n",
       "    .dataframe thead th {\n",
       "        text-align: right;\n",
       "    }\n",
       "</style>\n",
       "<table border=\"1\" class=\"dataframe\">\n",
       "  <thead>\n",
       "    <tr style=\"text-align: right;\">\n",
       "      <th></th>\n",
       "      <th>pmf_complete</th>\n",
       "      <th>pmf_ongoing</th>\n",
       "      <th>s_complete</th>\n",
       "      <th>s_ongoing</th>\n",
       "      <th>at_risk</th>\n",
       "      <th>hazard</th>\n",
       "      <th>surv</th>\n",
       "      <th>cdf</th>\n",
       "      <th>pmf</th>\n",
       "    </tr>\n",
       "  </thead>\n",
       "  <tbody>\n",
       "    <tr>\n",
       "      <th>1</th>\n",
       "      <td>1.0</td>\n",
       "      <td>NaN</td>\n",
       "      <td>2.0</td>\n",
       "      <td>4.0</td>\n",
       "      <td>7.0</td>\n",
       "      <td>0.142857</td>\n",
       "      <td>0.857143</td>\n",
       "      <td>0.142857</td>\n",
       "      <td>0.142857</td>\n",
       "    </tr>\n",
       "    <tr>\n",
       "      <th>2</th>\n",
       "      <td>NaN</td>\n",
       "      <td>1.0</td>\n",
       "      <td>2.0</td>\n",
       "      <td>3.0</td>\n",
       "      <td>6.0</td>\n",
       "      <td>0.000000</td>\n",
       "      <td>0.857143</td>\n",
       "      <td>0.142857</td>\n",
       "      <td>0.000000</td>\n",
       "    </tr>\n",
       "    <tr>\n",
       "      <th>3</th>\n",
       "      <td>1.0</td>\n",
       "      <td>1.0</td>\n",
       "      <td>1.0</td>\n",
       "      <td>2.0</td>\n",
       "      <td>5.0</td>\n",
       "      <td>0.200000</td>\n",
       "      <td>0.685714</td>\n",
       "      <td>0.314286</td>\n",
       "      <td>0.171429</td>\n",
       "    </tr>\n",
       "    <tr>\n",
       "      <th>5</th>\n",
       "      <td>NaN</td>\n",
       "      <td>1.0</td>\n",
       "      <td>1.0</td>\n",
       "      <td>1.0</td>\n",
       "      <td>3.0</td>\n",
       "      <td>0.000000</td>\n",
       "      <td>0.685714</td>\n",
       "      <td>0.314286</td>\n",
       "      <td>0.000000</td>\n",
       "    </tr>\n",
       "    <tr>\n",
       "      <th>6</th>\n",
       "      <td>1.0</td>\n",
       "      <td>NaN</td>\n",
       "      <td>0.0</td>\n",
       "      <td>1.0</td>\n",
       "      <td>2.0</td>\n",
       "      <td>0.500000</td>\n",
       "      <td>0.342857</td>\n",
       "      <td>0.657143</td>\n",
       "      <td>0.342857</td>\n",
       "    </tr>\n",
       "    <tr>\n",
       "      <th>7</th>\n",
       "      <td>NaN</td>\n",
       "      <td>1.0</td>\n",
       "      <td>0.0</td>\n",
       "      <td>0.0</td>\n",
       "      <td>1.0</td>\n",
       "      <td>0.000000</td>\n",
       "      <td>0.342857</td>\n",
       "      <td>0.657143</td>\n",
       "      <td>0.000000</td>\n",
       "    </tr>\n",
       "  </tbody>\n",
       "</table>\n",
       "</div>"
      ],
      "text/plain": [
       "   pmf_complete  pmf_ongoing  s_complete  s_ongoing  at_risk    hazard  \\\n",
       "1           1.0          NaN         2.0        4.0      7.0  0.142857   \n",
       "2           NaN          1.0         2.0        3.0      6.0  0.000000   \n",
       "3           1.0          1.0         1.0        2.0      5.0  0.200000   \n",
       "5           NaN          1.0         1.0        1.0      3.0  0.000000   \n",
       "6           1.0          NaN         0.0        1.0      2.0  0.500000   \n",
       "7           NaN          1.0         0.0        0.0      1.0  0.000000   \n",
       "\n",
       "       surv       cdf       pmf  \n",
       "1  0.857143  0.142857  0.142857  \n",
       "2  0.857143  0.142857  0.000000  \n",
       "3  0.685714  0.314286  0.171429  \n",
       "5  0.685714  0.314286  0.000000  \n",
       "6  0.342857  0.657143  0.342857  \n",
       "7  0.342857  0.657143  0.000000  "
      ]
     },
     "execution_count": 30,
     "metadata": {},
     "output_type": "execute_result"
    }
   ],
   "source": [
    "pmf = cdf.diff()\n",
    "pmf[1] = cdf[1]\n",
    "\n",
    "df['pmf'] = pmf\n",
    "df"
   ]
  },
  {
   "cell_type": "markdown",
   "metadata": {},
   "source": [
    "In this example, the survival function, CDF, and PMF are normalized."
   ]
  },
  {
   "cell_type": "code",
   "execution_count": 31,
   "metadata": {},
   "outputs": [
    {
     "data": {
      "text/plain": [
       "0.657142857142857"
      ]
     },
     "execution_count": 31,
     "metadata": {},
     "output_type": "execute_result"
    }
   ],
   "source": [
    "pmf.sum()"
   ]
  },
  {
   "cell_type": "markdown",
   "metadata": {},
   "source": [
    "That's because the case with the highest value of `t` is a complete case.\n",
    "\n",
    "As an exercise, go back and add an ongoing case with `t=7`.  If you run this section again, you should see that the estimated distributions are not normalized."
   ]
  },
  {
   "cell_type": "markdown",
   "metadata": {},
   "source": [
    "## Marriage survival curves\n",
    "\n",
    "The following function encapsulates the steps in the previous section."
   ]
  },
  {
   "cell_type": "code",
   "execution_count": 32,
   "metadata": {},
   "outputs": [],
   "source": [
    "def kaplan_meier(complete, ongoing):\n",
    "    \"\"\"Estimates the hazard function by Kaplan-Meier.\n",
    "\n",
    "    http://en.wikipedia.org/wiki/Kaplan%E2%80%93Meier_estimator\n",
    "\n",
    "    complete: list of complete lifetimes\n",
    "    ongoing: list of ongoing lifetimes\n",
    "    \n",
    "    returns: Hazard object\n",
    "    \"\"\"\n",
    "    pmf_complete = Pmf.from_seq(complete, normalize=False)\n",
    "    pmf_ongoing = Pmf.from_seq(ongoing, normalize=False)\n",
    "    \n",
    "    observed = pmf_complete + pmf_ongoing\n",
    "    ts = observed.qs\n",
    "\n",
    "    surv_complete = pmf_complete.make_surv()\n",
    "    surv_ongoing = pmf_ongoing.make_surv()\n",
    "\n",
    "    s_complete = surv_complete(ts)\n",
    "    s_ongoing = surv_ongoing(ts)\n",
    "\n",
    "    at_risk = pmf_complete + pmf_ongoing + s_complete + s_ongoing\n",
    "    hazard = pmf_complete / at_risk\n",
    "\n",
    "    return Hazard(hazard)"
   ]
  },
  {
   "cell_type": "markdown",
   "metadata": {},
   "source": [
    "We can test it with the example from the previous section."
   ]
  },
  {
   "cell_type": "code",
   "execution_count": 33,
   "metadata": {},
   "outputs": [
    {
     "data": {
      "text/html": [
       "<div>\n",
       "<style scoped>\n",
       "    .dataframe tbody tr th:only-of-type {\n",
       "        vertical-align: middle;\n",
       "    }\n",
       "\n",
       "    .dataframe tbody tr th {\n",
       "        vertical-align: top;\n",
       "    }\n",
       "\n",
       "    .dataframe thead th {\n",
       "        text-align: right;\n",
       "    }\n",
       "</style>\n",
       "<table border=\"1\" class=\"dataframe\">\n",
       "  <thead>\n",
       "    <tr style=\"text-align: right;\">\n",
       "      <th></th>\n",
       "      <th>probs</th>\n",
       "    </tr>\n",
       "  </thead>\n",
       "  <tbody>\n",
       "    <tr>\n",
       "      <th>1</th>\n",
       "      <td>0.142857</td>\n",
       "    </tr>\n",
       "    <tr>\n",
       "      <th>2</th>\n",
       "      <td>0.000000</td>\n",
       "    </tr>\n",
       "    <tr>\n",
       "      <th>3</th>\n",
       "      <td>0.200000</td>\n",
       "    </tr>\n",
       "    <tr>\n",
       "      <th>5</th>\n",
       "      <td>0.000000</td>\n",
       "    </tr>\n",
       "    <tr>\n",
       "      <th>6</th>\n",
       "      <td>0.500000</td>\n",
       "    </tr>\n",
       "    <tr>\n",
       "      <th>7</th>\n",
       "      <td>0.000000</td>\n",
       "    </tr>\n",
       "  </tbody>\n",
       "</table>\n",
       "</div>"
      ],
      "text/plain": [
       "1    0.142857\n",
       "2    0.000000\n",
       "3    0.200000\n",
       "5    0.000000\n",
       "6    0.500000\n",
       "7    0.000000\n",
       "dtype: float64"
      ]
     },
     "execution_count": 33,
     "metadata": {},
     "output_type": "execute_result"
    }
   ],
   "source": [
    "kaplan_meier(complete, ongoing)"
   ]
  },
  {
   "cell_type": "markdown",
   "metadata": {},
   "source": [
    "Now let's use it with the marriage data.\n",
    "\n",
    "Again, here's the Boolean Series that tells us who has been married."
   ]
  },
  {
   "cell_type": "code",
   "execution_count": 34,
   "metadata": {},
   "outputs": [
    {
     "data": {
      "text/plain": [
       "True     3019\n",
       "False    2535\n",
       "Name: cmmarr1, dtype: int64"
      ]
     },
     "execution_count": 34,
     "metadata": {},
     "output_type": "execute_result"
    }
   ],
   "source": [
    "ever_married = nsfg['cmmarr1'].notna()\n",
    "ever_married.value_counts()"
   ]
  },
  {
   "cell_type": "markdown",
   "metadata": {},
   "source": [
    "We've already computed `age_married`, but here it is again:"
   ]
  },
  {
   "cell_type": "code",
   "execution_count": 35,
   "metadata": {},
   "outputs": [],
   "source": [
    "age_married = (nsfg['cmmarr1'] - nsfg['cmbirth']) /  12"
   ]
  },
  {
   "cell_type": "markdown",
   "metadata": {},
   "source": [
    "And here are the ages at interview."
   ]
  },
  {
   "cell_type": "code",
   "execution_count": 36,
   "metadata": {},
   "outputs": [],
   "source": [
    "age_interview = (nsfg['cmintvw'] - nsfg['cmbirth']) /  12"
   ]
  },
  {
   "cell_type": "markdown",
   "metadata": {},
   "source": [
    "`age_married` is only valid for respondents who have been married.  But just to be explicit, I'll use `ever_married` to select ages for respondents who have been married."
   ]
  },
  {
   "cell_type": "code",
   "execution_count": 37,
   "metadata": {},
   "outputs": [
    {
     "data": {
      "text/plain": [
       "3019"
      ]
     },
     "execution_count": 37,
     "metadata": {},
     "output_type": "execute_result"
    }
   ],
   "source": [
    "complete = age_married[ever_married]\n",
    "complete.count()"
   ]
  },
  {
   "cell_type": "markdown",
   "metadata": {},
   "source": [
    "`age_interview` is valid for all respondents, including the ones who have been married.\n",
    "\n",
    "So I'll use `~ever_married` to select only respondents who have never married."
   ]
  },
  {
   "cell_type": "code",
   "execution_count": 38,
   "metadata": {},
   "outputs": [
    {
     "data": {
      "text/plain": [
       "2535"
      ]
     },
     "execution_count": 38,
     "metadata": {},
     "output_type": "execute_result"
    }
   ],
   "source": [
    "ongoing = age_interview[~ever_married]\n",
    "ongoing.count()"
   ]
  },
  {
   "cell_type": "markdown",
   "metadata": {},
   "source": [
    "Now we can estimate the hazard function."
   ]
  },
  {
   "cell_type": "code",
   "execution_count": 39,
   "metadata": {},
   "outputs": [
    {
     "data": {
      "image/png": "[encoded data removed]",
      "text/plain": [
       "<Figure size 432x288 with 1 Axes>"
      ]
     },
     "metadata": {
      "needs_background": "light"
     },
     "output_type": "display_data"
    }
   ],
   "source": [
    "hazard_km = kaplan_meier(complete, ongoing)\n",
    "hazard_km.plot()\n",
    "\n",
    "plt.xlabel('Age (years)')\n",
    "plt.ylabel('Hazard function')\n",
    "plt.title('Estimated hazard (Kaplan-Meier)');"
   ]
  },
  {
   "cell_type": "markdown",
   "metadata": {},
   "source": [
    "Hazard functions are noisy and plotting them is not particularly informative.\n",
    "\n",
    "To see where the hazard rate is relatively high or low, we can plot the cumulative hazard:"
   ]
  },
  {
   "cell_type": "code",
   "execution_count": 40,
   "metadata": {},
   "outputs": [
    {
     "data": {
      "image/png": "[encoded data removed]",
      "text/plain": [
       "<Figure size 432x288 with 1 Axes>"
      ]
     },
     "metadata": {
      "needs_background": "light"
     },
     "output_type": "display_data"
    }
   ],
   "source": [
    "hazard_km.cumsum().plot()\n",
    "\n",
    "plt.xlabel('Age (years)')\n",
    "plt.ylabel('Cumulative hazard function')\n",
    "plt.title('Estimated cumulative hazard (Kaplan-Meier)');"
   ]
  },
  {
   "cell_type": "markdown",
   "metadata": {},
   "source": [
    "The cumulative hazard function is steepest between ages 20 and 35, with diminishing slope after that.\n",
    "\n",
    "We can also use the hazard function to compute the survival function:"
   ]
  },
  {
   "cell_type": "code",
   "execution_count": 41,
   "metadata": {},
   "outputs": [],
   "source": [
    "surv_km = hazard_km.make_surv()"
   ]
  },
  {
   "cell_type": "markdown",
   "metadata": {},
   "source": [
    "I'll plot the survival function we estimated with Kaplan-Meier along with the survival curve for married respondents only."
   ]
  },
  {
   "cell_type": "code",
   "execution_count": 42,
   "metadata": {},
   "outputs": [
    {
     "data": {
      "image/png": "[encoded data removed]",
      "text/plain": [
       "<Figure size 432x288 with 1 Axes>"
      ]
     },
     "metadata": {
      "needs_background": "light"
     },
     "output_type": "display_data"
    }
   ],
   "source": [
    "surv_married.plot(color='gray', label='married only')\n",
    "surv_km.plot(label='Kaplan-Meier')\n",
    "\n",
    "plt.xlabel('Age (years)')\n",
    "plt.ylabel('Fraction unmarried (survival function)')\n",
    "plt.title('Estimated survival function (Kaplan-Meier)')\n",
    "plt.ylim(-0.02, 1.05)\n",
    "plt.legend();"
   ]
  },
  {
   "cell_type": "markdown",
   "metadata": {},
   "source": [
    "This plot shows why K-M estimation is necessary.  If we just discard incomplete cases, we get a very different survival curve.\n",
    "\n",
    "We can use the survival function to estimate the fraction of the population unmarried at various ages:"
   ]
  },
  {
   "cell_type": "code",
   "execution_count": 43,
   "metadata": {},
   "outputs": [
    {
     "data": {
      "text/plain": [
       "array([0.88932029, 0.37301966, 0.20064763, 0.17178612])"
      ]
     },
     "execution_count": 43,
     "metadata": {},
     "output_type": "execute_result"
    }
   ],
   "source": [
    "surv_km([20, 30, 40, 50])"
   ]
  },
  {
   "cell_type": "markdown",
   "metadata": {},
   "source": [
    "We can also use it to compute the CDF:"
   ]
  },
  {
   "cell_type": "code",
   "execution_count": 44,
   "metadata": {},
   "outputs": [
    {
     "data": {
      "image/png": "[encoded data removed]",
      "text/plain": [
       "<Figure size 432x288 with 1 Axes>"
      ]
     },
     "metadata": {
      "needs_background": "light"
     },
     "output_type": "display_data"
    }
   ],
   "source": [
    "cdf_km = surv_km.make_cdf()\n",
    "cdf_km.plot()\n",
    "\n",
    "plt.xlabel('Age (years)')\n",
    "plt.ylabel('Fraction married (CDF)')\n",
    "plt.title('Estimated CDF (Kaplan-Meier)');"
   ]
  },
  {
   "cell_type": "markdown",
   "metadata": {},
   "source": [
    "And with the CDF we can compute statistics like the 25th, 50th, and 75th percentiles of marriage age:"
   ]
  },
  {
   "cell_type": "code",
   "execution_count": 45,
   "metadata": {},
   "outputs": [
    {
     "data": {
      "text/plain": [
       "array([22.58333333, 26.83333333, 35.58333333])"
      ]
     },
     "execution_count": 45,
     "metadata": {},
     "output_type": "execute_result"
    }
   ],
   "source": [
    "cdf_km.inverse([0.25, 0.5, 0.75])"
   ]
  },
  {
   "cell_type": "markdown",
   "metadata": {},
   "source": [
    "Finally, we can compute the PMF:"
   ]
  },
  {
   "cell_type": "code",
   "execution_count": 46,
   "metadata": {},
   "outputs": [
    {
     "data": {
      "image/png": "[encoded data removed]",
      "text/plain": [
       "<Figure size 432x288 with 1 Axes>"
      ]
     },
     "metadata": {
      "needs_background": "light"
     },
     "output_type": "display_data"
    }
   ],
   "source": [
    "pmf_km = cdf_km.make_pmf()\n",
    "pmf_km.plot()\n",
    "\n",
    "plt.xlabel('Age (years)')\n",
    "plt.ylabel('Fraction married (PMF)')\n",
    "plt.title('Estimated PMF (Kaplan-Meier)');"
   ]
  },
  {
   "cell_type": "markdown",
   "metadata": {},
   "source": [
    "The PMF is noisy, so the plot is not very informative."
   ]
  },
  {
   "cell_type": "markdown",
   "metadata": {},
   "source": [
    "## Changes in marriage patterns\n",
    "\n",
    "Let's explore differences in marriage patterns between women born before and after 1980.\n",
    "\n",
    "To make it easier, I'll put the steps from the previous section in a function."
   ]
  },
  {
   "cell_type": "code",
   "execution_count": 47,
   "metadata": {},
   "outputs": [],
   "source": [
    "def estimate_marriage_curve(df):\n",
    "    \"\"\"\n",
    "    \"\"\"\n",
    "    age_married = (df['cmmarr1'] - df['cmbirth']) /  12\n",
    "    age_interview = (df['cmintvw'] - df['cmbirth']) /  12\n",
    "    \n",
    "    ever_married = df['cmmarr1'].notna()\n",
    "    complete = age_married[ever_married]\n",
    "    ongoing = age_interview[~ever_married]\n",
    "\n",
    "    hazard = kaplan_meier(complete, ongoing)\n",
    "    surv = hazard.make_surv()\n",
    "    return surv"
   ]
  },
  {
   "cell_type": "code",
   "execution_count": 48,
   "metadata": {},
   "outputs": [
    {
     "data": {
      "text/plain": [
       "Text(0.5, 1.0, 'Year of birth')"
      ]
     },
     "execution_count": 48,
     "metadata": {},
     "output_type": "execute_result"
    },
    {
     "data": {
      "image/png": "[encoded data removed]",
      "text/plain": [
       "<Figure size 432x288 with 1 Axes>"
      ]
     },
     "metadata": {
      "needs_background": "light"
     },
     "output_type": "display_data"
    }
   ],
   "source": [
    "birth_year = 1900 + nsfg['cmbirth'] / 12\n",
    "cdf = Cdf.from_seq(birth_year)\n",
    "cdf.plot()\n",
    "\n",
    "plt.xlabel('Year')\n",
    "plt.ylabel('CDF')\n",
    "plt.title('Year of birth')"
   ]
  },
  {
   "cell_type": "code",
   "execution_count": 49,
   "metadata": {},
   "outputs": [],
   "source": [
    "before = (birth_year < 1980)\n",
    "after = (birth_year >= 1980)"
   ]
  },
  {
   "cell_type": "code",
   "execution_count": 50,
   "metadata": {},
   "outputs": [
    {
     "data": {
      "text/plain": [
       "(2069, 3485)"
      ]
     },
     "execution_count": 50,
     "metadata": {},
     "output_type": "execute_result"
    }
   ],
   "source": [
    "before.sum(), after.sum()"
   ]
  },
  {
   "cell_type": "code",
   "execution_count": 51,
   "metadata": {},
   "outputs": [
    {
     "data": {
      "image/png": "[encoded data removed]",
      "text/plain": [
       "<Figure size 432x288 with 1 Axes>"
      ]
     },
     "metadata": {
      "needs_background": "light"
     },
     "output_type": "display_data"
    }
   ],
   "source": [
    "surv_before = estimate_marriage_curve(nsfg[before])\n",
    "surv_before.plot(label='Before 1980')\n",
    "\n",
    "surv_after = estimate_marriage_curve(nsfg[after])\n",
    "surv_after.plot(label='After 1980')\n",
    "\n",
    "plt.xlabel('Age (years)')\n",
    "plt.ylabel('Fraction unmarried (survival function)')\n",
    "plt.title('Marriage survival curve by year or birth')\n",
    "plt.ylim(-0.02, 1.05)\n",
    "plt.legend();"
   ]
  },
  {
   "cell_type": "markdown",
   "metadata": {},
   "source": [
    "## lifelines"
   ]
  },
  {
   "cell_type": "code",
   "execution_count": 52,
   "metadata": {},
   "outputs": [],
   "source": [
    "from lifelines import KaplanMeierFitter\n",
    "kmf = KaplanMeierFitter()"
   ]
  },
  {
   "cell_type": "code",
   "execution_count": 53,
   "metadata": {},
   "outputs": [
    {
     "data": {
      "text/plain": [
       "True     3019\n",
       "False    2535\n",
       "Name: cmmarr1, dtype: int64"
      ]
     },
     "execution_count": 53,
     "metadata": {},
     "output_type": "execute_result"
    }
   ],
   "source": [
    "E = ever_married = nsfg['cmmarr1'].notna()\n",
    "E.value_counts()"
   ]
  },
  {
   "cell_type": "code",
   "execution_count": 54,
   "metadata": {},
   "outputs": [
    {
     "data": {
      "text/plain": [
       "count    5554.000000\n",
       "mean       25.251560\n",
       "std         6.826976\n",
       "min        12.500000\n",
       "25%        20.416667\n",
       "50%        23.916667\n",
       "75%        28.500000\n",
       "max        50.583333\n",
       "dtype: float64"
      ]
     },
     "execution_count": 54,
     "metadata": {},
     "output_type": "execute_result"
    }
   ],
   "source": [
    "T = age_married.fillna(age_interview)\n",
    "T.describe()"
   ]
  },
  {
   "cell_type": "code",
   "execution_count": 55,
   "metadata": {},
   "outputs": [
    {
     "data": {
      "text/plain": [
       "<lifelines.KaplanMeierFitter:\"KM_estimate\", fitted with 5554 total observations, 2535 right-censored observations>"
      ]
     },
     "execution_count": 55,
     "metadata": {},
     "output_type": "execute_result"
    }
   ],
   "source": [
    "kmf.fit(T, E)"
   ]
  },
  {
   "cell_type": "code",
   "execution_count": 56,
   "metadata": {},
   "outputs": [
    {
     "data": {
      "image/png": "[encoded data removed]",
      "text/plain": [
       "<Figure size 432x288 with 1 Axes>"
      ]
     },
     "metadata": {
      "needs_background": "light"
     },
     "output_type": "display_data"
    }
   ],
   "source": [
    "kmf.plot(label='lifelines')\n",
    "surv_km.step(label='empiricaldist')\n",
    "\n",
    "plt.xlabel('Age (years)')\n",
    "plt.ylabel('Fraction unmarried (survival function)')\n",
    "plt.title('Marriage survival curve by year or birth')\n",
    "plt.ylim(-0.02, 1.05)\n",
    "plt.legend();"
   ]
  },
  {
   "cell_type": "code",
   "execution_count": 57,
   "metadata": {},
   "outputs": [
    {
     "data": {
      "text/plain": [
       "9.880984919163893e-15"
      ]
     },
     "execution_count": 57,
     "metadata": {},
     "output_type": "execute_result"
    }
   ],
   "source": [
    "max(abs(kmf.survival_function_['KM_estimate'] - surv_km).dropna())"
   ]
  },
  {
   "cell_type": "code",
   "execution_count": null,
   "metadata": {},
   "outputs": [],
   "source": []
  }
 ],
 "metadata": {
  "kernelspec": {
   "display_name": "Python 3",
   "language": "python",
   "name": "python3"
  },
  "language_info": {
   "codemirror_mode": {
    "name": "ipython",
    "version": 3
   },
   "file_extension": ".py",
   "mimetype": "text/x-python",
   "name": "python",
   "nbconvert_exporter": "python",
   "pygments_lexer": "ipython3",
   "version": "3.7.5"
  }
 },
 "nbformat": 4,
 "nbformat_minor": 2
}
