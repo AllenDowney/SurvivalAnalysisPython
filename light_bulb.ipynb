{
 "cells": [
  {
   "cell_type": "markdown",
   "metadata": {},
   "source": [
    "# Survival Analysis in Python\n",
    "\n",
    "Allen B. Downey\n",
    "\n",
    "[MIT License](https://en.wikipedia.org/wiki/MIT_License)"
   ]
  },
  {
   "cell_type": "markdown",
   "metadata": {},
   "source": [
    "### Introduction\n",
    "\n",
    "This notebook reviews two ways we have previously seen to represent a distribution, PMFs and CDFs, and introduces two new ways, survival functions and hazard functions.\n",
    "\n",
    "All four representation are equivalent in the sense that if you are given any of them, you can compute the others.  So you might wonder why we need four ways to represent the same information.  There are two reasons:\n",
    "\n",
    "1. Each representation is useful for computing different values and answering different questions.  In this notebook I'll show you what each representation is good for.\n",
    "\n",
    "2. In some cases we can use a sample to compute a PMF, and use the PMF to compute the other representations.  In other cases it is easier to estimate the hazard function and use it to compute the others.\n",
    "\n",
    "In this notebook I will demonstrate the first process, starting with the PMF.  In the next notebook we'll see the second process, starting with the hazard function."
   ]
  },
  {
   "cell_type": "markdown",
   "metadata": {},
   "source": [
    "### Setup\n",
    "\n",
    "If you are running this notebook in Colab, the following cell installs the `empiricaldist` library, which provides objects that represent PMFs, CDFs, survival functions, and hazard functions.\n",
    "\n",
    "If you are running in another environment, you will need to install it yourself."
   ]
  },
  {
   "cell_type": "code",
   "execution_count": 1,
   "metadata": {},
   "outputs": [],
   "source": [
    "# If we're running in Colab, set up the environment\n",
    "\n",
    "import sys\n",
    "IN_COLAB = 'google.colab' in sys.modules\n",
    "\n",
    "if IN_COLAB:\n",
    "    !pip install empiricaldist"
   ]
  },
  {
   "cell_type": "markdown",
   "metadata": {},
   "source": [
    "If everything we need is installed, the following cell should run without error."
   ]
  },
  {
   "cell_type": "code",
   "execution_count": 2,
   "metadata": {},
   "outputs": [],
   "source": [
    "import pandas as pd\n",
    "import numpy as np\n",
    "import matplotlib.pyplot as plt\n",
    "import seaborn as sns\n",
    "\n",
    "from empiricaldist import Pmf, Cdf, Surv, Hazard"
   ]
  },
  {
   "cell_type": "markdown",
   "metadata": {},
   "source": [
    "The following is a function I use to decorate the axes of a figure."
   ]
  },
  {
   "cell_type": "code",
   "execution_count": 3,
   "metadata": {},
   "outputs": [],
   "source": [
    "def decorate(**options):\n",
    "    \"\"\"Decorate the current axes.\n",
    "    Call decorate with keyword arguments like\n",
    "    decorate(title='Title',\n",
    "             xlabel='x',\n",
    "             ylabel='y')\n",
    "    The keyword arguments can be any of the axis properties\n",
    "    https://matplotlib.org/api/axes_api.html\n",
    "    \"\"\"\n",
    "    plt.gca().set(**options)\n",
    "    plt.tight_layout()"
   ]
  },
  {
   "cell_type": "markdown",
   "metadata": {},
   "source": [
    "## Light bulb lifetimes\n",
    "\n",
    "As a first example, I'll use I'll use data from an experiment that measures the lifetimes of 50 light bulbs.\n",
    "\n",
    "I downloaded the data from from [https://gist.github.com/epogrebnyak/7933e16c0ad215742c4c104be4fbdeb1], which includes this documentation:\n",
    "\n",
    "```\n",
    "Dataset from:\n",
    "    \n",
    "V.J. Menon and D.C. Agrawal,  Renewal Rate of Filament Lamps: \n",
    "Theory and Experiment. Journal of Failure Analysis and Prevention. \n",
    "December 2007, p. 421, Table 2/\n",
    "DOI: 10.1007/s11668-007-9074-9\n",
    "\n",
    "Description:\n",
    "\n",
    "An assembly of 50 new Philips (India) lamps with the \n",
    "rating 40 W, 220 V (AC) was taken and installed in the horizontal \n",
    "orientation and uniformly distributed over a lab area 11 m by 7 m. \n",
    "\n",
    "The assembly was monitored at regular intervals of 12 h to\n",
    "look for failures. The instants of recorded failures were\n",
    "called t‘ and a total of 32 data points were obtained such\n",
    "that even the last bulb failed. \n",
    "\n",
    "Variables:\n",
    "\n",
    "i - observation number\n",
    "h - time in hours since experiment start\n",
    "f - number of failed lamps at particular time h\n",
    "K - number of surviving lamps  at particular time h\n",
    "```\n",
    "\n",
    "Because of the design of this experiment, we can consider the data to be a representative sample from the distribution of lifetimes, at least for light bulbs that are lit continuously."
   ]
  },
  {
   "cell_type": "markdown",
   "metadata": {},
   "source": [
    "The following cell downloads the data from a repository on GitHub.  If that fails, you should be able to [get it from my repository](https://github.com/AllenDowney/SurvivalAnalysisPython/raw/master/lamps.csv)."
   ]
  },
  {
   "cell_type": "code",
   "execution_count": 4,
   "metadata": {},
   "outputs": [],
   "source": [
    "# Load the data file\n",
    "\n",
    "import os\n",
    "\n",
    "datafile = 'lamps.csv'\n",
    "if not os.path.exists(datafile):\n",
    "    !wget https://gist.github.com/epogrebnyak/7933e16c0ad215742c4c104be4fbdeb1/raw/c932bc5b6aa6317770c4cbf43eb591511fec08f9/lamps.csv"
   ]
  },
  {
   "cell_type": "markdown",
   "metadata": {},
   "source": [
    "We can load the data from the CSV file."
   ]
  },
  {
   "cell_type": "code",
   "execution_count": 5,
   "metadata": {},
   "outputs": [
    {
     "data": {
      "text/html": [
       "<div>\n",
       "<style scoped>\n",
       "    .dataframe tbody tr th:only-of-type {\n",
       "        vertical-align: middle;\n",
       "    }\n",
       "\n",
       "    .dataframe tbody tr th {\n",
       "        vertical-align: top;\n",
       "    }\n",
       "\n",
       "    .dataframe thead th {\n",
       "        text-align: right;\n",
       "    }\n",
       "</style>\n",
       "<table border=\"1\" class=\"dataframe\">\n",
       "  <thead>\n",
       "    <tr style=\"text-align: right;\">\n",
       "      <th></th>\n",
       "      <th>h</th>\n",
       "      <th>f</th>\n",
       "      <th>K</th>\n",
       "    </tr>\n",
       "    <tr>\n",
       "      <th>i</th>\n",
       "      <th></th>\n",
       "      <th></th>\n",
       "      <th></th>\n",
       "    </tr>\n",
       "  </thead>\n",
       "  <tbody>\n",
       "    <tr>\n",
       "      <th>0</th>\n",
       "      <td>0</td>\n",
       "      <td>0</td>\n",
       "      <td>50</td>\n",
       "    </tr>\n",
       "    <tr>\n",
       "      <th>1</th>\n",
       "      <td>840</td>\n",
       "      <td>2</td>\n",
       "      <td>48</td>\n",
       "    </tr>\n",
       "    <tr>\n",
       "      <th>2</th>\n",
       "      <td>852</td>\n",
       "      <td>1</td>\n",
       "      <td>47</td>\n",
       "    </tr>\n",
       "    <tr>\n",
       "      <th>3</th>\n",
       "      <td>936</td>\n",
       "      <td>1</td>\n",
       "      <td>46</td>\n",
       "    </tr>\n",
       "    <tr>\n",
       "      <th>4</th>\n",
       "      <td>960</td>\n",
       "      <td>1</td>\n",
       "      <td>45</td>\n",
       "    </tr>\n",
       "  </tbody>\n",
       "</table>\n",
       "</div>"
      ],
      "text/plain": [
       "     h  f   K\n",
       "i            \n",
       "0    0  0  50\n",
       "1  840  2  48\n",
       "2  852  1  47\n",
       "3  936  1  46\n",
       "4  960  1  45"
      ]
     },
     "execution_count": 5,
     "metadata": {},
     "output_type": "execute_result"
    }
   ],
   "source": [
    "df = pd.read_csv('lamps.csv', index_col=0)\n",
    "df.head()"
   ]
  },
  {
   "cell_type": "markdown",
   "metadata": {},
   "source": [
    "This dataset is complete in the sense that the experiment ran until all light bulbs failed, so the lifetime for every bulb is known."
   ]
  },
  {
   "cell_type": "markdown",
   "metadata": {},
   "source": [
    "## PMF\n",
    "\n",
    "In that case we can make a `Pmf` object that represents the distribution of lifetimes.  The result is a series that contains the lifetimes (column `h`) as quantities and the normalized number of failures (column `f`) as probabilities."
   ]
  },
  {
   "cell_type": "code",
   "execution_count": 6,
   "metadata": {},
   "outputs": [
    {
     "data": {
      "text/plain": [
       "h\n",
       "0      0.00\n",
       "840    0.04\n",
       "852    0.02\n",
       "936    0.02\n",
       "960    0.02\n",
       "dtype: float64"
      ]
     },
     "execution_count": 6,
     "metadata": {},
     "output_type": "execute_result"
    }
   ],
   "source": [
    "pmf = Pmf(df['f'].values, index=df['h'])\n",
    "pmf.normalize()\n",
    "pmf.head()"
   ]
  },
  {
   "cell_type": "markdown",
   "metadata": {},
   "source": [
    "For a given quantity, `q`, the PMF computes the fraction of the population at that quantity, exactly.\n",
    "\n",
    "For example, we can compute the fraction of light bulbs that lasted 840 hours:"
   ]
  },
  {
   "cell_type": "code",
   "execution_count": 7,
   "metadata": {},
   "outputs": [
    {
     "data": {
      "text/plain": [
       "0.04"
      ]
     },
     "execution_count": 7,
     "metadata": {},
     "output_type": "execute_result"
    }
   ],
   "source": [
    "pmf(840)"
   ]
  },
  {
   "cell_type": "markdown",
   "metadata": {},
   "source": [
    "Because of the way the experiment was conducted, all quantities are multiples of 12 hours.  If we ask about a quantity that is not a multiple of 12, the result is 0."
   ]
  },
  {
   "cell_type": "code",
   "execution_count": 8,
   "metadata": {},
   "outputs": [
    {
     "data": {
      "text/plain": [
       "0"
      ]
     },
     "execution_count": 8,
     "metadata": {},
     "output_type": "execute_result"
    }
   ],
   "source": [
    "pmf(841)"
   ]
  },
  {
   "cell_type": "markdown",
   "metadata": {},
   "source": [
    "Here's what the PMF looks like."
   ]
  },
  {
   "cell_type": "code",
   "execution_count": 9,
   "metadata": {},
   "outputs": [
    {
     "data": {
      "image/png": "[encoded data removed]",
      "text/plain": [
       "<Figure size 432x288 with 1 Axes>"
      ]
     },
     "metadata": {
      "needs_background": "light"
     },
     "output_type": "display_data"
    }
   ],
   "source": [
    "pmf.bar(width=10)\n",
    "decorate(xlabel='Lifetime (hours)', \n",
    "         ylabel='PMF', \n",
    "         title='PMF of lightbulb lifetimes')"
   ]
  },
  {
   "cell_type": "markdown",
   "metadata": {},
   "source": [
    "This way of visualizing the data can be useful for validation, and it gives a sense of the location and spread of the data.  But it does not make the shape of the distrbution clear.  For that, the CDF is better."
   ]
  },
  {
   "cell_type": "markdown",
   "metadata": {},
   "source": [
    "## CDF\n",
    "\n",
    "The CDF is the cumulative sum of the PMF.  We could compute it ourselves like this:"
   ]
  },
  {
   "cell_type": "code",
   "execution_count": 10,
   "metadata": {},
   "outputs": [
    {
     "data": {
      "text/plain": [
       "h\n",
       "0      0.00\n",
       "840    0.04\n",
       "852    0.06\n",
       "936    0.08\n",
       "960    0.10\n",
       "dtype: float64"
      ]
     },
     "execution_count": 10,
     "metadata": {},
     "output_type": "execute_result"
    }
   ],
   "source": [
    "cdf = pmf.cumsum()\n",
    "cdf.head()"
   ]
  },
  {
   "cell_type": "markdown",
   "metadata": {},
   "source": [
    "In that case the result is a Pandas Series.\n",
    "\n",
    "We can also use `Pmf.make_cdf`, which does the same calculation, but the result is a `Cdf` object."
   ]
  },
  {
   "cell_type": "code",
   "execution_count": 11,
   "metadata": {},
   "outputs": [
    {
     "data": {
      "text/plain": [
       "h\n",
       "0      0.00\n",
       "840    0.04\n",
       "852    0.06\n",
       "936    0.08\n",
       "960    0.10\n",
       "dtype: float64"
      ]
     },
     "execution_count": 11,
     "metadata": {},
     "output_type": "execute_result"
    }
   ],
   "source": [
    "cdf = pmf.make_cdf()\n",
    "cdf.head()"
   ]
  },
  {
   "cell_type": "markdown",
   "metadata": {},
   "source": [
    "For a given quantity, `q`, the CDF computes the fraction of the population less than or equal to `q`.\n",
    "\n",
    "For example, here is the fraction of light bulbs that expired at or before 840 hours:"
   ]
  },
  {
   "cell_type": "code",
   "execution_count": 12,
   "metadata": {},
   "outputs": [
    {
     "data": {
      "text/plain": [
       "array(0.04)"
      ]
     },
     "execution_count": 12,
     "metadata": {},
     "output_type": "execute_result"
    }
   ],
   "source": [
    "cdf(840)"
   ]
  },
  {
   "cell_type": "markdown",
   "metadata": {},
   "source": [
    "And the fraction that expired at or before 852 hours."
   ]
  },
  {
   "cell_type": "code",
   "execution_count": 13,
   "metadata": {},
   "outputs": [
    {
     "data": {
      "text/plain": [
       "array(0.06)"
      ]
     },
     "execution_count": 13,
     "metadata": {},
     "output_type": "execute_result"
    }
   ],
   "source": [
    "cdf(852)"
   ]
  },
  {
   "cell_type": "markdown",
   "metadata": {},
   "source": [
    "For any quantity `q`, the CDF computes the corresponding cumulative probability, `p`.\n",
    "\n",
    "But it also works the other way.  For a given probability, `p`, you can use the inverse CDF to compute the corresponding quantity, `q`."
   ]
  },
  {
   "cell_type": "code",
   "execution_count": 14,
   "metadata": {},
   "outputs": [
    {
     "data": {
      "text/plain": [
       "array(852.)"
      ]
     },
     "execution_count": 14,
     "metadata": {},
     "output_type": "execute_result"
    }
   ],
   "source": [
    "cdf.inverse(0.06)"
   ]
  },
  {
   "cell_type": "markdown",
   "metadata": {},
   "source": [
    "With `p=0.5`, the result is the 50th percentile, or median:"
   ]
  },
  {
   "cell_type": "code",
   "execution_count": 15,
   "metadata": {},
   "outputs": [
    {
     "data": {
      "text/plain": [
       "array(1416.)"
      ]
     },
     "execution_count": 15,
     "metadata": {},
     "output_type": "execute_result"
    }
   ],
   "source": [
    "cdf.inverse(0.5)"
   ]
  },
  {
   "cell_type": "markdown",
   "metadata": {},
   "source": [
    "We can also use `inverse` to compute the quartiles, which are the quantities at the 25th, 50th, and 75th percentiles:"
   ]
  },
  {
   "cell_type": "code",
   "execution_count": 16,
   "metadata": {},
   "outputs": [
    {
     "data": {
      "text/plain": [
       "array([1176., 1416., 1656.])"
      ]
     },
     "execution_count": 16,
     "metadata": {},
     "output_type": "execute_result"
    }
   ],
   "source": [
    "cdf.inverse([0.25, 0.5, 0.75])"
   ]
  },
  {
   "cell_type": "markdown",
   "metadata": {},
   "source": [
    "In my opinion, the CDF is often the best way to visualize the distribution of a sample.\n",
    "\n",
    "Here it is, plotted as a step function."
   ]
  },
  {
   "cell_type": "code",
   "execution_count": 17,
   "metadata": {},
   "outputs": [
    {
     "data": {
      "image/png": "[encoded data removed]",
      "text/plain": [
       "<Figure size 432x288 with 1 Axes>"
      ]
     },
     "metadata": {
      "needs_background": "light"
     },
     "output_type": "display_data"
    }
   ],
   "source": [
    "cdf.step()\n",
    "decorate(xlabel='Lifetime (hours)', \n",
    "         ylabel='CDF', \n",
    "         title='CDF of lightbulb lifetimes')"
   ]
  },
  {
   "cell_type": "code",
   "execution_count": 18,
   "metadata": {},
   "outputs": [
    {
     "data": {
      "text/plain": [
       "array([ 852., 1860.])"
      ]
     },
     "execution_count": 18,
     "metadata": {},
     "output_type": "execute_result"
    }
   ],
   "source": [
    "cdf.inverse([0.05, 0.95])"
   ]
  },
  {
   "cell_type": "markdown",
   "metadata": {},
   "source": [
    "Between 800 and 1800 hours, the CDF is roughly a straight line, which suggests that the distribution is uniform in this range."
   ]
  },
  {
   "cell_type": "markdown",
   "metadata": {},
   "source": [
    "## Survival function\n",
    "\n",
    "The survival function is the complement of the CDF; that is, for a given quantity, `q`:\n",
    "\n",
    "* The CDF is the fraction of the population less than or equal to `q`.\n",
    "\n",
    "* The survival function is the fraction (strictly) greater than `q`.\n",
    "\n",
    "Again, we can compute the survival function using Pandas Series operators:"
   ]
  },
  {
   "cell_type": "code",
   "execution_count": 44,
   "metadata": {},
   "outputs": [
    {
     "data": {
      "text/plain": [
       "h\n",
       "0      1.00\n",
       "840    0.96\n",
       "852    0.94\n",
       "936    0.92\n",
       "960    0.90\n",
       "dtype: float64"
      ]
     },
     "execution_count": 44,
     "metadata": {},
     "output_type": "execute_result"
    }
   ],
   "source": [
    "surv = 1-cdf\n",
    "surv.head()"
   ]
  },
  {
   "cell_type": "markdown",
   "metadata": {},
   "source": [
    "We can also use `Cdf.make_surv`, which does the same calculation and returns a `Surv` object:"
   ]
  },
  {
   "cell_type": "code",
   "execution_count": 45,
   "metadata": {},
   "outputs": [
    {
     "data": {
      "text/plain": [
       "h\n",
       "0      1.00\n",
       "840    0.96\n",
       "852    0.94\n",
       "936    0.92\n",
       "960    0.90\n",
       "dtype: float64"
      ]
     },
     "execution_count": 45,
     "metadata": {},
     "output_type": "execute_result"
    }
   ],
   "source": [
    "surv = cdf.make_surv()\n",
    "surv.head()"
   ]
  },
  {
   "cell_type": "markdown",
   "metadata": {},
   "source": [
    "We can use `surv` to compute the fraction of lightbulbs that live longer than 936 hours:"
   ]
  },
  {
   "cell_type": "code",
   "execution_count": 46,
   "metadata": {},
   "outputs": [
    {
     "data": {
      "text/plain": [
       "array(0.92)"
      ]
     },
     "execution_count": 46,
     "metadata": {},
     "output_type": "execute_result"
    }
   ],
   "source": [
    "surv(936)"
   ]
  },
  {
   "cell_type": "markdown",
   "metadata": {},
   "source": [
    "And confirm that the CDF and survival functions add up to 1 (at least within floating-point error)."
   ]
  },
  {
   "cell_type": "code",
   "execution_count": 47,
   "metadata": {},
   "outputs": [
    {
     "data": {
      "text/plain": [
       "1.0"
      ]
     },
     "execution_count": 47,
     "metadata": {},
     "output_type": "execute_result"
    }
   ],
   "source": [
    "cdf(936) + surv(936)"
   ]
  },
  {
   "cell_type": "markdown",
   "metadata": {},
   "source": [
    "If we plot the survival function along with the CDF, we can see that they complement each other."
   ]
  },
  {
   "cell_type": "code",
   "execution_count": 48,
   "metadata": {},
   "outputs": [
    {
     "data": {
      "image/png": "[encoded data removed]",
      "text/plain": [
       "<Figure size 432x288 with 1 Axes>"
      ]
     },
     "metadata": {
      "needs_background": "light"
     },
     "output_type": "display_data"
    }
   ],
   "source": [
    "cdf.step(color='gray', alpha=0.4)\n",
    "surv.step()\n",
    "decorate(xlabel='Lifetime (hours)', \n",
    "         ylabel='Prob(lifetime>t)', \n",
    "         title='Survival function of lightbulb lifetimes')"
   ]
  },
  {
   "cell_type": "markdown",
   "metadata": {},
   "source": [
    "Most often, a quantity in a survival function represents a lifetime of some kind.  In some cases it is literally the time until a death; in other cases \"lifetime\" is more metaphorical.  It might represent the time until a device breaks, or the time until a particular event occurs, even if the event has nothing to do with life or death.\n",
    "\n",
    "For example, [in one project I worked on](http://allendowney.blogspot.com/2015/07/will-millennials-ever-get-married.html), I used survival curves to represent people's age at first marriage.\n",
    "\n",
    "It might not be obvious why the survival function is useful.  Given the CDF and a little arithmetic, we can answer all of the same questions.\n",
    "\n",
    "There are two reasons:\n",
    "\n",
    "* In some domains it is more natural, or at least conventional, to represent distribution in terms of survival rates.\n",
    "\n",
    "* The survival function is a step on the way to the hazard function, which we'll get to now."
   ]
  },
  {
   "cell_type": "markdown",
   "metadata": {},
   "source": [
    "## Hazard function\n",
    "\n",
    "For a given time `q`, the hazard function computes the \"hazard rate\" at `q`.  Using the vocabulary of the light bulb example, the hazard rate is the fraction of light bulbs that survive until `q` and then fail at `q`.\n",
    "\n",
    "We can compute the hazard rate by computing these quantities:\n",
    "\n",
    "* `pmf(q)` is the fraction of light bulbs that fail at `q`.\n",
    "\n",
    "* `surv(q)` is the fraction of light bulbs that live longer than `q`.\n",
    "\n",
    "* The sum, `pmf(q) + surv(q)` is the fraction that survive until `q`. \n",
    "\n",
    "So the hazard rate is the ratio of `pmf(q)` to the sum `pmf(q) + surv(q)`.\n",
    "\n",
    "We can compute it like this:"
   ]
  },
  {
   "cell_type": "code",
   "execution_count": 49,
   "metadata": {},
   "outputs": [
    {
     "data": {
      "text/plain": [
       "h\n",
       "0      0.000000\n",
       "840    0.040000\n",
       "852    0.020833\n",
       "936    0.021277\n",
       "960    0.021739\n",
       "dtype: float64"
      ]
     },
     "execution_count": 49,
     "metadata": {},
     "output_type": "execute_result"
    }
   ],
   "source": [
    "haz = pmf / (pmf + surv)\n",
    "haz.head()"
   ]
  },
  {
   "cell_type": "markdown",
   "metadata": {},
   "source": [
    "Or we can use `Surv.make_hazard`, which does the same thing and returns a `Hazard` object:"
   ]
  },
  {
   "cell_type": "code",
   "execution_count": 50,
   "metadata": {},
   "outputs": [
    {
     "data": {
      "text/plain": [
       "h\n",
       "0      0.000000\n",
       "840    0.040000\n",
       "852    0.020833\n",
       "936    0.021277\n",
       "960    0.021739\n",
       "dtype: float64"
      ]
     },
     "execution_count": 50,
     "metadata": {},
     "output_type": "execute_result"
    }
   ],
   "source": [
    "haz = surv.make_hazard()\n",
    "haz.head()"
   ]
  },
  {
   "cell_type": "markdown",
   "metadata": {},
   "source": [
    "Here's what the hazard function looks like:"
   ]
  },
  {
   "cell_type": "code",
   "execution_count": 51,
   "metadata": {},
   "outputs": [
    {
     "data": {
      "image/png": "[encoded data removed]",
      "text/plain": [
       "<Figure size 432x288 with 1 Axes>"
      ]
     },
     "metadata": {
      "needs_background": "light"
     },
     "output_type": "display_data"
    }
   ],
   "source": [
    "haz.bar(width=10)\n",
    "decorate(xlabel='Lifetime (hours)', \n",
    "         ylabel='Hazard rate', \n",
    "         title='Hazard function of lightbulb lifetimes')"
   ]
  },
  {
   "cell_type": "markdown",
   "metadata": {},
   "source": [
    "This way of visualizing the hazard function doesn't work very well; in the next section we'll see if we can do better."
   ]
  },
  {
   "cell_type": "markdown",
   "metadata": {},
   "source": [
    "## Visualizing the hazard function\n",
    "\n",
    "With this kind of data, plotting the hazard function does not provide a clear picture of what's happening.  There are two problems:\n",
    "\n",
    "1) The plot shows spikes at the locations of the data, but it is hard to see the shape of the curve.\n",
    "\n",
    "2) The large values on the right are unreliable because they are based on a small number of values.\n",
    "\n",
    "To explain the second point, let's look at the last few rows of the failure column, `f`:"
   ]
  },
  {
   "cell_type": "code",
   "execution_count": 52,
   "metadata": {},
   "outputs": [
    {
     "data": {
      "text/html": [
       "<div>\n",
       "<style scoped>\n",
       "    .dataframe tbody tr th:only-of-type {\n",
       "        vertical-align: middle;\n",
       "    }\n",
       "\n",
       "    .dataframe tbody tr th {\n",
       "        vertical-align: top;\n",
       "    }\n",
       "\n",
       "    .dataframe thead th {\n",
       "        text-align: right;\n",
       "    }\n",
       "</style>\n",
       "<table border=\"1\" class=\"dataframe\">\n",
       "  <thead>\n",
       "    <tr style=\"text-align: right;\">\n",
       "      <th></th>\n",
       "      <th>h</th>\n",
       "      <th>f</th>\n",
       "      <th>K</th>\n",
       "    </tr>\n",
       "    <tr>\n",
       "      <th>i</th>\n",
       "      <th></th>\n",
       "      <th></th>\n",
       "      <th></th>\n",
       "    </tr>\n",
       "  </thead>\n",
       "  <tbody>\n",
       "    <tr>\n",
       "      <th>28</th>\n",
       "      <td>1812</td>\n",
       "      <td>1</td>\n",
       "      <td>4</td>\n",
       "    </tr>\n",
       "    <tr>\n",
       "      <th>29</th>\n",
       "      <td>1836</td>\n",
       "      <td>1</td>\n",
       "      <td>3</td>\n",
       "    </tr>\n",
       "    <tr>\n",
       "      <th>30</th>\n",
       "      <td>1860</td>\n",
       "      <td>1</td>\n",
       "      <td>2</td>\n",
       "    </tr>\n",
       "    <tr>\n",
       "      <th>31</th>\n",
       "      <td>1980</td>\n",
       "      <td>1</td>\n",
       "      <td>1</td>\n",
       "    </tr>\n",
       "    <tr>\n",
       "      <th>32</th>\n",
       "      <td>2568</td>\n",
       "      <td>1</td>\n",
       "      <td>0</td>\n",
       "    </tr>\n",
       "  </tbody>\n",
       "</table>\n",
       "</div>"
      ],
      "text/plain": [
       "       h  f  K\n",
       "i             \n",
       "28  1812  1  4\n",
       "29  1836  1  3\n",
       "30  1860  1  2\n",
       "31  1980  1  1\n",
       "32  2568  1  0"
      ]
     },
     "execution_count": 52,
     "metadata": {},
     "output_type": "execute_result"
    }
   ],
   "source": [
    "df.tail()"
   ]
  },
  {
   "cell_type": "markdown",
   "metadata": {},
   "source": [
    "We can see that one bulb failed at each of 1812, 1836, 1860, 1980, and 2568 hours.\n",
    "\n",
    "So the last value of the hazard function is based on only one bulb, the second-to-last point is based on 2 bulbs, and so on.\n",
    "\n",
    "To get a better sense of the shape of the curve, we can plot the cumulative hazard function, like this:"
   ]
  },
  {
   "cell_type": "code",
   "execution_count": 53,
   "metadata": {},
   "outputs": [
    {
     "data": {
      "image/png": "[encoded data removed]",
      "text/plain": [
       "<Figure size 432x288 with 1 Axes>"
      ]
     },
     "metadata": {
      "needs_background": "light"
     },
     "output_type": "display_data"
    }
   ],
   "source": [
    "haz.cumsum().plot()\n",
    "\n",
    "decorate(xlabel='Lifetime (hours)', \n",
    "         ylabel='Cumulative hazard rate', \n",
    "         title='Hazard function of lightbulb lifetimes')"
   ]
  },
  {
   "cell_type": "markdown",
   "metadata": {},
   "source": [
    "The slope of the cumulative hazard function is proportional to the hazard rate, so we can use this curve to see when the hazard rate is low or high, and when it is increasing or decreasing.\n",
    "\n",
    "Between 0 and 1000 hours, the slope is low, so the hazard rate is low.\n",
    "\n",
    "Between 1000 and 2000 hours, the slope and hazard rate are increasing."
   ]
  },
  {
   "cell_type": "markdown",
   "metadata": {},
   "source": [
    "But notice that the vertical scale goes to 4.  You might wonder that that means; the answer is \"not much\".\n",
    "\n",
    "The values of the hazard function are rates, that is, percentages of light bulbs that expire at each point in time.  When you add up these rates, the result does not have a clear interpretation.  \n",
    "\n",
    "When you look at a cumulative hazard function, you should pay attention to the slope of the curve and ignore the values."
   ]
  },
  {
   "cell_type": "markdown",
   "metadata": {},
   "source": [
    "## Resampling\n",
    "\n",
    "In the previous section, I suggested that we have to be careful not to overinterpret the right side of the hazard function, because it is based on a small number of data points.\n",
    "\n",
    "To see how reliable the hazard function is, we can use resampling.\n",
    "\n",
    "First I will use the Pmf of lifetimes to make a kernel density estimate (KDE) of the distribution."
   ]
  },
  {
   "cell_type": "code",
   "execution_count": 54,
   "metadata": {},
   "outputs": [],
   "source": [
    "from scipy.stats import gaussian_kde\n",
    "    \n",
    "kde = gaussian_kde(pmf.qs, weights=pmf.ps)"
   ]
  },
  {
   "cell_type": "markdown",
   "metadata": {},
   "source": [
    "We can use the KDE to draw a new sample of lifetimes, with the same size as the original data set, and plot the survival curve for each sample."
   ]
  },
  {
   "cell_type": "code",
   "execution_count": 56,
   "metadata": {},
   "outputs": [
    {
     "data": {
      "image/png": "[encoded data removed]",
      "text/plain": [
       "<Figure size 432x288 with 1 Axes>"
      ]
     },
     "metadata": {
      "needs_background": "light"
     },
     "output_type": "display_data"
    }
   ],
   "source": [
    "size = df['f'].sum()\n",
    "\n",
    "for i in range(100):\n",
    "    sample = kde.resample(size).flatten()\n",
    "    sf = Surv.from_seq(sample)\n",
    "    sf.plot(color='gray', alpha=0.1)\n",
    "    \n",
    "surv.step()\n",
    "decorate(xlabel='Lifetime (hours)', \n",
    "         ylabel='Prob(lifetime>t)', \n",
    "         title='Survival function of lightbulb lifetimes')"
   ]
  },
  {
   "cell_type": "markdown",
   "metadata": {},
   "source": [
    "By plotting the resampled survival curves on top of each other, we can get a sense of how much the results vary due to random sampling.\n",
    "\n",
    "In this case the sample size is small, so the differences between resampled survival curves are substantial.\n",
    "\n",
    "We can do the same thing with the hazard function:"
   ]
  },
  {
   "cell_type": "code",
   "execution_count": 58,
   "metadata": {},
   "outputs": [
    {
     "data": {
      "image/png": "[encoded data removed]",
      "text/plain": [
       "<Figure size 432x288 with 1 Axes>"
      ]
     },
     "metadata": {
      "needs_background": "light"
     },
     "output_type": "display_data"
    }
   ],
   "source": [
    "for i in range(100):\n",
    "    sample = kde.resample(size).flatten()\n",
    "    hf = Hazard.from_seq(sample)\n",
    "    hf.cumsum().plot(color='gray', alpha=0.1)\n",
    "\n",
    "haz.cumsum().plot()\n",
    "\n",
    "decorate(xlabel='Lifetime (hours)', \n",
    "         ylabel='Cumulative hazard rate', \n",
    "         title='Hazard function of lightbulb lifetimes')"
   ]
  },
  {
   "cell_type": "markdown",
   "metadata": {},
   "source": [
    "This plot gives us a sense of which parts of the cumulative hazard function are reliable and which are not.\n",
    "\n",
    "Below 2000 hours, all of the resampled curves are similar; they increase with increasing slope.\n",
    "\n",
    "After that, the variability of the curves is much wider, which means we don't have enough data to characterize this part of the hazard function."
   ]
  },
  {
   "cell_type": "code",
   "execution_count": null,
   "metadata": {},
   "outputs": [],
   "source": []
  },
  {
   "cell_type": "code",
   "execution_count": null,
   "metadata": {},
   "outputs": [],
   "source": []
  },
  {
   "cell_type": "code",
   "execution_count": null,
   "metadata": {},
   "outputs": [],
   "source": []
  },
  {
   "cell_type": "code",
   "execution_count": null,
   "metadata": {},
   "outputs": [],
   "source": []
  },
  {
   "cell_type": "markdown",
   "metadata": {},
   "source": [
    "## Summary\n",
    "\n",
    "We have seen five ways to represent a distribution of lifetimes:\n",
    "\n",
    "* "
   ]
  },
  {
   "cell_type": "code",
   "execution_count": null,
   "metadata": {},
   "outputs": [],
   "source": [
    "surv2 = haz.make_surv()\n",
    "max(abs(surv - surv2))\n"
   ]
  },
  {
   "cell_type": "code",
   "execution_count": null,
   "metadata": {},
   "outputs": [],
   "source": [
    "\n",
    "cdf2 = surv2.make_cdf()\n",
    "max(abs(cdf - cdf2))"
   ]
  },
  {
   "cell_type": "code",
   "execution_count": null,
   "metadata": {},
   "outputs": [],
   "source": [
    "\n",
    "pmf2 = cdf2.make_pmf()\n",
    "max(abs(pmf.ps - pmf2.ps))"
   ]
  },
  {
   "cell_type": "code",
   "execution_count": null,
   "metadata": {},
   "outputs": [],
   "source": []
  }
 ],
 "metadata": {
  "kernelspec": {
   "display_name": "Python 3",
   "language": "python",
   "name": "python3"
  },
  "language_info": {
   "codemirror_mode": {
    "name": "ipython",
    "version": 3
   },
   "file_extension": ".py",
   "mimetype": "text/x-python",
   "name": "python",
   "nbconvert_exporter": "python",
   "pygments_lexer": "ipython3",
   "version": "3.7.5"
  }
 },
 "nbformat": 4,
 "nbformat_minor": 2
}
