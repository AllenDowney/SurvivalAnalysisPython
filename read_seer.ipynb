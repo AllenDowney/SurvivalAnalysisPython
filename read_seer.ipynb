{
 "cells": [
  {
   "cell_type": "markdown",
   "metadata": {},
   "source": [
    "# Survival Analysis in Python\n",
    "\n",
    "SEER Survival Data\n",
    "\n",
    "Allen B. Downey\n",
    "\n",
    "[MIT License](https://en.wikipedia.org/wiki/MIT_License)"
   ]
  },
  {
   "cell_type": "code",
   "execution_count": 1,
   "metadata": {},
   "outputs": [],
   "source": [
    "import pandas as pd\n",
    "import numpy as np\n",
    "\n",
    "import matplotlib.pyplot as plt\n",
    "import seaborn as sns\n",
    "sns.set(style='white')\n",
    "\n",
    "import utils\n",
    "from utils import decorate\n",
    "from empiricaldist import Pmf, Cdf, Surv, Hazard\n"
   ]
  },
  {
   "cell_type": "markdown",
   "metadata": {},
   "source": [
    "```\n",
    "Data is in the SEER directory; cannot be redistributed.\n",
    "\n",
    "Surveillance, Epidemiology, and End Results (SEER) Program\n",
    "     (www.seer.cancer.gov) Research Data (1975-2016), National Cancer\n",
    "     Institute, DCCPS, Surveillance Research Program,\n",
    "     released April 2019, based on the November 2018 submission.\n",
    "     \n",
    "Documentation is in\n",
    "/INCIDENCE/TEXTDATA.FILEDESCRIPTION.PDF \n",
    "\n",
    "Sub-directories with the SEER November 2018 Research Data files.  The\n",
    "     SEER November 2018 data within each sub-directory have been broken out\n",
    "     into nine site group files.  The split into site files was made using the \n",
    "     Site recode ICD-O-3/WHO 2008.  These files are stored as ASCII text files.\n",
    "\n",
    "     BREAST.TXT    -  Breast\n",
    "     COLRECT.TXT   -  Colon and Rectum\n",
    "     DIGOTHR.TXT   -  Other Digestive\n",
    "     FEMGEN.TXT    -  Female Genital\n",
    "     LYMYLEUK.TXT  -  Lymphoma of All Sites and Leukemia\n",
    "     MALEGEN.TXT   -  Male Genital\n",
    "     RESPIR.TXT    -  Respiratory\n",
    "     URINARY.TXT   -  Urinary\n",
    "     OTHER.TXT     -  All Other Sites\n",
    "\n",
    "\n",
    "YR1975_2016.SEER9\n",
    "        This directory contains the SEER November 2018 Research Data files\n",
    "        from nine SEER registries for 1975-2016.  The SEER 9 registries are\n",
    "        Atlanta, Connecticut, Detroit, Hawaii, Iowa,  New Mexico, San\n",
    "        Francisco-Oakland, Seattle-Puget Sound, and Utah.  Data are available\n",
    "        for cases diagnosed from 1975 and later for these registries.\n",
    "```\n"
   ]
  },
  {
   "cell_type": "code",
   "execution_count": 2,
   "metadata": {},
   "outputs": [],
   "source": [
    "    \n",
    "names = ['SEX', 'AGE_DX', 'SEQ_NUM', 'YEAR_DX', 'PRIMSITE', 'GRADE', \n",
    "         'HISTREC', 'HISTRECB', 'cs0204schema',\n",
    "         'STAT_REC', 'SRV_TIME_MON', 'SRV_TIME_MON_FLAG']\n",
    "    \n",
    "colspecs = [(24-1, 24),   # SEX\n",
    "            (25-1, 27),   # AGE_DX\n",
    "            (35-1, 36),   # Sequence number\n",
    "            (39-1, 42),   # YEAR_DX\n",
    "            (43-1, 46),   # PRIMSITE\n",
    "            (58-1, 58),   # GRADE\n",
    "            (226-1, 227),   # HISTREC\n",
    "            (228-1, 229),   # HISTRECB\n",
    "            (230-1, 232), # cs0204schema\n",
    "            (265-1, 265), # Vital status recode\n",
    "            (301-1, 304), # Survival months\n",
    "            (305-1, 305), # Survival months flag\n",
    "           ]"
   ]
  },
  {
   "cell_type": "code",
   "execution_count": 3,
   "metadata": {},
   "outputs": [
    {
     "data": {
      "text/plain": [
       "(12, 12)"
      ]
     },
     "execution_count": 3,
     "metadata": {},
     "output_type": "execute_result"
    }
   ],
   "source": [
    "len(names), len(colspecs)"
   ]
  },
  {
   "cell_type": "markdown",
   "metadata": {},
   "source": [
    "```\n",
    "SEX: 1 male, 2 female\n",
    "\n",
    "AGE: 999 = unknown\n",
    "\n",
    "Sequence number: Probably select code 00 = One primary only in the patient’s lifetime\n",
    "\n",
    "Primary site: This data item identifies the site in which the primary tumor originated. See\n",
    "the International Classification of Diseases for Oncology, Third Edition\n",
    "(ICD-O-3) for topography codes. The decimal point is eliminated.\n",
    "\n",
    "GRADE: Grading and differentiation codes of 1-4, 9 are defined in ICD-O-2; 1992. Grade\n",
    "information may be incomplete for cases diagnosed before 1977.\n",
    "\n",
    "Vital status recode: Vital status recode (study cutoff used) Any patient that dies after the follow-up cut-off date is recoded to alive as of the cut-off date.\n",
    "\n",
    "1 alive, 0 dead\n",
    "\n",
    "CS SCHEMA\n",
    "063 Lung\n",
    "\n",
    "\n",
    "HISTREC: Histology recode broad groupings: \n",
    "\n",
    "42: 9670-9699 : nhl - mature b-cell lymphomas\n",
    "43: 9700-9719 : nhl - mature t and nk-cell lymphomas\n",
    "44: 9720-9729 : nhl - precursor cell lymphoblastic lymphoma\n",
    "\n",
    "\n",
    "HISTRECB: Histology recode brain groupings: \n",
    "3 = Glioblastoma\n",
    "11 = Astrocytoma, NOS\n",
    "12 = Glioma , NOS\n",
    "\n",
    "Survival months: \n",
    "\n",
    "9999 = Unknown\n",
    "\n",
    "Created using complete dates, including days, therefore may differ from\n",
    "survival time calculated from year and month only. For more information,\n",
    "see http://seer.cancer.gov/survivaltime.\n",
    "\n",
    "\n",
    "Survival months flag\n",
    "\n",
    "Code\n",
    "0   Complete dates are available and there are 0 days of survival\n",
    "1   Complete dates are available and there are more than 0 days of survival\n",
    "2   Incomplete dates are available and there could be zero days of follow-up\n",
    "3   Incomplete dates are available and there cannot be zero days of follow-up\n",
    "9   Unknown\n",
    "\n",
    "```"
   ]
  },
  {
   "cell_type": "code",
   "execution_count": 4,
   "metadata": {},
   "outputs": [],
   "source": [
    "def read_seer(dat_file):\n",
    "    return pd.read_fwf(dat_file,\n",
    "                     colspecs=colspecs,\n",
    "                     names=names,\n",
    "                     header=None,\n",
    "                     #nrows=10000,\n",
    "                     #compression='gzip'\n",
    "                    )"
   ]
  },
  {
   "cell_type": "code",
   "execution_count": 5,
   "metadata": {},
   "outputs": [],
   "source": [
    "dat_file = 'SEER/SEER_1975_2016_TEXTDATA/incidence/yr1975_2016.seer9/OTHER.TXT'\n",
    "df = read_seer(dat_file)"
   ]
  },
  {
   "cell_type": "code",
   "execution_count": 6,
   "metadata": {},
   "outputs": [
    {
     "data": {
      "text/plain": [
       "(900955, 12)"
      ]
     },
     "execution_count": 6,
     "metadata": {},
     "output_type": "execute_result"
    }
   ],
   "source": [
    "df.shape"
   ]
  },
  {
   "cell_type": "code",
   "execution_count": 7,
   "metadata": {},
   "outputs": [
    {
     "data": {
      "text/html": [
       "<div>\n",
       "<style scoped>\n",
       "    .dataframe tbody tr th:only-of-type {\n",
       "        vertical-align: middle;\n",
       "    }\n",
       "\n",
       "    .dataframe tbody tr th {\n",
       "        vertical-align: top;\n",
       "    }\n",
       "\n",
       "    .dataframe thead th {\n",
       "        text-align: right;\n",
       "    }\n",
       "</style>\n",
       "<table border=\"1\" class=\"dataframe\">\n",
       "  <thead>\n",
       "    <tr style=\"text-align: right;\">\n",
       "      <th></th>\n",
       "      <th>SEX</th>\n",
       "      <th>AGE_DX</th>\n",
       "      <th>SEQ_NUM</th>\n",
       "      <th>YEAR_DX</th>\n",
       "      <th>PRIMSITE</th>\n",
       "      <th>GRADE</th>\n",
       "      <th>HISTREC</th>\n",
       "      <th>HISTRECB</th>\n",
       "      <th>cs0204schema</th>\n",
       "      <th>STAT_REC</th>\n",
       "      <th>SRV_TIME_MON</th>\n",
       "      <th>SRV_TIME_MON_FLAG</th>\n",
       "    </tr>\n",
       "  </thead>\n",
       "  <tbody>\n",
       "    <tr>\n",
       "      <th>0</th>\n",
       "      <td>2</td>\n",
       "      <td>71</td>\n",
       "      <td>2</td>\n",
       "      <td>1980</td>\n",
       "      <td>C809</td>\n",
       "      <td>9</td>\n",
       "      <td>5</td>\n",
       "      <td>98</td>\n",
       "      <td>48</td>\n",
       "      <td>0</td>\n",
       "      <td>79</td>\n",
       "      <td>1</td>\n",
       "    </tr>\n",
       "    <tr>\n",
       "      <th>1</th>\n",
       "      <td>1</td>\n",
       "      <td>79</td>\n",
       "      <td>2</td>\n",
       "      <td>1978</td>\n",
       "      <td>C809</td>\n",
       "      <td>9</td>\n",
       "      <td>5</td>\n",
       "      <td>98</td>\n",
       "      <td>48</td>\n",
       "      <td>0</td>\n",
       "      <td>15</td>\n",
       "      <td>1</td>\n",
       "    </tr>\n",
       "    <tr>\n",
       "      <th>2</th>\n",
       "      <td>1</td>\n",
       "      <td>86</td>\n",
       "      <td>2</td>\n",
       "      <td>1980</td>\n",
       "      <td>C492</td>\n",
       "      <td>9</td>\n",
       "      <td>28</td>\n",
       "      <td>98</td>\n",
       "      <td>50</td>\n",
       "      <td>0</td>\n",
       "      <td>19</td>\n",
       "      <td>1</td>\n",
       "    </tr>\n",
       "    <tr>\n",
       "      <th>3</th>\n",
       "      <td>1</td>\n",
       "      <td>60</td>\n",
       "      <td>4</td>\n",
       "      <td>1990</td>\n",
       "      <td>C809</td>\n",
       "      <td>9</td>\n",
       "      <td>5</td>\n",
       "      <td>98</td>\n",
       "      <td>48</td>\n",
       "      <td>0</td>\n",
       "      <td>6</td>\n",
       "      <td>1</td>\n",
       "    </tr>\n",
       "    <tr>\n",
       "      <th>4</th>\n",
       "      <td>2</td>\n",
       "      <td>82</td>\n",
       "      <td>2</td>\n",
       "      <td>1982</td>\n",
       "      <td>C019</td>\n",
       "      <td>1</td>\n",
       "      <td>2</td>\n",
       "      <td>98</td>\n",
       "      <td>148</td>\n",
       "      <td>0</td>\n",
       "      <td>3</td>\n",
       "      <td>1</td>\n",
       "    </tr>\n",
       "  </tbody>\n",
       "</table>\n",
       "</div>"
      ],
      "text/plain": [
       "   SEX  AGE_DX  SEQ_NUM  YEAR_DX PRIMSITE  GRADE  HISTREC  HISTRECB  \\\n",
       "0    2      71        2     1980     C809      9        5        98   \n",
       "1    1      79        2     1978     C809      9        5        98   \n",
       "2    1      86        2     1980     C492      9       28        98   \n",
       "3    1      60        4     1990     C809      9        5        98   \n",
       "4    2      82        2     1982     C019      1        2        98   \n",
       "\n",
       "   cs0204schema  STAT_REC  SRV_TIME_MON  SRV_TIME_MON_FLAG  \n",
       "0            48         0            79                  1  \n",
       "1            48         0            15                  1  \n",
       "2            50         0            19                  1  \n",
       "3            48         0             6                  1  \n",
       "4           148         0             3                  1  "
      ]
     },
     "execution_count": 7,
     "metadata": {},
     "output_type": "execute_result"
    }
   ],
   "source": [
    "df.head()"
   ]
  },
  {
   "cell_type": "code",
   "execution_count": 8,
   "metadata": {},
   "outputs": [
    {
     "data": {
      "text/plain": [
       "1    452101\n",
       "0    448854\n",
       "Name: STAT_REC, dtype: int64"
      ]
     },
     "execution_count": 8,
     "metadata": {},
     "output_type": "execute_result"
    }
   ],
   "source": [
    "df['STAT_REC'].value_counts()"
   ]
  },
  {
   "cell_type": "code",
   "execution_count": 9,
   "metadata": {},
   "outputs": [
    {
     "data": {
      "text/plain": [
       "C809    95433\n",
       "C445    93532\n",
       "C739    92988\n",
       "C446    75408\n",
       "C447    55173\n",
       "        ...  \n",
       "C186        1\n",
       "C251        1\n",
       "C574        1\n",
       "C318        1\n",
       "C178        1\n",
       "Name: PRIMSITE, Length: 262, dtype: int64"
      ]
     },
     "execution_count": 9,
     "metadata": {},
     "output_type": "execute_result"
    }
   ],
   "source": [
    "df['PRIMSITE'].value_counts()"
   ]
  },
  {
   "cell_type": "code",
   "execution_count": 10,
   "metadata": {},
   "outputs": [
    {
     "data": {
      "image/png": "[encoded data removed]",
      "text/plain": [
       "<Figure size 640x480 with 1 Axes>"
      ]
     },
     "metadata": {},
     "output_type": "display_data"
    }
   ],
   "source": [
    "df['SRV_TIME_MON'].replace(9999, np.nan, inplace=True)\n",
    "Cdf.from_seq(df['SRV_TIME_MON']).plot()"
   ]
  },
  {
   "cell_type": "code",
   "execution_count": 11,
   "metadata": {},
   "outputs": [
    {
     "data": {
      "text/plain": [
       "count    889348.000000\n",
       "mean         84.242866\n",
       "std          97.402762\n",
       "min           0.000000\n",
       "25%          11.000000\n",
       "50%          48.000000\n",
       "75%         124.000000\n",
       "max         503.000000\n",
       "Name: SRV_TIME_MON, dtype: float64"
      ]
     },
     "execution_count": 11,
     "metadata": {},
     "output_type": "execute_result"
    }
   ],
   "source": [
    "df['SRV_TIME_MON'].describe()"
   ]
  },
  {
   "cell_type": "code",
   "execution_count": 12,
   "metadata": {},
   "outputs": [
    {
     "data": {
      "text/plain": [
       "70343"
      ]
     },
     "execution_count": 12,
     "metadata": {},
     "output_type": "execute_result"
    }
   ],
   "source": [
    "brain = df['PRIMSITE'].str.startswith('C71')\n",
    "brain.sum()"
   ]
  },
  {
   "cell_type": "code",
   "execution_count": 13,
   "metadata": {},
   "outputs": [
    {
     "data": {
      "text/plain": [
       "3     30749\n",
       "11     8862\n",
       "12     4384\n",
       "2      4220\n",
       "27     3556\n",
       "Name: HISTRECB, dtype: int64"
      ]
     },
     "execution_count": 13,
     "metadata": {},
     "output_type": "execute_result"
    }
   ],
   "source": [
    "df[brain]['HISTRECB'].value_counts().head(5)"
   ]
  },
  {
   "cell_type": "code",
   "execution_count": 14,
   "metadata": {},
   "outputs": [
    {
     "data": {
      "text/plain": [
       "44949"
      ]
     },
     "execution_count": 14,
     "metadata": {},
     "output_type": "execute_result"
    }
   ],
   "source": [
    "top3 = df['HISTRECB'].isin([3, 11, 12])\n",
    "top3.sum()"
   ]
  },
  {
   "cell_type": "code",
   "execution_count": 15,
   "metadata": {},
   "outputs": [
    {
     "data": {
      "text/plain": [
       "43995"
      ]
     },
     "execution_count": 15,
     "metadata": {},
     "output_type": "execute_result"
    }
   ],
   "source": [
    "(brain&top3).sum()"
   ]
  },
  {
   "cell_type": "code",
   "execution_count": 16,
   "metadata": {},
   "outputs": [
    {
     "data": {
      "text/plain": [
       "0    39671\n",
       "1     5278\n",
       "Name: STAT_REC, dtype: int64"
      ]
     },
     "execution_count": 16,
     "metadata": {},
     "output_type": "execute_result"
    }
   ],
   "source": [
    "df[top3]['STAT_REC'].value_counts()"
   ]
  },
  {
   "cell_type": "code",
   "execution_count": 17,
   "metadata": {},
   "outputs": [
    {
     "data": {
      "text/plain": [
       "2015    1398\n",
       "2016    1376\n",
       "2014    1305\n",
       "2013    1299\n",
       "2012    1278\n",
       "2011    1268\n",
       "2009    1204\n",
       "2010    1189\n",
       "2008    1183\n",
       "2005    1157\n",
       "2007    1154\n",
       "2004    1151\n",
       "2003    1093\n",
       "2006    1077\n",
       "1999    1060\n",
       "2002    1036\n",
       "1985    1035\n",
       "1987    1035\n",
       "1986    1023\n",
       "2000    1022\n",
       "1997    1005\n",
       "1990    1005\n",
       "1989    1004\n",
       "1988    1003\n",
       "1992    1002\n",
       "2001    1001\n",
       "1993     993\n",
       "1991     993\n",
       "1996     989\n",
       "1994     978\n",
       "1983     949\n",
       "1981     942\n",
       "1995     934\n",
       "1998     933\n",
       "1980     915\n",
       "1982     912\n",
       "1984     908\n",
       "1979     901\n",
       "1978     847\n",
       "1977     844\n",
       "1975     806\n",
       "1976     788\n",
       "Name: YEAR_DX, dtype: int64"
      ]
     },
     "execution_count": 17,
     "metadata": {},
     "output_type": "execute_result"
    }
   ],
   "source": [
    "df[brain&top3]['YEAR_DX'].value_counts()"
   ]
  },
  {
   "cell_type": "code",
   "execution_count": 18,
   "metadata": {},
   "outputs": [
    {
     "data": {
      "text/plain": [
       "1    33569\n",
       "3    10203\n",
       "8      615\n",
       "2      475\n",
       "0       87\n",
       "Name: SRV_TIME_MON_FLAG, dtype: int64"
      ]
     },
     "execution_count": 18,
     "metadata": {},
     "output_type": "execute_result"
    }
   ],
   "source": [
    "df[top3]['SRV_TIME_MON_FLAG'].value_counts()"
   ]
  },
  {
   "cell_type": "code",
   "execution_count": 19,
   "metadata": {},
   "outputs": [],
   "source": [
    "flag1 = df['SRV_TIME_MON_FLAG'] == 1\n",
    "flag2 = df['SRV_TIME_MON_FLAG'] == 2"
   ]
  },
  {
   "cell_type": "code",
   "execution_count": 20,
   "metadata": {},
   "outputs": [
    {
     "data": {
      "text/plain": [
       "0.0    456\n",
       "3.0      5\n",
       "5.0      5\n",
       "1.0      4\n",
       "2.0      3\n",
       "4.0      1\n",
       "6.0      1\n",
       "Name: SRV_TIME_MON, dtype: int64"
      ]
     },
     "execution_count": 20,
     "metadata": {},
     "output_type": "execute_result"
    }
   ],
   "source": [
    "df[top3 & flag2]['SRV_TIME_MON'].value_counts()"
   ]
  },
  {
   "cell_type": "code",
   "execution_count": 21,
   "metadata": {},
   "outputs": [
    {
     "data": {
      "text/plain": [
       "44334"
      ]
     },
     "execution_count": 21,
     "metadata": {},
     "output_type": "execute_result"
    }
   ],
   "source": [
    "subset = df[top3].dropna(subset=['SRV_TIME_MON'])\n",
    "len(subset)"
   ]
  },
  {
   "cell_type": "code",
   "execution_count": 22,
   "metadata": {},
   "outputs": [],
   "source": [
    "subset.to_hdf('brain.hd5', 'brain')"
   ]
  },
  {
   "cell_type": "code",
   "execution_count": 23,
   "metadata": {},
   "outputs": [
    {
     "data": {
      "text/plain": [
       "(44334, 12)"
      ]
     },
     "execution_count": 23,
     "metadata": {},
     "output_type": "execute_result"
    }
   ],
   "source": [
    "brain = pd.read_hdf('brain.hd5', 'brain')\n",
    "brain.shape"
   ]
  },
  {
   "cell_type": "code",
   "execution_count": 24,
   "metadata": {},
   "outputs": [
    {
     "data": {
      "text/html": [
       "<div>\n",
       "<style scoped>\n",
       "    .dataframe tbody tr th:only-of-type {\n",
       "        vertical-align: middle;\n",
       "    }\n",
       "\n",
       "    .dataframe tbody tr th {\n",
       "        vertical-align: top;\n",
       "    }\n",
       "\n",
       "    .dataframe thead th {\n",
       "        text-align: right;\n",
       "    }\n",
       "</style>\n",
       "<table border=\"1\" class=\"dataframe\">\n",
       "  <thead>\n",
       "    <tr style=\"text-align: right;\">\n",
       "      <th></th>\n",
       "      <th>SEX</th>\n",
       "      <th>AGE_DX</th>\n",
       "      <th>SEQ_NUM</th>\n",
       "      <th>YEAR_DX</th>\n",
       "      <th>PRIMSITE</th>\n",
       "      <th>GRADE</th>\n",
       "      <th>HISTREC</th>\n",
       "      <th>HISTRECB</th>\n",
       "      <th>cs0204schema</th>\n",
       "      <th>STAT_REC</th>\n",
       "      <th>SRV_TIME_MON</th>\n",
       "      <th>SRV_TIME_MON_FLAG</th>\n",
       "    </tr>\n",
       "  </thead>\n",
       "  <tbody>\n",
       "    <tr>\n",
       "      <th>30</th>\n",
       "      <td>2</td>\n",
       "      <td>81</td>\n",
       "      <td>2</td>\n",
       "      <td>2001</td>\n",
       "      <td>C713</td>\n",
       "      <td>4</td>\n",
       "      <td>35</td>\n",
       "      <td>3</td>\n",
       "      <td>12</td>\n",
       "      <td>0</td>\n",
       "      <td>1.0</td>\n",
       "      <td>1</td>\n",
       "    </tr>\n",
       "    <tr>\n",
       "      <th>32</th>\n",
       "      <td>2</td>\n",
       "      <td>74</td>\n",
       "      <td>2</td>\n",
       "      <td>1979</td>\n",
       "      <td>C713</td>\n",
       "      <td>9</td>\n",
       "      <td>35</td>\n",
       "      <td>3</td>\n",
       "      <td>12</td>\n",
       "      <td>0</td>\n",
       "      <td>2.0</td>\n",
       "      <td>1</td>\n",
       "    </tr>\n",
       "    <tr>\n",
       "      <th>35</th>\n",
       "      <td>1</td>\n",
       "      <td>64</td>\n",
       "      <td>0</td>\n",
       "      <td>1981</td>\n",
       "      <td>C718</td>\n",
       "      <td>9</td>\n",
       "      <td>35</td>\n",
       "      <td>3</td>\n",
       "      <td>12</td>\n",
       "      <td>0</td>\n",
       "      <td>1.0</td>\n",
       "      <td>1</td>\n",
       "    </tr>\n",
       "    <tr>\n",
       "      <th>38</th>\n",
       "      <td>1</td>\n",
       "      <td>73</td>\n",
       "      <td>2</td>\n",
       "      <td>1982</td>\n",
       "      <td>C718</td>\n",
       "      <td>2</td>\n",
       "      <td>35</td>\n",
       "      <td>11</td>\n",
       "      <td>12</td>\n",
       "      <td>0</td>\n",
       "      <td>5.0</td>\n",
       "      <td>1</td>\n",
       "    </tr>\n",
       "    <tr>\n",
       "      <th>63</th>\n",
       "      <td>2</td>\n",
       "      <td>72</td>\n",
       "      <td>0</td>\n",
       "      <td>1979</td>\n",
       "      <td>C718</td>\n",
       "      <td>9</td>\n",
       "      <td>35</td>\n",
       "      <td>3</td>\n",
       "      <td>12</td>\n",
       "      <td>0</td>\n",
       "      <td>2.0</td>\n",
       "      <td>1</td>\n",
       "    </tr>\n",
       "  </tbody>\n",
       "</table>\n",
       "</div>"
      ],
      "text/plain": [
       "    SEX  AGE_DX  SEQ_NUM  YEAR_DX PRIMSITE  GRADE  HISTREC  HISTRECB  \\\n",
       "30    2      81        2     2001     C713      4       35         3   \n",
       "32    2      74        2     1979     C713      9       35         3   \n",
       "35    1      64        0     1981     C718      9       35         3   \n",
       "38    1      73        2     1982     C718      2       35        11   \n",
       "63    2      72        0     1979     C718      9       35         3   \n",
       "\n",
       "    cs0204schema  STAT_REC  SRV_TIME_MON  SRV_TIME_MON_FLAG  \n",
       "30            12         0           1.0                  1  \n",
       "32            12         0           2.0                  1  \n",
       "35            12         0           1.0                  1  \n",
       "38            12         0           5.0                  1  \n",
       "63            12         0           2.0                  1  "
      ]
     },
     "execution_count": 24,
     "metadata": {},
     "output_type": "execute_result"
    }
   ],
   "source": [
    "brain.head()"
   ]
  },
  {
   "cell_type": "code",
   "execution_count": 25,
   "metadata": {},
   "outputs": [
    {
     "data": {
      "image/png": "[encoded data removed]",
      "text/plain": [
       "<Figure size 640x480 with 1 Axes>"
      ]
     },
     "metadata": {},
     "output_type": "display_data"
    }
   ],
   "source": [
    "Cdf.from_seq(brain['SRV_TIME_MON']).plot()"
   ]
  },
  {
   "cell_type": "markdown",
   "metadata": {},
   "source": [
    "## Synthesize data\n"
   ]
  },
  {
   "cell_type": "code",
   "execution_count": 26,
   "metadata": {},
   "outputs": [
    {
     "data": {
      "text/plain": [
       "(44334, 12)"
      ]
     },
     "execution_count": 26,
     "metadata": {},
     "output_type": "execute_result"
    }
   ],
   "source": [
    "brain.shape"
   ]
  },
  {
   "cell_type": "code",
   "execution_count": 27,
   "metadata": {},
   "outputs": [
    {
     "name": "stdout",
     "output_type": "stream",
     "text": [
      "3 30549\n",
      "11 9006\n",
      "12 4779\n"
     ]
    }
   ],
   "source": [
    "grouped = brain.groupby(\"HISTRECB\")\n",
    "for name, group in grouped:\n",
    "    print(name, len(group))"
   ]
  },
  {
   "cell_type": "code",
   "execution_count": 28,
   "metadata": {},
   "outputs": [
    {
     "data": {
      "text/plain": [
       "30171"
      ]
     },
     "execution_count": 28,
     "metadata": {},
     "output_type": "execute_result"
    }
   ],
   "source": [
    "group = grouped.get_group(3)\n",
    "\n",
    "valid = group[\"SRV_TIME_MON_FLAG\"].isin([1, 3])\n",
    "valid.sum()"
   ]
  },
  {
   "cell_type": "code",
   "execution_count": 29,
   "metadata": {},
   "outputs": [
    {
     "data": {
      "text/plain": [
       "16298"
      ]
     },
     "execution_count": 29,
     "metadata": {},
     "output_type": "execute_result"
    }
   ],
   "source": [
    "recent = group[\"YEAR_DX\"] >= 2000\n",
    "recent.sum()"
   ]
  },
  {
   "cell_type": "code",
   "execution_count": 30,
   "metadata": {},
   "outputs": [
    {
     "data": {
      "text/plain": [
       "14251"
      ]
     },
     "execution_count": 30,
     "metadata": {},
     "output_type": "execute_result"
    }
   ],
   "source": [
    "(~recent).sum()"
   ]
  },
  {
   "cell_type": "code",
   "execution_count": 31,
   "metadata": {},
   "outputs": [
    {
     "data": {
      "text/plain": [
       "13969"
      ]
     },
     "execution_count": 31,
     "metadata": {},
     "output_type": "execute_result"
    }
   ],
   "source": [
    "(~recent & valid).sum()"
   ]
  },
  {
   "cell_type": "code",
   "execution_count": 32,
   "metadata": {},
   "outputs": [
    {
     "data": {
      "text/plain": [
       "16202"
      ]
     },
     "execution_count": 32,
     "metadata": {},
     "output_type": "execute_result"
    }
   ],
   "source": [
    "selected = valid & recent\n",
    "selected.sum()"
   ]
  },
  {
   "cell_type": "code",
   "execution_count": 33,
   "metadata": {},
   "outputs": [
    {
     "data": {
      "text/plain": [
       "2016"
      ]
     },
     "execution_count": 33,
     "metadata": {},
     "output_type": "execute_result"
    }
   ],
   "source": [
    "group.loc[selected, \"YEAR_DX\"].max()"
   ]
  },
  {
   "cell_type": "code",
   "execution_count": 34,
   "metadata": {},
   "outputs": [
    {
     "data": {
      "text/plain": [
       "14508"
      ]
     },
     "execution_count": 34,
     "metadata": {},
     "output_type": "execute_result"
    }
   ],
   "source": [
    "observed = group.loc[selected, \"STAT_REC\"] == 0\n",
    "observed.sum()"
   ]
  },
  {
   "cell_type": "code",
   "execution_count": 35,
   "metadata": {},
   "outputs": [
    {
     "data": {
      "text/plain": [
       "count    16202.000000\n",
       "mean        12.794964\n",
       "std         18.950917\n",
       "min          0.000000\n",
       "25%          2.000000\n",
       "50%          7.000000\n",
       "75%         16.000000\n",
       "max        201.000000\n",
       "Name: SRV_TIME_MON, dtype: float64"
      ]
     },
     "execution_count": 35,
     "metadata": {},
     "output_type": "execute_result"
    }
   ],
   "source": [
    "duration = group.loc[selected, \"SRV_TIME_MON\"]\n",
    "duration.describe()"
   ]
  },
  {
   "cell_type": "code",
   "execution_count": 36,
   "metadata": {},
   "outputs": [],
   "source": [
    "def add_jitter(duration, denom=4):\n",
    "    jitter = np.random.randint(1, denom, len(duration)) / denom\n",
    "    return duration + jitter"
   ]
  },
  {
   "cell_type": "code",
   "execution_count": 38,
   "metadata": {},
   "outputs": [
    {
     "data": {
      "text/html": [
       "<div>\n",
       "<style scoped>\n",
       "    .dataframe tbody tr th:only-of-type {\n",
       "        vertical-align: middle;\n",
       "    }\n",
       "\n",
       "    .dataframe tbody tr th {\n",
       "        vertical-align: top;\n",
       "    }\n",
       "\n",
       "    .dataframe thead th {\n",
       "        text-align: right;\n",
       "    }\n",
       "</style>\n",
       "<table border=\"1\" class=\"dataframe\">\n",
       "  <thead>\n",
       "    <tr style=\"text-align: right;\">\n",
       "      <th></th>\n",
       "      <th>duration</th>\n",
       "      <th>observed</th>\n",
       "    </tr>\n",
       "  </thead>\n",
       "  <tbody>\n",
       "    <tr>\n",
       "      <th>0</th>\n",
       "      <td>4.0</td>\n",
       "      <td>True</td>\n",
       "    </tr>\n",
       "    <tr>\n",
       "      <th>1</th>\n",
       "      <td>15.0</td>\n",
       "      <td>True</td>\n",
       "    </tr>\n",
       "    <tr>\n",
       "      <th>2</th>\n",
       "      <td>10.0</td>\n",
       "      <td>True</td>\n",
       "    </tr>\n",
       "    <tr>\n",
       "      <th>3</th>\n",
       "      <td>6.0</td>\n",
       "      <td>True</td>\n",
       "    </tr>\n",
       "    <tr>\n",
       "      <th>4</th>\n",
       "      <td>29.0</td>\n",
       "      <td>True</td>\n",
       "    </tr>\n",
       "  </tbody>\n",
       "</table>\n",
       "</div>"
      ],
      "text/plain": [
       "   duration  observed\n",
       "0       4.0      True\n",
       "1      15.0      True\n",
       "2      10.0      True\n",
       "3       6.0      True\n",
       "4      29.0      True"
      ]
     },
     "execution_count": 38,
     "metadata": {},
     "output_type": "execute_result"
    }
   ],
   "source": [
    "d = dict(duration=duration, observed=observed)\n",
    "synth = pd.DataFrame(d).sample(frac=1, replace=True).reset_index(drop=True)\n",
    "synth.head()"
   ]
  },
  {
   "cell_type": "code",
   "execution_count": 40,
   "metadata": {},
   "outputs": [
    {
     "data": {
      "text/html": [
       "<div>\n",
       "<style scoped>\n",
       "    .dataframe tbody tr th:only-of-type {\n",
       "        vertical-align: middle;\n",
       "    }\n",
       "\n",
       "    .dataframe tbody tr th {\n",
       "        vertical-align: top;\n",
       "    }\n",
       "\n",
       "    .dataframe thead th {\n",
       "        text-align: right;\n",
       "    }\n",
       "</style>\n",
       "<table border=\"1\" class=\"dataframe\">\n",
       "  <thead>\n",
       "    <tr style=\"text-align: right;\">\n",
       "      <th></th>\n",
       "      <th>duration</th>\n",
       "      <th>observed</th>\n",
       "    </tr>\n",
       "  </thead>\n",
       "  <tbody>\n",
       "    <tr>\n",
       "      <th>0</th>\n",
       "      <td>4.50</td>\n",
       "      <td>True</td>\n",
       "    </tr>\n",
       "    <tr>\n",
       "      <th>1</th>\n",
       "      <td>15.75</td>\n",
       "      <td>True</td>\n",
       "    </tr>\n",
       "    <tr>\n",
       "      <th>2</th>\n",
       "      <td>10.75</td>\n",
       "      <td>True</td>\n",
       "    </tr>\n",
       "    <tr>\n",
       "      <th>3</th>\n",
       "      <td>6.25</td>\n",
       "      <td>True</td>\n",
       "    </tr>\n",
       "    <tr>\n",
       "      <th>4</th>\n",
       "      <td>29.50</td>\n",
       "      <td>True</td>\n",
       "    </tr>\n",
       "  </tbody>\n",
       "</table>\n",
       "</div>"
      ],
      "text/plain": [
       "   duration  observed\n",
       "0      4.50      True\n",
       "1     15.75      True\n",
       "2     10.75      True\n",
       "3      6.25      True\n",
       "4     29.50      True"
      ]
     },
     "execution_count": 40,
     "metadata": {},
     "output_type": "execute_result"
    }
   ],
   "source": [
    "synth['duration'] = add_jitter(synth['duration'])\n",
    "synth.head()"
   ]
  },
  {
   "cell_type": "code",
   "execution_count": 41,
   "metadata": {},
   "outputs": [
    {
     "data": {
      "image/png": "[encoded data removed]",
      "text/plain": [
       "<Figure size 640x480 with 1 Axes>"
      ]
     },
     "metadata": {},
     "output_type": "display_data"
    }
   ],
   "source": [
    "Cdf.from_seq(duration[observed]).plot(label=\"observed\")\n",
    "Cdf.from_seq(duration[~observed]).plot(label=\"censored\")\n",
    "\n",
    "decorate(xscale=\"linear\")"
   ]
  },
  {
   "cell_type": "code",
   "execution_count": 42,
   "metadata": {},
   "outputs": [],
   "source": [
    "synth.to_hdf('brain.hdf', 'brain')"
   ]
  },
  {
   "cell_type": "code",
   "execution_count": null,
   "metadata": {},
   "outputs": [],
   "source": []
  }
 ],
 "metadata": {
  "kernelspec": {
   "display_name": "Python 3 (ipykernel)",
   "language": "python",
   "name": "python3"
  },
  "language_info": {
   "codemirror_mode": {
    "name": "ipython",
    "version": 3
   },
   "file_extension": ".py",
   "mimetype": "text/x-python",
   "name": "python",
   "nbconvert_exporter": "python",
   "pygments_lexer": "ipython3",
   "version": "3.10.4"
  }
 },
 "nbformat": 4,
 "nbformat_minor": 2
}
