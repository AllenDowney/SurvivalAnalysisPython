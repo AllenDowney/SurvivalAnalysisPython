{
 "cells": [
  {
   "cell_type": "code",
   "execution_count": 29,
   "metadata": {},
   "outputs": [],
   "source": [
    "%matplotlib inline\n",
    "\n",
    "from tabula import read_pdf\n",
    "import pandas as pd"
   ]
  },
  {
   "cell_type": "markdown",
   "metadata": {},
   "source": [
    "This notebook contains code to read the tables from \"\"\n"
   ]
  },
  {
   "cell_type": "code",
   "execution_count": 47,
   "metadata": {},
   "outputs": [],
   "source": [
    "def read_page(pages):\n",
    "    df = read_pdf('data/nvsr67_07-508.pdf', pages=pages)\n",
    "    df.columns = df.loc[2]\n",
    "    df.drop([0,1,2], inplace=True)\n",
    "    return df"
   ]
  },
  {
   "cell_type": "markdown",
   "metadata": {},
   "source": []
  },
  {
   "cell_type": "code",
   "execution_count": 48,
   "metadata": {},
   "outputs": [],
   "source": [
    "df1 = read_page(9)"
   ]
  },
  {
   "cell_type": "markdown",
   "metadata": {},
   "source": []
  },
  {
   "cell_type": "code",
   "execution_count": 49,
   "metadata": {},
   "outputs": [
    {
     "data": {
      "text/html": [
       "<div>\n",
       "<style scoped>\n",
       "    .dataframe tbody tr th:only-of-type {\n",
       "        vertical-align: middle;\n",
       "    }\n",
       "\n",
       "    .dataframe tbody tr th {\n",
       "        vertical-align: top;\n",
       "    }\n",
       "\n",
       "    .dataframe thead th {\n",
       "        text-align: right;\n",
       "    }\n",
       "</style>\n",
       "<table border=\"1\" class=\"dataframe\">\n",
       "  <thead>\n",
       "    <tr style=\"text-align: right;\">\n",
       "      <th>2</th>\n",
       "      <th>Age (years)</th>\n",
       "      <th>qx</th>\n",
       "      <th>lx</th>\n",
       "      <th>dx</th>\n",
       "      <th>Lx</th>\n",
       "      <th>Tx</th>\n",
       "      <th>ex</th>\n",
       "    </tr>\n",
       "  </thead>\n",
       "  <tbody>\n",
       "    <tr>\n",
       "      <th>3</th>\n",
       "      <td>61–62  . . . . . . . . . . . . . . . . . . . ....</td>\n",
       "      <td>0.009652</td>\n",
       "      <td>87,763</td>\n",
       "      <td>847</td>\n",
       "      <td>87,339</td>\n",
       "      <td>1,968,648</td>\n",
       "      <td>22.4</td>\n",
       "    </tr>\n",
       "    <tr>\n",
       "      <th>4</th>\n",
       "      <td>62–63  . . . . . . . . . . . . . . . . . . . ....</td>\n",
       "      <td>0.010353</td>\n",
       "      <td>86,915</td>\n",
       "      <td>900</td>\n",
       "      <td>86,466</td>\n",
       "      <td>1,881,309</td>\n",
       "      <td>21.6</td>\n",
       "    </tr>\n",
       "    <tr>\n",
       "      <th>5</th>\n",
       "      <td>63–64  . . . . . . . . . . . . . . . . . . . ....</td>\n",
       "      <td>0.011081</td>\n",
       "      <td>86,016</td>\n",
       "      <td>953</td>\n",
       "      <td>85,539</td>\n",
       "      <td>1,794,843</td>\n",
       "      <td>20.9</td>\n",
       "    </tr>\n",
       "    <tr>\n",
       "      <th>6</th>\n",
       "      <td>64–65  . . . . . . . . . . . . . . . . . . . ....</td>\n",
       "      <td>0.011838</td>\n",
       "      <td>85,062</td>\n",
       "      <td>1,007</td>\n",
       "      <td>84,559</td>\n",
       "      <td>1,709,304</td>\n",
       "      <td>20.1</td>\n",
       "    </tr>\n",
       "    <tr>\n",
       "      <th>7</th>\n",
       "      <td>65–66  . . . . . . . . . . . . . . . . . . . ....</td>\n",
       "      <td>0.012634</td>\n",
       "      <td>84,055</td>\n",
       "      <td>1,062</td>\n",
       "      <td>83,524</td>\n",
       "      <td>1,624,745</td>\n",
       "      <td>19.3</td>\n",
       "    </tr>\n",
       "  </tbody>\n",
       "</table>\n",
       "</div>"
      ],
      "text/plain": [
       "2                                        Age (years)        qx      lx     dx  \\\n",
       "3  61–62  . . . . . . . . . . . . . . . . . . . ....  0.009652  87,763    847   \n",
       "4  62–63  . . . . . . . . . . . . . . . . . . . ....  0.010353  86,915    900   \n",
       "5  63–64  . . . . . . . . . . . . . . . . . . . ....  0.011081  86,016    953   \n",
       "6  64–65  . . . . . . . . . . . . . . . . . . . ....  0.011838  85,062  1,007   \n",
       "7  65–66  . . . . . . . . . . . . . . . . . . . ....  0.012634  84,055  1,062   \n",
       "\n",
       "2      Lx         Tx    ex  \n",
       "3  87,339  1,968,648  22.4  \n",
       "4  86,466  1,881,309  21.6  \n",
       "5  85,539  1,794,843  20.9  \n",
       "6  84,559  1,709,304  20.1  \n",
       "7  83,524  1,624,745  19.3  "
      ]
     },
     "execution_count": 49,
     "metadata": {},
     "output_type": "execute_result"
    }
   ],
   "source": [
    "df2 = read_page(10)\n",
    "df2.head()"
   ]
  },
  {
   "cell_type": "markdown",
   "metadata": {},
   "source": []
  },
  {
   "cell_type": "code",
   "execution_count": 50,
   "metadata": {},
   "outputs": [
    {
     "data": {
      "text/html": [
       "<div>\n",
       "<style scoped>\n",
       "    .dataframe tbody tr th:only-of-type {\n",
       "        vertical-align: middle;\n",
       "    }\n",
       "\n",
       "    .dataframe tbody tr th {\n",
       "        vertical-align: top;\n",
       "    }\n",
       "\n",
       "    .dataframe thead th {\n",
       "        text-align: right;\n",
       "    }\n",
       "</style>\n",
       "<table border=\"1\" class=\"dataframe\">\n",
       "  <thead>\n",
       "    <tr style=\"text-align: right;\">\n",
       "      <th>2</th>\n",
       "      <th>Age (years)</th>\n",
       "      <th>qx</th>\n",
       "      <th>lx</th>\n",
       "      <th>dx</th>\n",
       "      <th>Lx</th>\n",
       "      <th>Tx</th>\n",
       "      <th>ex</th>\n",
       "    </tr>\n",
       "  </thead>\n",
       "  <tbody>\n",
       "    <tr>\n",
       "      <th>0</th>\n",
       "      <td>0–1  . . . . . . . . . . . . . . . . . . . . ....</td>\n",
       "      <td>0.005894</td>\n",
       "      <td>100,000</td>\n",
       "      <td>589</td>\n",
       "      <td>99,483</td>\n",
       "      <td>7,872,239</td>\n",
       "      <td>78.7</td>\n",
       "    </tr>\n",
       "    <tr>\n",
       "      <th>1</th>\n",
       "      <td>1–2  . . . . . . . . . . . . . . . . . . . . ....</td>\n",
       "      <td>0.000403</td>\n",
       "      <td>99,411</td>\n",
       "      <td>40</td>\n",
       "      <td>99,391</td>\n",
       "      <td>7,772,756</td>\n",
       "      <td>78.2</td>\n",
       "    </tr>\n",
       "    <tr>\n",
       "      <th>2</th>\n",
       "      <td>2–3  . . . . . . . . . . . . . . . . . . . . ....</td>\n",
       "      <td>0.000252</td>\n",
       "      <td>99,371</td>\n",
       "      <td>25</td>\n",
       "      <td>99,358</td>\n",
       "      <td>7,673,366</td>\n",
       "      <td>77.2</td>\n",
       "    </tr>\n",
       "    <tr>\n",
       "      <th>3</th>\n",
       "      <td>3–4  . . . . . . . . . . . . . . . . . . . . ....</td>\n",
       "      <td>0.000193</td>\n",
       "      <td>99,345</td>\n",
       "      <td>19</td>\n",
       "      <td>99,336</td>\n",
       "      <td>7,574,008</td>\n",
       "      <td>76.2</td>\n",
       "    </tr>\n",
       "    <tr>\n",
       "      <th>4</th>\n",
       "      <td>4–5  . . . . . . . . . . . . . . . . . . . . ....</td>\n",
       "      <td>0.000145</td>\n",
       "      <td>99,326</td>\n",
       "      <td>14</td>\n",
       "      <td>99,319</td>\n",
       "      <td>7,474,672</td>\n",
       "      <td>75.3</td>\n",
       "    </tr>\n",
       "  </tbody>\n",
       "</table>\n",
       "</div>"
      ],
      "text/plain": [
       "2                                        Age (years)        qx       lx   dx  \\\n",
       "0  0–1  . . . . . . . . . . . . . . . . . . . . ....  0.005894  100,000  589   \n",
       "1  1–2  . . . . . . . . . . . . . . . . . . . . ....  0.000403   99,411   40   \n",
       "2  2–3  . . . . . . . . . . . . . . . . . . . . ....  0.000252   99,371   25   \n",
       "3  3–4  . . . . . . . . . . . . . . . . . . . . ....  0.000193   99,345   19   \n",
       "4  4–5  . . . . . . . . . . . . . . . . . . . . ....  0.000145   99,326   14   \n",
       "\n",
       "2      Lx         Tx    ex  \n",
       "0  99,483  7,872,239  78.7  \n",
       "1  99,391  7,772,756  78.2  \n",
       "2  99,358  7,673,366  77.2  \n",
       "3  99,336  7,574,008  76.2  \n",
       "4  99,319  7,474,672  75.3  "
      ]
     },
     "execution_count": 50,
     "metadata": {},
     "output_type": "execute_result"
    }
   ],
   "source": [
    "df = pd.concat([df1, df2], ignore_index=True)\n",
    "df.head()"
   ]
  },
  {
   "cell_type": "markdown",
   "metadata": {},
   "source": []
  },
  {
   "cell_type": "code",
   "execution_count": 51,
   "metadata": {},
   "outputs": [
    {
     "data": {
      "text/html": [
       "<div>\n",
       "<style scoped>\n",
       "    .dataframe tbody tr th:only-of-type {\n",
       "        vertical-align: middle;\n",
       "    }\n",
       "\n",
       "    .dataframe tbody tr th {\n",
       "        vertical-align: top;\n",
       "    }\n",
       "\n",
       "    .dataframe thead th {\n",
       "        text-align: right;\n",
       "    }\n",
       "</style>\n",
       "<table border=\"1\" class=\"dataframe\">\n",
       "  <thead>\n",
       "    <tr style=\"text-align: right;\">\n",
       "      <th>2</th>\n",
       "      <th>Age (years)</th>\n",
       "      <th>qx</th>\n",
       "      <th>lx</th>\n",
       "      <th>dx</th>\n",
       "      <th>Lx</th>\n",
       "      <th>Tx</th>\n",
       "      <th>ex</th>\n",
       "    </tr>\n",
       "  </thead>\n",
       "  <tbody>\n",
       "    <tr>\n",
       "      <th>96</th>\n",
       "      <td>96–97  . . . . . . . . . . . . . . . . . . . ....</td>\n",
       "      <td>0.247715</td>\n",
       "      <td>7,175</td>\n",
       "      <td>1,777</td>\n",
       "      <td>6,286</td>\n",
       "      <td>21,040</td>\n",
       "      <td>2.9</td>\n",
       "    </tr>\n",
       "    <tr>\n",
       "      <th>97</th>\n",
       "      <td>97–98  . . . . . . . . . . . . . . . . . . . ....</td>\n",
       "      <td>0.268255</td>\n",
       "      <td>5,398</td>\n",
       "      <td>1,448</td>\n",
       "      <td>4,674</td>\n",
       "      <td>14,753</td>\n",
       "      <td>2.7</td>\n",
       "    </tr>\n",
       "    <tr>\n",
       "      <th>98</th>\n",
       "      <td>98–99  . . . . . . . . . . . . . . . . . . . ....</td>\n",
       "      <td>0.289322</td>\n",
       "      <td>3,950</td>\n",
       "      <td>1,143</td>\n",
       "      <td>3,378</td>\n",
       "      <td>10,079</td>\n",
       "      <td>2.6</td>\n",
       "    </tr>\n",
       "    <tr>\n",
       "      <th>99</th>\n",
       "      <td>99–100  . . . . . . . . . . . . . . . . . . . ...</td>\n",
       "      <td>0.310753</td>\n",
       "      <td>2,807</td>\n",
       "      <td>872</td>\n",
       "      <td>2,371</td>\n",
       "      <td>6,701</td>\n",
       "      <td>2.4</td>\n",
       "    </tr>\n",
       "    <tr>\n",
       "      <th>100</th>\n",
       "      <td>100 and over  . . . . . . . . . . . . . . . . ...</td>\n",
       "      <td>1.000000</td>\n",
       "      <td>1,935</td>\n",
       "      <td>1,935</td>\n",
       "      <td>4,330</td>\n",
       "      <td>4,330</td>\n",
       "      <td>2.2</td>\n",
       "    </tr>\n",
       "  </tbody>\n",
       "</table>\n",
       "</div>"
      ],
      "text/plain": [
       "2                                          Age (years)        qx     lx  \\\n",
       "96   96–97  . . . . . . . . . . . . . . . . . . . ....  0.247715  7,175   \n",
       "97   97–98  . . . . . . . . . . . . . . . . . . . ....  0.268255  5,398   \n",
       "98   98–99  . . . . . . . . . . . . . . . . . . . ....  0.289322  3,950   \n",
       "99   99–100  . . . . . . . . . . . . . . . . . . . ...  0.310753  2,807   \n",
       "100  100 and over  . . . . . . . . . . . . . . . . ...  1.000000  1,935   \n",
       "\n",
       "2       dx     Lx      Tx   ex  \n",
       "96   1,777  6,286  21,040  2.9  \n",
       "97   1,448  4,674  14,753  2.7  \n",
       "98   1,143  3,378  10,079  2.6  \n",
       "99     872  2,371   6,701  2.4  \n",
       "100  1,935  4,330   4,330  2.2  "
      ]
     },
     "execution_count": 51,
     "metadata": {},
     "output_type": "execute_result"
    }
   ],
   "source": [
    "df.tail()"
   ]
  },
  {
   "cell_type": "markdown",
   "metadata": {},
   "source": []
  },
  {
   "cell_type": "code",
   "execution_count": 53,
   "metadata": {},
   "outputs": [],
   "source": [
    "qx = df['qx'].astype(float)"
   ]
  },
  {
   "cell_type": "markdown",
   "metadata": {},
   "source": []
  },
  {
   "cell_type": "code",
   "execution_count": 54,
   "metadata": {},
   "outputs": [
    {
     "data": {
      "text/plain": [
       "<matplotlib.axes._subplots.AxesSubplot at 0x7f086c7d2240>"
      ]
     },
     "execution_count": 54,
     "metadata": {},
     "output_type": "execute_result"
    },
    {
     "data": {
      "image/png": "[encoded data removed]",
      "text/plain": [
       "<Figure size 432x288 with 1 Axes>"
      ]
     },
     "metadata": {
      "needs_background": "light"
     },
     "output_type": "display_data"
    }
   ],
   "source": [
    "qx.plot()"
   ]
  },
  {
   "cell_type": "markdown",
   "metadata": {},
   "source": []
  },
  {
   "cell_type": "code",
   "execution_count": 55,
   "metadata": {},
   "outputs": [
    {
     "data": {
      "text/plain": [
       "0      0.005894\n",
       "1      0.000403\n",
       "2      0.000252\n",
       "3      0.000193\n",
       "4      0.000145\n",
       "5      0.000143\n",
       "6      0.000128\n",
       "7      0.000116\n",
       "8      0.000104\n",
       "9      0.000095\n",
       "10     0.000091\n",
       "11     0.000098\n",
       "12     0.000125\n",
       "13     0.000174\n",
       "14     0.000241\n",
       "15     0.000314\n",
       "16     0.000388\n",
       "17     0.000473\n",
       "18     0.000566\n",
       "19     0.000660\n",
       "20     0.000757\n",
       "21     0.000846\n",
       "22     0.000914\n",
       "23     0.000958\n",
       "24     0.000984\n",
       "25     0.001004\n",
       "26     0.001028\n",
       "27     0.001056\n",
       "28     0.001094\n",
       "29     0.001138\n",
       "         ...   \n",
       "71     0.020689\n",
       "72     0.022709\n",
       "73     0.024795\n",
       "74     0.027078\n",
       "75     0.029614\n",
       "76     0.032507\n",
       "77     0.035786\n",
       "78     0.039616\n",
       "79     0.044017\n",
       "80     0.048899\n",
       "81     0.054283\n",
       "82     0.060367\n",
       "83     0.066954\n",
       "84     0.074533\n",
       "85     0.082695\n",
       "86     0.092575\n",
       "87     0.103427\n",
       "88     0.115296\n",
       "89     0.128216\n",
       "90     0.142211\n",
       "91     0.157287\n",
       "92     0.173433\n",
       "93     0.190616\n",
       "94     0.208781\n",
       "95     0.227849\n",
       "96     0.247715\n",
       "97     0.268255\n",
       "98     0.289322\n",
       "99     0.310753\n",
       "100    1.000000\n",
       "Name: qx, Length: 101, dtype: float64"
      ]
     },
     "execution_count": 55,
     "metadata": {},
     "output_type": "execute_result"
    }
   ],
   "source": [
    "qx"
   ]
  },
  {
   "cell_type": "markdown",
   "metadata": {},
   "source": []
  },
  {
   "cell_type": "code",
   "execution_count": 57,
   "metadata": {},
   "outputs": [],
   "source": [
    "qx.to_csv('data/us_life_tables_2015.csv', header=True)"
   ]
  },
  {
   "cell_type": "markdown",
   "metadata": {},
   "source": []
  },
  {
   "cell_type": "code",
   "execution_count": null,
   "metadata": {},
   "outputs": [],
   "source": []
  }
 ],
 "metadata": {
  "kernelspec": {
   "display_name": "Python 3",
   "language": "python",
   "name": "python3"
  },
  "language_info": {
   "codemirror_mode": {
    "name": "ipython",
    "version": 3
   },
   "file_extension": ".py",
   "mimetype": "text/x-python",
   "name": "python",
   "nbconvert_exporter": "python",
   "pygments_lexer": "ipython3",
   "version": "3.7.3"
  }
 },
 "nbformat": 4,
 "nbformat_minor": 2
}
