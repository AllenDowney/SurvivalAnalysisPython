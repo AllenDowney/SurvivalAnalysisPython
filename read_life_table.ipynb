{
 "cells": [
  {
   "cell_type": "code",
   "execution_count": 1,
   "metadata": {},
   "outputs": [],
   "source": [
    "%matplotlib inline\n",
    "\n",
    "# conda install -c conda-forge tabula-py\n",
    "\n",
    "from tabula import read_pdf\n",
    "import pandas as pd"
   ]
  },
  {
   "cell_type": "markdown",
   "metadata": {},
   "source": [
    "This notebook contains code to read the tables from [National Center for Health Statistics](https://www.cdc.gov/nchs/products/life_tables.htm), specifically [United States Life Tables, 2015. NVSR Volume 67, Number 7. 64pp. (PHS) 2019-1120.](https://www.cdc.gov/nchs/data/nvsr/nvsr67/nvsr67_07-508.pdf)\n",
    "\n",
    "The following function reads a page from the PDF file and converts it to a Pandas DataFrame."
   ]
  },
  {
   "cell_type": "code",
   "execution_count": 2,
   "metadata": {},
   "outputs": [],
   "source": [
    "def read_page(pages):\n",
    "    pandas_options = dict(thousands=',')\n",
    "    df = read_pdf('data/nvsr67_07-508.pdf', pages=pages, pandas_options=pandas_options)\n",
    "    df.columns = df.loc[2]\n",
    "    df.drop([0,1,2], inplace=True)\n",
    "    return df"
   ]
  },
  {
   "cell_type": "markdown",
   "metadata": {},
   "source": []
  },
  {
   "cell_type": "code",
   "execution_count": 3,
   "metadata": {},
   "outputs": [],
   "source": [
    "df1 = read_page(9)"
   ]
  },
  {
   "cell_type": "markdown",
   "metadata": {},
   "source": []
  },
  {
   "cell_type": "code",
   "execution_count": 4,
   "metadata": {},
   "outputs": [
    {
     "data": {
      "text/html": [
       "<div>\n",
       "<style scoped>\n",
       "    .dataframe tbody tr th:only-of-type {\n",
       "        vertical-align: middle;\n",
       "    }\n",
       "\n",
       "    .dataframe tbody tr th {\n",
       "        vertical-align: top;\n",
       "    }\n",
       "\n",
       "    .dataframe thead th {\n",
       "        text-align: right;\n",
       "    }\n",
       "</style>\n",
       "<table border=\"1\" class=\"dataframe\">\n",
       "  <thead>\n",
       "    <tr style=\"text-align: right;\">\n",
       "      <th>2</th>\n",
       "      <th>Age (years)</th>\n",
       "      <th>qx</th>\n",
       "      <th>lx</th>\n",
       "      <th>dx</th>\n",
       "      <th>Lx</th>\n",
       "      <th>Tx</th>\n",
       "      <th>ex</th>\n",
       "    </tr>\n",
       "  </thead>\n",
       "  <tbody>\n",
       "    <tr>\n",
       "      <th>3</th>\n",
       "      <td>61–62  . . . . . . . . . . . . . . . . . . . ....</td>\n",
       "      <td>0.009652</td>\n",
       "      <td>87,763</td>\n",
       "      <td>847</td>\n",
       "      <td>87,339</td>\n",
       "      <td>1,968,648</td>\n",
       "      <td>22.4</td>\n",
       "    </tr>\n",
       "    <tr>\n",
       "      <th>4</th>\n",
       "      <td>62–63  . . . . . . . . . . . . . . . . . . . ....</td>\n",
       "      <td>0.010353</td>\n",
       "      <td>86,915</td>\n",
       "      <td>900</td>\n",
       "      <td>86,466</td>\n",
       "      <td>1,881,309</td>\n",
       "      <td>21.6</td>\n",
       "    </tr>\n",
       "    <tr>\n",
       "      <th>5</th>\n",
       "      <td>63–64  . . . . . . . . . . . . . . . . . . . ....</td>\n",
       "      <td>0.011081</td>\n",
       "      <td>86,016</td>\n",
       "      <td>953</td>\n",
       "      <td>85,539</td>\n",
       "      <td>1,794,843</td>\n",
       "      <td>20.9</td>\n",
       "    </tr>\n",
       "    <tr>\n",
       "      <th>6</th>\n",
       "      <td>64–65  . . . . . . . . . . . . . . . . . . . ....</td>\n",
       "      <td>0.011838</td>\n",
       "      <td>85,062</td>\n",
       "      <td>1,007</td>\n",
       "      <td>84,559</td>\n",
       "      <td>1,709,304</td>\n",
       "      <td>20.1</td>\n",
       "    </tr>\n",
       "    <tr>\n",
       "      <th>7</th>\n",
       "      <td>65–66  . . . . . . . . . . . . . . . . . . . ....</td>\n",
       "      <td>0.012634</td>\n",
       "      <td>84,055</td>\n",
       "      <td>1,062</td>\n",
       "      <td>83,524</td>\n",
       "      <td>1,624,745</td>\n",
       "      <td>19.3</td>\n",
       "    </tr>\n",
       "  </tbody>\n",
       "</table>\n",
       "</div>"
      ],
      "text/plain": [
       "2                                        Age (years)        qx      lx     dx  \\\n",
       "3  61–62  . . . . . . . . . . . . . . . . . . . ....  0.009652  87,763    847   \n",
       "4  62–63  . . . . . . . . . . . . . . . . . . . ....  0.010353  86,915    900   \n",
       "5  63–64  . . . . . . . . . . . . . . . . . . . ....  0.011081  86,016    953   \n",
       "6  64–65  . . . . . . . . . . . . . . . . . . . ....  0.011838  85,062  1,007   \n",
       "7  65–66  . . . . . . . . . . . . . . . . . . . ....  0.012634  84,055  1,062   \n",
       "\n",
       "2      Lx         Tx    ex  \n",
       "3  87,339  1,968,648  22.4  \n",
       "4  86,466  1,881,309  21.6  \n",
       "5  85,539  1,794,843  20.9  \n",
       "6  84,559  1,709,304  20.1  \n",
       "7  83,524  1,624,745  19.3  "
      ]
     },
     "execution_count": 4,
     "metadata": {},
     "output_type": "execute_result"
    }
   ],
   "source": [
    "df2 = read_page(10)\n",
    "df2.head()"
   ]
  },
  {
   "cell_type": "markdown",
   "metadata": {},
   "source": []
  },
  {
   "cell_type": "code",
   "execution_count": 5,
   "metadata": {},
   "outputs": [
    {
     "data": {
      "text/html": [
       "<div>\n",
       "<style scoped>\n",
       "    .dataframe tbody tr th:only-of-type {\n",
       "        vertical-align: middle;\n",
       "    }\n",
       "\n",
       "    .dataframe tbody tr th {\n",
       "        vertical-align: top;\n",
       "    }\n",
       "\n",
       "    .dataframe thead th {\n",
       "        text-align: right;\n",
       "    }\n",
       "</style>\n",
       "<table border=\"1\" class=\"dataframe\">\n",
       "  <thead>\n",
       "    <tr style=\"text-align: right;\">\n",
       "      <th>2</th>\n",
       "      <th>Age (years)</th>\n",
       "      <th>qx</th>\n",
       "      <th>lx</th>\n",
       "      <th>dx</th>\n",
       "      <th>Lx</th>\n",
       "      <th>Tx</th>\n",
       "      <th>ex</th>\n",
       "    </tr>\n",
       "  </thead>\n",
       "  <tbody>\n",
       "    <tr>\n",
       "      <th>0</th>\n",
       "      <td>0–1  . . . . . . . . . . . . . . . . . . . . ....</td>\n",
       "      <td>0.005894</td>\n",
       "      <td>100,000</td>\n",
       "      <td>589</td>\n",
       "      <td>99,483</td>\n",
       "      <td>7,872,239</td>\n",
       "      <td>78.7</td>\n",
       "    </tr>\n",
       "    <tr>\n",
       "      <th>1</th>\n",
       "      <td>1–2  . . . . . . . . . . . . . . . . . . . . ....</td>\n",
       "      <td>0.000403</td>\n",
       "      <td>99,411</td>\n",
       "      <td>40</td>\n",
       "      <td>99,391</td>\n",
       "      <td>7,772,756</td>\n",
       "      <td>78.2</td>\n",
       "    </tr>\n",
       "    <tr>\n",
       "      <th>2</th>\n",
       "      <td>2–3  . . . . . . . . . . . . . . . . . . . . ....</td>\n",
       "      <td>0.000252</td>\n",
       "      <td>99,371</td>\n",
       "      <td>25</td>\n",
       "      <td>99,358</td>\n",
       "      <td>7,673,366</td>\n",
       "      <td>77.2</td>\n",
       "    </tr>\n",
       "    <tr>\n",
       "      <th>3</th>\n",
       "      <td>3–4  . . . . . . . . . . . . . . . . . . . . ....</td>\n",
       "      <td>0.000193</td>\n",
       "      <td>99,345</td>\n",
       "      <td>19</td>\n",
       "      <td>99,336</td>\n",
       "      <td>7,574,008</td>\n",
       "      <td>76.2</td>\n",
       "    </tr>\n",
       "    <tr>\n",
       "      <th>4</th>\n",
       "      <td>4–5  . . . . . . . . . . . . . . . . . . . . ....</td>\n",
       "      <td>0.000145</td>\n",
       "      <td>99,326</td>\n",
       "      <td>14</td>\n",
       "      <td>99,319</td>\n",
       "      <td>7,474,672</td>\n",
       "      <td>75.3</td>\n",
       "    </tr>\n",
       "  </tbody>\n",
       "</table>\n",
       "</div>"
      ],
      "text/plain": [
       "2                                        Age (years)        qx       lx   dx  \\\n",
       "0  0–1  . . . . . . . . . . . . . . . . . . . . ....  0.005894  100,000  589   \n",
       "1  1–2  . . . . . . . . . . . . . . . . . . . . ....  0.000403   99,411   40   \n",
       "2  2–3  . . . . . . . . . . . . . . . . . . . . ....  0.000252   99,371   25   \n",
       "3  3–4  . . . . . . . . . . . . . . . . . . . . ....  0.000193   99,345   19   \n",
       "4  4–5  . . . . . . . . . . . . . . . . . . . . ....  0.000145   99,326   14   \n",
       "\n",
       "2      Lx         Tx    ex  \n",
       "0  99,483  7,872,239  78.7  \n",
       "1  99,391  7,772,756  78.2  \n",
       "2  99,358  7,673,366  77.2  \n",
       "3  99,336  7,574,008  76.2  \n",
       "4  99,319  7,474,672  75.3  "
      ]
     },
     "execution_count": 5,
     "metadata": {},
     "output_type": "execute_result"
    }
   ],
   "source": [
    "df = pd.concat([df1, df2], ignore_index=True)\n",
    "df.head()"
   ]
  },
  {
   "cell_type": "markdown",
   "metadata": {},
   "source": []
  },
  {
   "cell_type": "code",
   "execution_count": 6,
   "metadata": {},
   "outputs": [
    {
     "data": {
      "text/html": [
       "<div>\n",
       "<style scoped>\n",
       "    .dataframe tbody tr th:only-of-type {\n",
       "        vertical-align: middle;\n",
       "    }\n",
       "\n",
       "    .dataframe tbody tr th {\n",
       "        vertical-align: top;\n",
       "    }\n",
       "\n",
       "    .dataframe thead th {\n",
       "        text-align: right;\n",
       "    }\n",
       "</style>\n",
       "<table border=\"1\" class=\"dataframe\">\n",
       "  <thead>\n",
       "    <tr style=\"text-align: right;\">\n",
       "      <th>2</th>\n",
       "      <th>Age (years)</th>\n",
       "      <th>qx</th>\n",
       "      <th>lx</th>\n",
       "      <th>dx</th>\n",
       "      <th>Lx</th>\n",
       "      <th>Tx</th>\n",
       "      <th>ex</th>\n",
       "    </tr>\n",
       "  </thead>\n",
       "  <tbody>\n",
       "    <tr>\n",
       "      <th>96</th>\n",
       "      <td>96–97  . . . . . . . . . . . . . . . . . . . ....</td>\n",
       "      <td>0.247715</td>\n",
       "      <td>7,175</td>\n",
       "      <td>1,777</td>\n",
       "      <td>6,286</td>\n",
       "      <td>21,040</td>\n",
       "      <td>2.9</td>\n",
       "    </tr>\n",
       "    <tr>\n",
       "      <th>97</th>\n",
       "      <td>97–98  . . . . . . . . . . . . . . . . . . . ....</td>\n",
       "      <td>0.268255</td>\n",
       "      <td>5,398</td>\n",
       "      <td>1,448</td>\n",
       "      <td>4,674</td>\n",
       "      <td>14,753</td>\n",
       "      <td>2.7</td>\n",
       "    </tr>\n",
       "    <tr>\n",
       "      <th>98</th>\n",
       "      <td>98–99  . . . . . . . . . . . . . . . . . . . ....</td>\n",
       "      <td>0.289322</td>\n",
       "      <td>3,950</td>\n",
       "      <td>1,143</td>\n",
       "      <td>3,378</td>\n",
       "      <td>10,079</td>\n",
       "      <td>2.6</td>\n",
       "    </tr>\n",
       "    <tr>\n",
       "      <th>99</th>\n",
       "      <td>99–100  . . . . . . . . . . . . . . . . . . . ...</td>\n",
       "      <td>0.310753</td>\n",
       "      <td>2,807</td>\n",
       "      <td>872</td>\n",
       "      <td>2,371</td>\n",
       "      <td>6,701</td>\n",
       "      <td>2.4</td>\n",
       "    </tr>\n",
       "    <tr>\n",
       "      <th>100</th>\n",
       "      <td>100 and over  . . . . . . . . . . . . . . . . ...</td>\n",
       "      <td>1.000000</td>\n",
       "      <td>1,935</td>\n",
       "      <td>1,935</td>\n",
       "      <td>4,330</td>\n",
       "      <td>4,330</td>\n",
       "      <td>2.2</td>\n",
       "    </tr>\n",
       "  </tbody>\n",
       "</table>\n",
       "</div>"
      ],
      "text/plain": [
       "2                                          Age (years)        qx     lx  \\\n",
       "96   96–97  . . . . . . . . . . . . . . . . . . . ....  0.247715  7,175   \n",
       "97   97–98  . . . . . . . . . . . . . . . . . . . ....  0.268255  5,398   \n",
       "98   98–99  . . . . . . . . . . . . . . . . . . . ....  0.289322  3,950   \n",
       "99   99–100  . . . . . . . . . . . . . . . . . . . ...  0.310753  2,807   \n",
       "100  100 and over  . . . . . . . . . . . . . . . . ...  1.000000  1,935   \n",
       "\n",
       "2       dx     Lx      Tx   ex  \n",
       "96   1,777  6,286  21,040  2.9  \n",
       "97   1,448  4,674  14,753  2.7  \n",
       "98   1,143  3,378  10,079  2.6  \n",
       "99     872  2,371   6,701  2.4  \n",
       "100  1,935  4,330   4,330  2.2  "
      ]
     },
     "execution_count": 6,
     "metadata": {},
     "output_type": "execute_result"
    }
   ],
   "source": [
    "df.tail()"
   ]
  },
  {
   "cell_type": "code",
   "execution_count": 7,
   "metadata": {},
   "outputs": [],
   "source": [
    "df.to_csv('data/nvsr67_07-508.csv', index=False)"
   ]
  },
  {
   "cell_type": "code",
   "execution_count": 8,
   "metadata": {},
   "outputs": [
    {
     "data": {
      "text/html": [
       "<div>\n",
       "<style scoped>\n",
       "    .dataframe tbody tr th:only-of-type {\n",
       "        vertical-align: middle;\n",
       "    }\n",
       "\n",
       "    .dataframe tbody tr th {\n",
       "        vertical-align: top;\n",
       "    }\n",
       "\n",
       "    .dataframe thead th {\n",
       "        text-align: right;\n",
       "    }\n",
       "</style>\n",
       "<table border=\"1\" class=\"dataframe\">\n",
       "  <thead>\n",
       "    <tr style=\"text-align: right;\">\n",
       "      <th></th>\n",
       "      <th>Age (years)</th>\n",
       "      <th>qx</th>\n",
       "      <th>lx</th>\n",
       "      <th>dx</th>\n",
       "      <th>Lx</th>\n",
       "      <th>Tx</th>\n",
       "      <th>ex</th>\n",
       "    </tr>\n",
       "  </thead>\n",
       "  <tbody>\n",
       "    <tr>\n",
       "      <th>1</th>\n",
       "      <td>0–1  . . . . . . . . . . . . . . . . . . . . ....</td>\n",
       "      <td>0.005894</td>\n",
       "      <td>100000</td>\n",
       "      <td>589</td>\n",
       "      <td>99483</td>\n",
       "      <td>7872239</td>\n",
       "      <td>78.7</td>\n",
       "    </tr>\n",
       "    <tr>\n",
       "      <th>2</th>\n",
       "      <td>1–2  . . . . . . . . . . . . . . . . . . . . ....</td>\n",
       "      <td>0.000403</td>\n",
       "      <td>99411</td>\n",
       "      <td>40</td>\n",
       "      <td>99391</td>\n",
       "      <td>7772756</td>\n",
       "      <td>78.2</td>\n",
       "    </tr>\n",
       "    <tr>\n",
       "      <th>3</th>\n",
       "      <td>2–3  . . . . . . . . . . . . . . . . . . . . ....</td>\n",
       "      <td>0.000252</td>\n",
       "      <td>99371</td>\n",
       "      <td>25</td>\n",
       "      <td>99358</td>\n",
       "      <td>7673366</td>\n",
       "      <td>77.2</td>\n",
       "    </tr>\n",
       "    <tr>\n",
       "      <th>4</th>\n",
       "      <td>3–4  . . . . . . . . . . . . . . . . . . . . ....</td>\n",
       "      <td>0.000193</td>\n",
       "      <td>99345</td>\n",
       "      <td>19</td>\n",
       "      <td>99336</td>\n",
       "      <td>7574008</td>\n",
       "      <td>76.2</td>\n",
       "    </tr>\n",
       "    <tr>\n",
       "      <th>5</th>\n",
       "      <td>4–5  . . . . . . . . . . . . . . . . . . . . ....</td>\n",
       "      <td>0.000145</td>\n",
       "      <td>99326</td>\n",
       "      <td>14</td>\n",
       "      <td>99319</td>\n",
       "      <td>7474672</td>\n",
       "      <td>75.3</td>\n",
       "    </tr>\n",
       "  </tbody>\n",
       "</table>\n",
       "</div>"
      ],
      "text/plain": [
       "                                         Age (years)        qx      lx   dx  \\\n",
       "1  0–1  . . . . . . . . . . . . . . . . . . . . ....  0.005894  100000  589   \n",
       "2  1–2  . . . . . . . . . . . . . . . . . . . . ....  0.000403   99411   40   \n",
       "3  2–3  . . . . . . . . . . . . . . . . . . . . ....  0.000252   99371   25   \n",
       "4  3–4  . . . . . . . . . . . . . . . . . . . . ....  0.000193   99345   19   \n",
       "5  4–5  . . . . . . . . . . . . . . . . . . . . ....  0.000145   99326   14   \n",
       "\n",
       "      Lx       Tx    ex  \n",
       "1  99483  7872239  78.7  \n",
       "2  99391  7772756  78.2  \n",
       "3  99358  7673366  77.2  \n",
       "4  99336  7574008  76.2  \n",
       "5  99319  7474672  75.3  "
      ]
     },
     "execution_count": 8,
     "metadata": {},
     "output_type": "execute_result"
    }
   ],
   "source": [
    "df = pd.read_csv('data/nvsr67_07-508.csv', thousands=',')\n",
    "df.index += 1\n",
    "df.head()"
   ]
  },
  {
   "cell_type": "code",
   "execution_count": 9,
   "metadata": {},
   "outputs": [
    {
     "data": {
      "text/plain": [
       "count    101.000000\n",
       "mean       0.045402\n",
       "std        0.118265\n",
       "min        0.000091\n",
       "25%        0.001028\n",
       "50%        0.004481\n",
       "75%        0.029614\n",
       "max        1.000000\n",
       "Name: qx, dtype: float64"
      ]
     },
     "execution_count": 9,
     "metadata": {},
     "output_type": "execute_result"
    }
   ],
   "source": [
    "df['qx'].describe()"
   ]
  },
  {
   "cell_type": "markdown",
   "metadata": {},
   "source": []
  },
  {
   "cell_type": "code",
   "execution_count": 10,
   "metadata": {},
   "outputs": [
    {
     "data": {
      "text/plain": [
       "<matplotlib.axes._subplots.AxesSubplot at 0x7f7040a4a3c8>"
      ]
     },
     "execution_count": 10,
     "metadata": {},
     "output_type": "execute_result"
    },
    {
     "data": {
      "image/png": "[encoded data removed]",
      "text/plain": [
       "<Figure size 432x288 with 1 Axes>"
      ]
     },
     "metadata": {
      "needs_background": "light"
     },
     "output_type": "display_data"
    }
   ],
   "source": [
    "df['qx'].plot()"
   ]
  },
  {
   "cell_type": "markdown",
   "metadata": {},
   "source": []
  },
  {
   "cell_type": "code",
   "execution_count": 11,
   "metadata": {},
   "outputs": [
    {
     "data": {
      "text/plain": [
       "count       101.000000\n",
       "mean      78406.910891\n",
       "std       29424.301281\n",
       "min        1935.000000\n",
       "25%       69559.000000\n",
       "50%       94158.000000\n",
       "75%       98503.000000\n",
       "max      100000.000000\n",
       "Name: lx, dtype: float64"
      ]
     },
     "execution_count": 11,
     "metadata": {},
     "output_type": "execute_result"
    }
   ],
   "source": [
    "df['lx'].describe()"
   ]
  },
  {
   "cell_type": "markdown",
   "metadata": {},
   "source": []
  },
  {
   "cell_type": "code",
   "execution_count": 12,
   "metadata": {
    "scrolled": true
   },
   "outputs": [
    {
     "data": {
      "text/plain": [
       "<matplotlib.axes._subplots.AxesSubplot at 0x7f7040970048>"
      ]
     },
     "execution_count": 12,
     "metadata": {},
     "output_type": "execute_result"
    },
    {
     "data": {
      "image/png": "[encoded data removed]",
      "text/plain": [
       "<Figure size 432x288 with 1 Axes>"
      ]
     },
     "metadata": {
      "needs_background": "light"
     },
     "output_type": "display_data"
    }
   ],
   "source": [
    "df['lx'].plot()"
   ]
  },
  {
   "cell_type": "code",
   "execution_count": 13,
   "metadata": {},
   "outputs": [
    {
     "data": {
      "text/plain": [
       "count     101.000000\n",
       "mean      990.089109\n",
       "std      1155.804785\n",
       "min         9.000000\n",
       "25%       101.000000\n",
       "50%       420.000000\n",
       "75%      1704.000000\n",
       "max      3632.000000\n",
       "Name: dx, dtype: float64"
      ]
     },
     "execution_count": 13,
     "metadata": {},
     "output_type": "execute_result"
    }
   ],
   "source": [
    "df['dx'].describe()"
   ]
  },
  {
   "cell_type": "markdown",
   "metadata": {},
   "source": []
  },
  {
   "cell_type": "code",
   "execution_count": 14,
   "metadata": {
    "scrolled": true
   },
   "outputs": [
    {
     "data": {
      "text/plain": [
       "<matplotlib.axes._subplots.AxesSubplot at 0x7f704095c630>"
      ]
     },
     "execution_count": 14,
     "metadata": {},
     "output_type": "execute_result"
    },
    {
     "data": {
      "image/png": "[encoded data removed]",
      "text/plain": [
       "<Figure size 432x288 with 1 Axes>"
      ]
     },
     "metadata": {
      "needs_background": "light"
     },
     "output_type": "display_data"
    }
   ],
   "source": [
    "df['dx'].plot()"
   ]
  },
  {
   "cell_type": "code",
   "execution_count": 15,
   "metadata": {},
   "outputs": [
    {
     "data": {
      "text/plain": [
       "count      101.000000\n",
       "mean     77942.990099\n",
       "std      29802.903640\n",
       "min       2371.000000\n",
       "25%      68529.000000\n",
       "50%      93965.000000\n",
       "75%      98454.000000\n",
       "max      99483.000000\n",
       "Name: Lx, dtype: float64"
      ]
     },
     "execution_count": 15,
     "metadata": {},
     "output_type": "execute_result"
    }
   ],
   "source": [
    "df['Lx'].describe()"
   ]
  },
  {
   "cell_type": "markdown",
   "metadata": {},
   "source": []
  },
  {
   "cell_type": "code",
   "execution_count": 16,
   "metadata": {
    "scrolled": true
   },
   "outputs": [
    {
     "data": {
      "text/plain": [
       "<matplotlib.axes._subplots.AxesSubplot at 0x7f70408c2b70>"
      ]
     },
     "execution_count": 16,
     "metadata": {},
     "output_type": "execute_result"
    },
    {
     "data": {
      "image/png": "[encoded data removed]",
      "text/plain": [
       "<Figure size 432x288 with 1 Axes>"
      ]
     },
     "metadata": {
      "needs_background": "light"
     },
     "output_type": "display_data"
    }
   ],
   "source": [
    "df['Lx'].plot()"
   ]
  },
  {
   "cell_type": "code",
   "execution_count": 17,
   "metadata": {},
   "outputs": [
    {
     "data": {
      "text/plain": [
       "count    1.010000e+02\n",
       "mean     3.241379e+06\n",
       "std      2.509621e+06\n",
       "min      4.330000e+03\n",
       "25%      8.484750e+05\n",
       "50%      2.973738e+06\n",
       "75%      5.393758e+06\n",
       "max      7.872239e+06\n",
       "Name: Tx, dtype: float64"
      ]
     },
     "execution_count": 17,
     "metadata": {},
     "output_type": "execute_result"
    }
   ],
   "source": [
    "df['Tx'].describe()"
   ]
  },
  {
   "cell_type": "markdown",
   "metadata": {},
   "source": []
  },
  {
   "cell_type": "code",
   "execution_count": 18,
   "metadata": {
    "scrolled": true
   },
   "outputs": [
    {
     "data": {
      "text/plain": [
       "<matplotlib.axes._subplots.AxesSubplot at 0x7f704089dfd0>"
      ]
     },
     "execution_count": 18,
     "metadata": {},
     "output_type": "execute_result"
    },
    {
     "data": {
      "image/png": "[encoded data removed]",
      "text/plain": [
       "<Figure size 432x288 with 1 Axes>"
      ]
     },
     "metadata": {
      "needs_background": "light"
     },
     "output_type": "display_data"
    }
   ],
   "source": [
    "df['Tx'].plot()"
   ]
  },
  {
   "cell_type": "code",
   "execution_count": 19,
   "metadata": {},
   "outputs": [
    {
     "data": {
      "text/plain": [
       "count    101.000000\n",
       "mean      34.423762\n",
       "std       23.948011\n",
       "min        2.200000\n",
       "25%       12.200000\n",
       "50%       31.600000\n",
       "75%       54.800000\n",
       "max       78.700000\n",
       "Name: ex, dtype: float64"
      ]
     },
     "execution_count": 19,
     "metadata": {},
     "output_type": "execute_result"
    }
   ],
   "source": [
    "df['ex'].describe()"
   ]
  },
  {
   "cell_type": "markdown",
   "metadata": {},
   "source": []
  },
  {
   "cell_type": "code",
   "execution_count": 20,
   "metadata": {
    "scrolled": true
   },
   "outputs": [
    {
     "data": {
      "text/plain": [
       "<matplotlib.axes._subplots.AxesSubplot at 0x7f70407f6240>"
      ]
     },
     "execution_count": 20,
     "metadata": {},
     "output_type": "execute_result"
    },
    {
     "data": {
      "image/png": "[encoded data removed]",
      "text/plain": [
       "<Figure size 432x288 with 1 Axes>"
      ]
     },
     "metadata": {
      "needs_background": "light"
     },
     "output_type": "display_data"
    }
   ],
   "source": [
    "df['ex'].plot()"
   ]
  },
  {
   "cell_type": "markdown",
   "metadata": {},
   "source": []
  },
  {
   "cell_type": "code",
   "execution_count": null,
   "metadata": {},
   "outputs": [],
   "source": []
  }
 ],
 "metadata": {
  "kernelspec": {
   "display_name": "Python 3",
   "language": "python",
   "name": "python3"
  },
  "language_info": {
   "codemirror_mode": {
    "name": "ipython",
    "version": 3
   },
   "file_extension": ".py",
   "mimetype": "text/x-python",
   "name": "python",
   "nbconvert_exporter": "python",
   "pygments_lexer": "ipython3",
   "version": "3.7.3"
  }
 },
 "nbformat": 4,
 "nbformat_minor": 2
}
